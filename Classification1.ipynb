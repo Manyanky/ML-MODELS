{
 "cells": [
  {
   "cell_type": "code",
   "execution_count": 2,
   "metadata": {},
   "outputs": [
    {
     "name": "stdout",
     "output_type": "stream",
     "text": [
      "    Car;MPG;Cylinders;Displacement;Horsepower;Weight;Acceleration;Model;Origin\n",
      "0    STRING;DOUBLE;INT;DOUBLE;DOUBLE;DOUBLE;DOUBLE;...                        \n",
      "1    Chevrolet Chevelle Malibu;18.0;8;307.0;130.0;3...                        \n",
      "2    Buick Skylark 320;15.0;8;350.0;165.0;3693.;11....                        \n",
      "3    Plymouth Satellite;18.0;8;318.0;150.0;3436.;11...                        \n",
      "4    AMC Rebel SST;16.0;8;304.0;150.0;3433.;12.0;70;US                        \n",
      "5      Ford Torino;17.0;8;302.0;140.0;3449.;10.5;70;US                        \n",
      "6    Ford Galaxie 500;15.0;8;429.0;198.0;4341.;10.0...                        \n",
      "7    Chevrolet Impala;14.0;8;454.0;220.0;4354.;9.0;...                        \n",
      "8    Plymouth Fury iii;14.0;8;440.0;215.0;4312.;8.5...                        \n",
      "9    Pontiac Catalina;14.0;8;455.0;225.0;4425.;10.0...                        \n",
      "10   AMC Ambassador DPL;15.0;8;390.0;190.0;3850.;8....                        \n",
      "11   Citroen DS-21 Pallas;0;4;133.0;115.0;3090.;17....                        \n",
      "12   Chevrolet Chevelle Concours (sw);0;8;350.0;165...                        \n",
      "13   Ford Torino (sw);0;8;351.0;153.0;4034.;11.0;70;US                        \n",
      "14   Plymouth Satellite (sw);0;8;383.0;175.0;4166.;...                        \n",
      "15   AMC Rebel SST (sw);0;8;360.0;175.0;3850.;11.0;...                        \n",
      "16   Dodge Challenger SE;15.0;8;383.0;170.0;3563.;1...                        \n",
      "17   Plymouth 'Cuda 340;14.0;8;340.0;160.0;3609.;8....                        \n",
      "18   Ford Mustang Boss 302;0;8;302.0;140.0;3353.;8....                        \n",
      "19   Chevrolet Monte Carlo;15.0;8;400.0;150.0;3761....                        \n",
      "20   Buick Estate Wagon (sw);14.0;8;455.0;225.0;308...                        \n",
      "21   Toyota Corolla Mark ii;24.0;4;113.0;95.00;2372...                        \n",
      "22   Plymouth Duster;22.0;6;198.0;95.00;2833.;15.5;...                        \n",
      "23      AMC Hornet;18.0;6;199.0;97.00;2774.;15.5;70;US                        \n",
      "24   Ford Maverick;21.0;6;200.0;85.00;2587.;16.0;70;US                        \n",
      "25   Datsun PL510;27.0;4;97.00;88.00;2130.;14.5;70;...                        \n",
      "26   Volkswagen 1131 Deluxe Sedan;26.0;4;97.00;46.0...                        \n",
      "27   Peugeot 504;25.0;4;110.0;87.00;2672.;17.5;70;E...                        \n",
      "28   Audi 100 LS;24.0;4;107.0;90.00;2430.;14.5;70;E...                        \n",
      "29    Saab 99e;25.0;4;104.0;95.00;2375.;17.5;70;Europe                        \n",
      "..                                                 ...                        \n",
      "377  Chevrolet Cavalier Wagon;27.0;4;112.0;88.00;26...                        \n",
      "378  Chevrolet Cavalier 2-door;34.0;4;112.0;88.00;2...                        \n",
      "379  Pontiac J2000 SE Hatchback;31.0;4;112.0;85.00;...                        \n",
      "380  Dodge Aries SE;29.0;4;135.0;84.00;2525.;16.0;8...                        \n",
      "381  Pontiac Phoenix;27.0;4;151.0;90.00;2735.;18.0;...                        \n",
      "382  Ford Fairmont Futura;24.0;4;140.0;92.00;2865.;...                        \n",
      "383     AMC Concord DL;23.0;4;151.0;0;3035.;20.5;82;US                        \n",
      "384  Volkswagen Rabbit l;36.0;4;105.0;74.00;1980.;1...                        \n",
      "385  Mazda GLC Custom l;37.0;4;91.00;68.00;2025.;18...                        \n",
      "386  Mazda GLC Custom;31.0;4;91.00;68.00;1970.;17.6...                        \n",
      "387  Plymouth Horizon Miser;38.0;4;105.0;63.00;2125...                        \n",
      "388  Mercury Lynx l;36.0;4;98.00;70.00;2125.;17.3;8...                        \n",
      "389  Nissan Stanza XE;36.0;4;120.0;88.00;2160.;14.5...                        \n",
      "390  Honda Accord;36.0;4;107.0;75.00;2205.;14.5;82;...                        \n",
      "391  Toyota Corolla;34.0;4;108.0;70.00;2245;16.9;82...                        \n",
      "392  Honda Civic;38.0;4;91.00;67.00;1965.;15.0;82;J...                        \n",
      "393  Honda Civic (auto);32.0;4;91.00;67.00;1965.;15...                        \n",
      "394  Datsun 310 GX;38.0;4;91.00;67.00;1995.;16.2;82...                        \n",
      "395  Buick Century Limited;25.0;6;181.0;110.0;2945....                        \n",
      "396  Oldsmobile Cutlass Ciera (diesel);38.0;6;262.0...                        \n",
      "397  Chrysler Lebaron Medallion;26.0;4;156.0;92.00;...                        \n",
      "398  Ford Grenada l;22.0;6;232.0;112.0;2835;14.7;82;US                        \n",
      "399  Toyota Celica GT;32.0;4;144.0;96.00;2665.;13.9...                        \n",
      "400  Dodge Charger 2.2;36.0;4;135.0;84.00;2370.;13....                        \n",
      "401  Chevrolet Camaro;27.0;4;151.0;90.00;2950.;17.3...                        \n",
      "402  Ford Mustang GL;27.0;4;140.0;86.00;2790.;15.6;...                        \n",
      "403  Volkswagen Pickup;44.0;4;97.00;52.00;2130.;24....                        \n",
      "404  Dodge Rampage;32.0;4;135.0;84.00;2295.;11.6;82;US                        \n",
      "405    Ford Ranger;28.0;4;120.0;79.00;2625.;18.6;82;US                        \n",
      "406     Chevy S-10;31.0;4;119.0;82.00;2720.;19.4;82;US                        \n",
      "\n",
      "[407 rows x 1 columns]\n",
      "Car;MPG;Cylinders;Displacement;Horsepower;Weight;Acceleration;Model;Origin    0\n",
      "dtype: int64\n"
     ]
    },
    {
     "ename": "KeyError",
     "evalue": "'Horsepower'",
     "output_type": "error",
     "traceback": [
      "\u001b[1;31m---------------------------------------------------------------------------\u001b[0m",
      "\u001b[1;31mKeyError\u001b[0m                                  Traceback (most recent call last)",
      "\u001b[1;32m~\\Anaconda3\\lib\\site-packages\\pandas\\core\\indexes\\base.py\u001b[0m in \u001b[0;36mget_loc\u001b[1;34m(self, key, method, tolerance)\u001b[0m\n\u001b[0;32m   2656\u001b[0m             \u001b[1;32mtry\u001b[0m\u001b[1;33m:\u001b[0m\u001b[1;33m\u001b[0m\u001b[1;33m\u001b[0m\u001b[0m\n\u001b[1;32m-> 2657\u001b[1;33m                 \u001b[1;32mreturn\u001b[0m \u001b[0mself\u001b[0m\u001b[1;33m.\u001b[0m\u001b[0m_engine\u001b[0m\u001b[1;33m.\u001b[0m\u001b[0mget_loc\u001b[0m\u001b[1;33m(\u001b[0m\u001b[0mkey\u001b[0m\u001b[1;33m)\u001b[0m\u001b[1;33m\u001b[0m\u001b[1;33m\u001b[0m\u001b[0m\n\u001b[0m\u001b[0;32m   2658\u001b[0m             \u001b[1;32mexcept\u001b[0m \u001b[0mKeyError\u001b[0m\u001b[1;33m:\u001b[0m\u001b[1;33m\u001b[0m\u001b[1;33m\u001b[0m\u001b[0m\n",
      "\u001b[1;32mpandas/_libs/index.pyx\u001b[0m in \u001b[0;36mpandas._libs.index.IndexEngine.get_loc\u001b[1;34m()\u001b[0m\n",
      "\u001b[1;32mpandas/_libs/index.pyx\u001b[0m in \u001b[0;36mpandas._libs.index.IndexEngine.get_loc\u001b[1;34m()\u001b[0m\n",
      "\u001b[1;32mpandas/_libs/hashtable_class_helper.pxi\u001b[0m in \u001b[0;36mpandas._libs.hashtable.PyObjectHashTable.get_item\u001b[1;34m()\u001b[0m\n",
      "\u001b[1;32mpandas/_libs/hashtable_class_helper.pxi\u001b[0m in \u001b[0;36mpandas._libs.hashtable.PyObjectHashTable.get_item\u001b[1;34m()\u001b[0m\n",
      "\u001b[1;31mKeyError\u001b[0m: 'Horsepower'",
      "\nDuring handling of the above exception, another exception occurred:\n",
      "\u001b[1;31mKeyError\u001b[0m                                  Traceback (most recent call last)",
      "\u001b[1;32m<ipython-input-2-77e5988324cb>\u001b[0m in \u001b[0;36m<module>\u001b[1;34m\u001b[0m\n\u001b[0;32m     10\u001b[0m \u001b[1;33m\u001b[0m\u001b[0m\n\u001b[0;32m     11\u001b[0m \u001b[0mfig\u001b[0m\u001b[1;33m,\u001b[0m \u001b[0max\u001b[0m \u001b[1;33m=\u001b[0m \u001b[0mplt\u001b[0m\u001b[1;33m.\u001b[0m\u001b[0msubplots\u001b[0m\u001b[1;33m(\u001b[0m\u001b[1;33m)\u001b[0m\u001b[1;33m\u001b[0m\u001b[1;33m\u001b[0m\u001b[0m\n\u001b[1;32m---> 12\u001b[1;33m \u001b[0max\u001b[0m\u001b[1;33m.\u001b[0m\u001b[0mhist\u001b[0m\u001b[1;33m(\u001b[0m\u001b[0mdf\u001b[0m\u001b[1;33m[\u001b[0m\u001b[1;34m'Horsepower'\u001b[0m\u001b[1;33m]\u001b[0m\u001b[1;33m,\u001b[0m \u001b[0mcolor\u001b[0m\u001b[1;33m=\u001b[0m\u001b[1;34m'#539caf'\u001b[0m\u001b[1;33m,\u001b[0m \u001b[0mbins\u001b[0m\u001b[1;33m=\u001b[0m\u001b[1;36m30\u001b[0m\u001b[1;33m)\u001b[0m\u001b[1;33m\u001b[0m\u001b[1;33m\u001b[0m\u001b[0m\n\u001b[0m\u001b[0;32m     13\u001b[0m \u001b[0max\u001b[0m\u001b[1;33m.\u001b[0m\u001b[0mset_title\u001b[0m\u001b[1;33m(\u001b[0m\u001b[1;34m\"Distribution  of Cars horsepower Strength\"\u001b[0m\u001b[1;33m)\u001b[0m\u001b[1;33m\u001b[0m\u001b[1;33m\u001b[0m\u001b[0m\n\u001b[0;32m     14\u001b[0m \u001b[0max\u001b[0m\u001b[1;33m.\u001b[0m\u001b[0mset_xlabel\u001b[0m\u001b[1;33m(\u001b[0m\u001b[1;34m\"Horsepower\"\u001b[0m\u001b[1;33m)\u001b[0m\u001b[1;33m\u001b[0m\u001b[1;33m\u001b[0m\u001b[0m\n",
      "\u001b[1;32m~\\Anaconda3\\lib\\site-packages\\pandas\\core\\frame.py\u001b[0m in \u001b[0;36m__getitem__\u001b[1;34m(self, key)\u001b[0m\n\u001b[0;32m   2925\u001b[0m             \u001b[1;32mif\u001b[0m \u001b[0mself\u001b[0m\u001b[1;33m.\u001b[0m\u001b[0mcolumns\u001b[0m\u001b[1;33m.\u001b[0m\u001b[0mnlevels\u001b[0m \u001b[1;33m>\u001b[0m \u001b[1;36m1\u001b[0m\u001b[1;33m:\u001b[0m\u001b[1;33m\u001b[0m\u001b[1;33m\u001b[0m\u001b[0m\n\u001b[0;32m   2926\u001b[0m                 \u001b[1;32mreturn\u001b[0m \u001b[0mself\u001b[0m\u001b[1;33m.\u001b[0m\u001b[0m_getitem_multilevel\u001b[0m\u001b[1;33m(\u001b[0m\u001b[0mkey\u001b[0m\u001b[1;33m)\u001b[0m\u001b[1;33m\u001b[0m\u001b[1;33m\u001b[0m\u001b[0m\n\u001b[1;32m-> 2927\u001b[1;33m             \u001b[0mindexer\u001b[0m \u001b[1;33m=\u001b[0m \u001b[0mself\u001b[0m\u001b[1;33m.\u001b[0m\u001b[0mcolumns\u001b[0m\u001b[1;33m.\u001b[0m\u001b[0mget_loc\u001b[0m\u001b[1;33m(\u001b[0m\u001b[0mkey\u001b[0m\u001b[1;33m)\u001b[0m\u001b[1;33m\u001b[0m\u001b[1;33m\u001b[0m\u001b[0m\n\u001b[0m\u001b[0;32m   2928\u001b[0m             \u001b[1;32mif\u001b[0m \u001b[0mis_integer\u001b[0m\u001b[1;33m(\u001b[0m\u001b[0mindexer\u001b[0m\u001b[1;33m)\u001b[0m\u001b[1;33m:\u001b[0m\u001b[1;33m\u001b[0m\u001b[1;33m\u001b[0m\u001b[0m\n\u001b[0;32m   2929\u001b[0m                 \u001b[0mindexer\u001b[0m \u001b[1;33m=\u001b[0m \u001b[1;33m[\u001b[0m\u001b[0mindexer\u001b[0m\u001b[1;33m]\u001b[0m\u001b[1;33m\u001b[0m\u001b[1;33m\u001b[0m\u001b[0m\n",
      "\u001b[1;32m~\\Anaconda3\\lib\\site-packages\\pandas\\core\\indexes\\base.py\u001b[0m in \u001b[0;36mget_loc\u001b[1;34m(self, key, method, tolerance)\u001b[0m\n\u001b[0;32m   2657\u001b[0m                 \u001b[1;32mreturn\u001b[0m \u001b[0mself\u001b[0m\u001b[1;33m.\u001b[0m\u001b[0m_engine\u001b[0m\u001b[1;33m.\u001b[0m\u001b[0mget_loc\u001b[0m\u001b[1;33m(\u001b[0m\u001b[0mkey\u001b[0m\u001b[1;33m)\u001b[0m\u001b[1;33m\u001b[0m\u001b[1;33m\u001b[0m\u001b[0m\n\u001b[0;32m   2658\u001b[0m             \u001b[1;32mexcept\u001b[0m \u001b[0mKeyError\u001b[0m\u001b[1;33m:\u001b[0m\u001b[1;33m\u001b[0m\u001b[1;33m\u001b[0m\u001b[0m\n\u001b[1;32m-> 2659\u001b[1;33m                 \u001b[1;32mreturn\u001b[0m \u001b[0mself\u001b[0m\u001b[1;33m.\u001b[0m\u001b[0m_engine\u001b[0m\u001b[1;33m.\u001b[0m\u001b[0mget_loc\u001b[0m\u001b[1;33m(\u001b[0m\u001b[0mself\u001b[0m\u001b[1;33m.\u001b[0m\u001b[0m_maybe_cast_indexer\u001b[0m\u001b[1;33m(\u001b[0m\u001b[0mkey\u001b[0m\u001b[1;33m)\u001b[0m\u001b[1;33m)\u001b[0m\u001b[1;33m\u001b[0m\u001b[1;33m\u001b[0m\u001b[0m\n\u001b[0m\u001b[0;32m   2660\u001b[0m         \u001b[0mindexer\u001b[0m \u001b[1;33m=\u001b[0m \u001b[0mself\u001b[0m\u001b[1;33m.\u001b[0m\u001b[0mget_indexer\u001b[0m\u001b[1;33m(\u001b[0m\u001b[1;33m[\u001b[0m\u001b[0mkey\u001b[0m\u001b[1;33m]\u001b[0m\u001b[1;33m,\u001b[0m \u001b[0mmethod\u001b[0m\u001b[1;33m=\u001b[0m\u001b[0mmethod\u001b[0m\u001b[1;33m,\u001b[0m \u001b[0mtolerance\u001b[0m\u001b[1;33m=\u001b[0m\u001b[0mtolerance\u001b[0m\u001b[1;33m)\u001b[0m\u001b[1;33m\u001b[0m\u001b[1;33m\u001b[0m\u001b[0m\n\u001b[0;32m   2661\u001b[0m         \u001b[1;32mif\u001b[0m \u001b[0mindexer\u001b[0m\u001b[1;33m.\u001b[0m\u001b[0mndim\u001b[0m \u001b[1;33m>\u001b[0m \u001b[1;36m1\u001b[0m \u001b[1;32mor\u001b[0m \u001b[0mindexer\u001b[0m\u001b[1;33m.\u001b[0m\u001b[0msize\u001b[0m \u001b[1;33m>\u001b[0m \u001b[1;36m1\u001b[0m\u001b[1;33m:\u001b[0m\u001b[1;33m\u001b[0m\u001b[1;33m\u001b[0m\u001b[0m\n",
      "\u001b[1;32mpandas/_libs/index.pyx\u001b[0m in \u001b[0;36mpandas._libs.index.IndexEngine.get_loc\u001b[1;34m()\u001b[0m\n",
      "\u001b[1;32mpandas/_libs/index.pyx\u001b[0m in \u001b[0;36mpandas._libs.index.IndexEngine.get_loc\u001b[1;34m()\u001b[0m\n",
      "\u001b[1;32mpandas/_libs/hashtable_class_helper.pxi\u001b[0m in \u001b[0;36mpandas._libs.hashtable.PyObjectHashTable.get_item\u001b[1;34m()\u001b[0m\n",
      "\u001b[1;32mpandas/_libs/hashtable_class_helper.pxi\u001b[0m in \u001b[0;36mpandas._libs.hashtable.PyObjectHashTable.get_item\u001b[1;34m()\u001b[0m\n",
      "\u001b[1;31mKeyError\u001b[0m: 'Horsepower'"
     ]
    },
    {
     "data": {
      "image/png": "[encoded data removed]",
      "text/plain": [
       "<Figure size 432x288 with 1 Axes>"
      ]
     },
     "metadata": {
      "needs_background": "light"
     },
     "output_type": "display_data"
    }
   ],
   "source": [
    "import pandas as pd\n",
    "import matplotlib.pyplot as plt\n",
    "import sklearn\n",
    "\n",
    "from sklearn.metrics import accuracy_score, classification_report, confusion_matrix\n",
    "\n",
    "df = pd.read_csv(\"school.csv\")\n",
    "print(df)\n",
    "print(df.isnull().sum()) #no empties\n",
    "\n",
    "fig, ax = plt.subplots()\n",
    "ax.hist(df['Horsepower'], color='#539caf', bins=30)\n",
    "ax.set_title(\"Distribution  of Cars horsepower Strength\")\n",
    "ax.set_xlabel(\"Horsepower\")\n",
    "ax.set_ylabel(\"Frequency\")\n",
    "plt.show()"
   ]
  },
  {
   "cell_type": "code",
   "execution_count": null,
   "metadata": {},
   "outputs": [],
   "source": []
  },
  {
   "cell_type": "code",
   "execution_count": null,
   "metadata": {},
   "outputs": [],
   "source": []
  }
 ],
 "metadata": {
  "kernelspec": {
   "display_name": "Python 3",
   "language": "python",
   "name": "python3"
  },
  "language_info": {
   "codemirror_mode": {
    "name": "ipython",
    "version": 3
   },
   "file_extension": ".py",
   "mimetype": "text/x-python",
   "name": "python",
   "nbconvert_exporter": "python",
   "pygments_lexer": "ipython3",
   "version": "3.7.6"
  }
 },
 "nbformat": 4,
 "nbformat_minor": 2
}
