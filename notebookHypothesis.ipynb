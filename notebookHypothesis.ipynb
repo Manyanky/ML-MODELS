{
 "cells": [
  {
   "cell_type": "code",
   "execution_count": 2,
   "metadata": {},
   "outputs": [
    {
     "name": "stdout",
     "output_type": "stream",
     "text": [
      "P value is nan\n",
      "There is enough evidence to support null hyppthesis\n",
      "We Accept the Null hypothesis\n",
      "h1:  the paired means of math an english are  equal\n",
      "Writing Mean is 79.52168316831691\n",
      "Reading Mean is 82.06779310344825\n",
      "We can conclude that Writing scored higher than Reading by -2.5461099351313408\n"
     ]
    }
   ],
   "source": [
    "import pandas\n",
    "import matplotlib.pyplot as plt\n",
    "import scipy\n",
    "\n",
    "#a hypoothesis is a claim on a given dataset\n",
    "#we use statistical methods to prove the claim-true/false\n",
    "\n",
    "df = pandas.read_csv(\"school.csv\")\n",
    "#paired sample t - test\n",
    " #Ho ; the paired mean of math and Eng are equal\n",
    " #H1; the paired math of Eng and Math are not Equal\n",
    "\n",
    "medianReading = df['Reading'].median()\n",
    "df['Reading'].fillna(medianReading, inplace=True)\n",
    "\n",
    "medianWriting = df['Writing'].median()\n",
    "df['Math'].fillna(medianWriting, inplace=True)\n",
    "\n",
    " #run test using paired\n",
    "\n",
    "from scipy.stats import ttest_rel, ttest_ind\n",
    "statistics, pvalue = ttest_rel(df['Reading'], df['Writing'])\n",
    "print('P value is', pvalue)\n",
    "\n",
    "alpha = 0.95 #confidence level\n",
    "# a less p value means ....reject null hypothesis\n",
    "if pvalue < alpha:\n",
    "    print('There is no enough evidence to support null hyppthesis')\n",
    "    print('We reject the Null hypothesis')\n",
    "    print('We take the null hypothesis. ')\n",
    "    print('h1:  the paired means of Reading an Writing are not equal')\n",
    "else:\n",
    "    print('There is enough evidence to support null hyppthesis')\n",
    "    print('We Accept the Null hypothesis')\n",
    "    print('h1:  the paired means of math an english are  equal')\n",
    "    \n",
    "meanReading = df['Reading'].mean()\n",
    "meanWriting = df['Writing'].mean()\n",
    "\n",
    "print(\"Writing Mean is\", meanWriting)\n",
    "print(\"Reading Mean is\", meanReading)\n",
    "\n",
    "diff = meanWriting-meanReading # diffrence\n",
    "print(\"We can conclude that Writing scored higher than Reading by\", diff)"
   ]
  },
  {
   "cell_type": "code",
   "execution_count": null,
   "metadata": {},
   "outputs": [],
   "source": []
  }
 ],
 "metadata": {
  "kernelspec": {
   "display_name": "Python 3",
   "language": "python",
   "name": "python3"
  },
  "language_info": {
   "codemirror_mode": {
    "name": "ipython",
    "version": 3
   },
   "file_extension": ".py",
   "mimetype": "text/x-python",
   "name": "python",
   "nbconvert_exporter": "python",
   "pygments_lexer": "ipython3",
   "version": "3.7.3"
  }
 },
 "nbformat": 4,
 "nbformat_minor": 2
}
