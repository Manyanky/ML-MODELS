{
  "nbformat": 4,
  "nbformat_minor": 0,
  "metadata": {
    "kernelspec": {
      "display_name": "Python 3",
      "language": "python",
      "name": "python3"
    },
    "language_info": {
      "codemirror_mode": {
        "name": "ipython",
        "version": 3
      },
      "file_extension": ".py",
      "mimetype": "text/x-python",
      "name": "python",
      "nbconvert_exporter": "python",
      "pygments_lexer": "ipython3",
      "version": "3.8.5"
    },
    "colab": {
      "name": "Pandas Analysis Assignment 1.ipynb",
      "provenance": [],
      "collapsed_sections": [],
      "toc_visible": true,
      "include_colab_link": true
    }
  },
  "cells": [
    {
      "cell_type": "markdown",
      "metadata": {
        "id": "view-in-github",
        "colab_type": "text"
      },
      "source": [
        "<a href=\"https://colab.research.google.com/github/Manyanky/ML-MODELS/blob/master/Pandas_Analysis1.ipynb\" target=\"_parent\"><img src=\"https://colab.research.google.com/assets/colab-badge.svg\" alt=\"Open In Colab\"/></a>"
      ]
    },
    {
      "cell_type": "markdown",
      "metadata": {
        "id": "0vGPwtXMK_mZ"
      },
      "source": [
        "## Pandas\n",
        "\n",
        "### Instructions\n",
        "\n",
        "This assignment will be done completely inside this Jupyter notebook with answers placed in the cell provided.\n",
        "\n",
        "All python imports that are needed shown.\n",
        "\n",
        "Follow all the instructions in this notebook to complete these tasks.    \n",
        "\n",
        "Make sure the CSV data files is in the same folder as this notebook - alumni.csv\n"
      ]
    },
    {
      "cell_type": "code",
      "metadata": {
        "id": "obQ2CdqjK_md"
      },
      "source": [
        "# Imports needed to complete this exam\n",
        "\n",
        "import pandas as pd\n",
        "import matplotlib.pyplot as plt\n",
        "\n",
        "url = 'https://drive.google.com/file/d/11RHX6SDY1hd9dwuSgu3RuuG2wzeRS90y/view?usp=sharing'\n"
      ],
      "execution_count": null,
      "outputs": []
    },
    {
      "cell_type": "code",
      "metadata": {
        "id": "RcnvV3xrNEwz",
        "colab": {
          "base_uri": "https://localhost:8080/",
          "height": 35
        },
        "outputId": "36b3761d-9860-403a-c125-cad441fd094a"
      },
      "source": [
        "from google.colab import drive\n",
        "drive.mount('/content/drive')"
      ],
      "execution_count": null,
      "outputs": [
        {
          "output_type": "stream",
          "text": [
            "Mounted at /content/drive\n"
          ],
          "name": "stdout"
        }
      ]
    },
    {
      "cell_type": "markdown",
      "metadata": {
        "id": "gYkMPIybK_mn"
      },
      "source": [
        "### Question 1 :  Import CSV file (1 Mark)\n",
        "\n",
        "\n",
        "Write code to load the alumni csv dataset into a Pandas DataFrame called 'alumni'.\n"
      ]
    },
    {
      "cell_type": "code",
      "metadata": {
        "id": "jfAj-_twK_mo",
        "colab": {
          "base_uri": "https://localhost:8080/",
          "height": 399
        },
        "outputId": "296768df-d002-4494-b451-673c90a4d6f5"
      },
      "source": [
        "#q1 (1)\n",
        "alumni = pd.read_csv(\"alumni.csv\")\n",
        "alumni"
      ],
      "execution_count": null,
      "outputs": [
        {
          "output_type": "execute_result",
          "data": {
            "text/html": [
              "<div>\n",
              "<style scoped>\n",
              "    .dataframe tbody tr th:only-of-type {\n",
              "        vertical-align: middle;\n",
              "    }\n",
              "\n",
              "    .dataframe tbody tr th {\n",
              "        vertical-align: top;\n",
              "    }\n",
              "\n",
              "    .dataframe thead th {\n",
              "        text-align: right;\n",
              "    }\n",
              "</style>\n",
              "<table border=\"1\" class=\"dataframe\">\n",
              "  <thead>\n",
              "    <tr style=\"text-align: right;\">\n",
              "      <th></th>\n",
              "      <th>Year Graduated</th>\n",
              "      <th>Gender</th>\n",
              "      <th>Marital Status</th>\n",
              "      <th>Diploma Type</th>\n",
              "      <th>Defaulted</th>\n",
              "      <th>Salary</th>\n",
              "      <th>Fee</th>\n",
              "      <th>Savings ($)</th>\n",
              "    </tr>\n",
              "  </thead>\n",
              "  <tbody>\n",
              "    <tr>\n",
              "      <th>0</th>\n",
              "      <td>2004</td>\n",
              "      <td>Male</td>\n",
              "      <td>Single</td>\n",
              "      <td>Standard Diploma</td>\n",
              "      <td>Yes</td>\n",
              "      <td>125000</td>\n",
              "      <td>10869</td>\n",
              "      <td>$86,000</td>\n",
              "    </tr>\n",
              "    <tr>\n",
              "      <th>1</th>\n",
              "      <td>2005</td>\n",
              "      <td>Male</td>\n",
              "      <td>Married</td>\n",
              "      <td>College Prep Diploma</td>\n",
              "      <td>No</td>\n",
              "      <td>100000</td>\n",
              "      <td>10869</td>\n",
              "      <td>$116,000</td>\n",
              "    </tr>\n",
              "    <tr>\n",
              "      <th>2</th>\n",
              "      <td>2006</td>\n",
              "      <td>Female</td>\n",
              "      <td>Single</td>\n",
              "      <td>Standard Diploma</td>\n",
              "      <td>Yes</td>\n",
              "      <td>70000</td>\n",
              "      <td>10869</td>\n",
              "      <td>$52,000</td>\n",
              "    </tr>\n",
              "    <tr>\n",
              "      <th>3</th>\n",
              "      <td>2007</td>\n",
              "      <td>Male</td>\n",
              "      <td>Married</td>\n",
              "      <td>Standard Diploma</td>\n",
              "      <td>No</td>\n",
              "      <td>120000</td>\n",
              "      <td>10869</td>\n",
              "      <td>$76,000</td>\n",
              "    </tr>\n",
              "    <tr>\n",
              "      <th>4</th>\n",
              "      <td>2006</td>\n",
              "      <td>Female</td>\n",
              "      <td>Divorced</td>\n",
              "      <td>Standard Diploma</td>\n",
              "      <td>Yes</td>\n",
              "      <td>95000</td>\n",
              "      <td>11948</td>\n",
              "      <td>$52,000</td>\n",
              "    </tr>\n",
              "    <tr>\n",
              "      <th>...</th>\n",
              "      <td>...</td>\n",
              "      <td>...</td>\n",
              "      <td>...</td>\n",
              "      <td>...</td>\n",
              "      <td>...</td>\n",
              "      <td>...</td>\n",
              "      <td>...</td>\n",
              "      <td>...</td>\n",
              "    </tr>\n",
              "    <tr>\n",
              "      <th>83</th>\n",
              "      <td>2007</td>\n",
              "      <td>Male</td>\n",
              "      <td>Single</td>\n",
              "      <td>Standard Diploma</td>\n",
              "      <td>No</td>\n",
              "      <td>75000</td>\n",
              "      <td>12066</td>\n",
              "      <td>$16,000</td>\n",
              "    </tr>\n",
              "    <tr>\n",
              "      <th>84</th>\n",
              "      <td>2008</td>\n",
              "      <td>M</td>\n",
              "      <td>Single</td>\n",
              "      <td>College Prep Diploma</td>\n",
              "      <td>Yes</td>\n",
              "      <td>65000</td>\n",
              "      <td>12066</td>\n",
              "      <td>$72,000</td>\n",
              "    </tr>\n",
              "    <tr>\n",
              "      <th>85</th>\n",
              "      <td>2009</td>\n",
              "      <td>Male</td>\n",
              "      <td>Married</td>\n",
              "      <td>Standard Diploma</td>\n",
              "      <td>No</td>\n",
              "      <td>75000</td>\n",
              "      <td>12066</td>\n",
              "      <td>$46,000</td>\n",
              "    </tr>\n",
              "    <tr>\n",
              "      <th>86</th>\n",
              "      <td>2005</td>\n",
              "      <td>Female</td>\n",
              "      <td>Divorced</td>\n",
              "      <td>Standard Diploma</td>\n",
              "      <td>Yes</td>\n",
              "      <td>100000</td>\n",
              "      <td>12067</td>\n",
              "      <td>$32,000</td>\n",
              "    </tr>\n",
              "    <tr>\n",
              "      <th>87</th>\n",
              "      <td>2006</td>\n",
              "      <td>Male</td>\n",
              "      <td>Married</td>\n",
              "      <td>Standard Diploma</td>\n",
              "      <td>Yes</td>\n",
              "      <td>75000</td>\n",
              "      <td>12067</td>\n",
              "      <td>$67,000</td>\n",
              "    </tr>\n",
              "  </tbody>\n",
              "</table>\n",
              "<p>88 rows × 8 columns</p>\n",
              "</div>"
            ],
            "text/plain": [
              "    Year Graduated  Gender Marital Status  ...  Salary    Fee  Savings ($)\n",
              "0             2004    Male         Single  ...  125000  10869      $86,000\n",
              "1             2005    Male        Married  ...  100000  10869     $116,000\n",
              "2             2006  Female         Single  ...   70000  10869      $52,000\n",
              "3             2007    Male        Married  ...  120000  10869      $76,000\n",
              "4             2006  Female       Divorced  ...   95000  11948      $52,000\n",
              "..             ...     ...            ...  ...     ...    ...          ...\n",
              "83            2007    Male         Single  ...   75000  12066      $16,000\n",
              "84            2008       M         Single  ...   65000  12066      $72,000\n",
              "85            2009    Male        Married  ...   75000  12066      $46,000\n",
              "86            2005  Female       Divorced  ...  100000  12067      $32,000\n",
              "87            2006    Male        Married  ...   75000  12067      $67,000\n",
              "\n",
              "[88 rows x 8 columns]"
            ]
          },
          "metadata": {
            "tags": []
          },
          "execution_count": 10
        }
      ]
    },
    {
      "cell_type": "markdown",
      "metadata": {
        "id": "So5ieh6rK_mu"
      },
      "source": [
        "### Question 2 :  Understand the data set (5 Marks)\n",
        "\n",
        "Use the following pandas commands to understand the data set: a) head, b) tail, c) dtypes, d) info, e) describe "
      ]
    },
    {
      "cell_type": "code",
      "metadata": {
        "id": "rZxefRHWK_mv",
        "colab": {
          "base_uri": "https://localhost:8080/",
          "height": 194
        },
        "outputId": "5668d50c-58c2-44b2-96c2-f274100fd2f0"
      },
      "source": [
        "#a) (1)\n",
        "alumni.head(5)"
      ],
      "execution_count": null,
      "outputs": [
        {
          "output_type": "execute_result",
          "data": {
            "text/html": [
              "<div>\n",
              "<style scoped>\n",
              "    .dataframe tbody tr th:only-of-type {\n",
              "        vertical-align: middle;\n",
              "    }\n",
              "\n",
              "    .dataframe tbody tr th {\n",
              "        vertical-align: top;\n",
              "    }\n",
              "\n",
              "    .dataframe thead th {\n",
              "        text-align: right;\n",
              "    }\n",
              "</style>\n",
              "<table border=\"1\" class=\"dataframe\">\n",
              "  <thead>\n",
              "    <tr style=\"text-align: right;\">\n",
              "      <th></th>\n",
              "      <th>Year Graduated</th>\n",
              "      <th>Gender</th>\n",
              "      <th>Marital Status</th>\n",
              "      <th>Diploma Type</th>\n",
              "      <th>Defaulted</th>\n",
              "      <th>Salary</th>\n",
              "      <th>Fee</th>\n",
              "      <th>Savings ($)</th>\n",
              "    </tr>\n",
              "  </thead>\n",
              "  <tbody>\n",
              "    <tr>\n",
              "      <th>0</th>\n",
              "      <td>2004</td>\n",
              "      <td>Male</td>\n",
              "      <td>Single</td>\n",
              "      <td>Standard Diploma</td>\n",
              "      <td>Yes</td>\n",
              "      <td>125000</td>\n",
              "      <td>10869</td>\n",
              "      <td>86000.0</td>\n",
              "    </tr>\n",
              "    <tr>\n",
              "      <th>1</th>\n",
              "      <td>2005</td>\n",
              "      <td>Male</td>\n",
              "      <td>Married</td>\n",
              "      <td>College Prep Diploma</td>\n",
              "      <td>No</td>\n",
              "      <td>100000</td>\n",
              "      <td>10869</td>\n",
              "      <td>116000.0</td>\n",
              "    </tr>\n",
              "    <tr>\n",
              "      <th>2</th>\n",
              "      <td>2006</td>\n",
              "      <td>Female</td>\n",
              "      <td>Single</td>\n",
              "      <td>Standard Diploma</td>\n",
              "      <td>Yes</td>\n",
              "      <td>70000</td>\n",
              "      <td>10869</td>\n",
              "      <td>52000.0</td>\n",
              "    </tr>\n",
              "    <tr>\n",
              "      <th>3</th>\n",
              "      <td>2007</td>\n",
              "      <td>Male</td>\n",
              "      <td>Married</td>\n",
              "      <td>Standard Diploma</td>\n",
              "      <td>No</td>\n",
              "      <td>120000</td>\n",
              "      <td>10869</td>\n",
              "      <td>76000.0</td>\n",
              "    </tr>\n",
              "    <tr>\n",
              "      <th>4</th>\n",
              "      <td>2006</td>\n",
              "      <td>Female</td>\n",
              "      <td>Divorced</td>\n",
              "      <td>Standard Diploma</td>\n",
              "      <td>Yes</td>\n",
              "      <td>95000</td>\n",
              "      <td>11948</td>\n",
              "      <td>52000.0</td>\n",
              "    </tr>\n",
              "  </tbody>\n",
              "</table>\n",
              "</div>"
            ],
            "text/plain": [
              "   Year Graduated  Gender Marital Status  ...  Salary    Fee  Savings ($)\n",
              "0            2004    Male         Single  ...  125000  10869      86000.0\n",
              "1            2005    Male        Married  ...  100000  10869     116000.0\n",
              "2            2006  Female         Single  ...   70000  10869      52000.0\n",
              "3            2007    Male        Married  ...  120000  10869      76000.0\n",
              "4            2006  Female       Divorced  ...   95000  11948      52000.0\n",
              "\n",
              "[5 rows x 8 columns]"
            ]
          },
          "metadata": {
            "tags": []
          },
          "execution_count": 59
        }
      ]
    },
    {
      "cell_type": "code",
      "metadata": {
        "id": "Vmy5I1IOK_mz",
        "colab": {
          "base_uri": "https://localhost:8080/",
          "height": 194
        },
        "outputId": "1e8e9787-430a-44c4-d7b2-aea900fe6ed9"
      },
      "source": [
        "#b) (1)\n",
        "alumni.tail(5)"
      ],
      "execution_count": null,
      "outputs": [
        {
          "output_type": "execute_result",
          "data": {
            "text/html": [
              "<div>\n",
              "<style scoped>\n",
              "    .dataframe tbody tr th:only-of-type {\n",
              "        vertical-align: middle;\n",
              "    }\n",
              "\n",
              "    .dataframe tbody tr th {\n",
              "        vertical-align: top;\n",
              "    }\n",
              "\n",
              "    .dataframe thead th {\n",
              "        text-align: right;\n",
              "    }\n",
              "</style>\n",
              "<table border=\"1\" class=\"dataframe\">\n",
              "  <thead>\n",
              "    <tr style=\"text-align: right;\">\n",
              "      <th></th>\n",
              "      <th>Year Graduated</th>\n",
              "      <th>Gender</th>\n",
              "      <th>Marital Status</th>\n",
              "      <th>Diploma Type</th>\n",
              "      <th>Defaulted</th>\n",
              "      <th>Salary</th>\n",
              "      <th>Fee</th>\n",
              "      <th>Savings ($)</th>\n",
              "    </tr>\n",
              "  </thead>\n",
              "  <tbody>\n",
              "    <tr>\n",
              "      <th>83</th>\n",
              "      <td>2007</td>\n",
              "      <td>Male</td>\n",
              "      <td>Single</td>\n",
              "      <td>Standard Diploma</td>\n",
              "      <td>No</td>\n",
              "      <td>75000</td>\n",
              "      <td>12066</td>\n",
              "      <td>16000.0</td>\n",
              "    </tr>\n",
              "    <tr>\n",
              "      <th>84</th>\n",
              "      <td>2008</td>\n",
              "      <td>M</td>\n",
              "      <td>Single</td>\n",
              "      <td>College Prep Diploma</td>\n",
              "      <td>Yes</td>\n",
              "      <td>65000</td>\n",
              "      <td>12066</td>\n",
              "      <td>72000.0</td>\n",
              "    </tr>\n",
              "    <tr>\n",
              "      <th>85</th>\n",
              "      <td>2009</td>\n",
              "      <td>Male</td>\n",
              "      <td>Married</td>\n",
              "      <td>Standard Diploma</td>\n",
              "      <td>No</td>\n",
              "      <td>75000</td>\n",
              "      <td>12066</td>\n",
              "      <td>46000.0</td>\n",
              "    </tr>\n",
              "    <tr>\n",
              "      <th>86</th>\n",
              "      <td>2005</td>\n",
              "      <td>Female</td>\n",
              "      <td>Divorced</td>\n",
              "      <td>Standard Diploma</td>\n",
              "      <td>Yes</td>\n",
              "      <td>100000</td>\n",
              "      <td>12067</td>\n",
              "      <td>32000.0</td>\n",
              "    </tr>\n",
              "    <tr>\n",
              "      <th>87</th>\n",
              "      <td>2006</td>\n",
              "      <td>Male</td>\n",
              "      <td>Married</td>\n",
              "      <td>Standard Diploma</td>\n",
              "      <td>Yes</td>\n",
              "      <td>75000</td>\n",
              "      <td>12067</td>\n",
              "      <td>67000.0</td>\n",
              "    </tr>\n",
              "  </tbody>\n",
              "</table>\n",
              "</div>"
            ],
            "text/plain": [
              "    Year Graduated  Gender Marital Status  ...  Salary    Fee  Savings ($)\n",
              "83            2007    Male         Single  ...   75000  12066      16000.0\n",
              "84            2008       M         Single  ...   65000  12066      72000.0\n",
              "85            2009    Male        Married  ...   75000  12066      46000.0\n",
              "86            2005  Female       Divorced  ...  100000  12067      32000.0\n",
              "87            2006    Male        Married  ...   75000  12067      67000.0\n",
              "\n",
              "[5 rows x 8 columns]"
            ]
          },
          "metadata": {
            "tags": []
          },
          "execution_count": 60
        }
      ]
    },
    {
      "cell_type": "code",
      "metadata": {
        "id": "1ruioUfqK_m5",
        "colab": {
          "base_uri": "https://localhost:8080/",
          "height": 177
        },
        "outputId": "98d849f3-bfb1-47eb-a58f-732b587ca96b"
      },
      "source": [
        "#c) (1)\n",
        "alumni.dtypes"
      ],
      "execution_count": null,
      "outputs": [
        {
          "output_type": "execute_result",
          "data": {
            "text/plain": [
              "Year Graduated      int64\n",
              "Gender             object\n",
              "Marital Status     object\n",
              "Diploma Type       object\n",
              "Defaulted          object\n",
              "Salary              int64\n",
              "Fee                 int64\n",
              "Savings ($)       float64\n",
              "dtype: object"
            ]
          },
          "metadata": {
            "tags": []
          },
          "execution_count": 61
        }
      ]
    },
    {
      "cell_type": "code",
      "metadata": {
        "id": "Bvq_vhPVK_m-",
        "colab": {
          "base_uri": "https://localhost:8080/",
          "height": 266
        },
        "outputId": "733f3666-d8c2-4235-ea64-b5d86ba096b7"
      },
      "source": [
        "#d) (1)\n",
        "alumni.info"
      ],
      "execution_count": null,
      "outputs": [
        {
          "output_type": "execute_result",
          "data": {
            "text/plain": [
              "<bound method DataFrame.info of     Year Graduated  Gender Marital Status  ...  Salary    Fee  Savings ($)\n",
              "0             2004    Male         Single  ...  125000  10869      86000.0\n",
              "1             2005    Male        Married  ...  100000  10869     116000.0\n",
              "2             2006  Female         Single  ...   70000  10869      52000.0\n",
              "3             2007    Male        Married  ...  120000  10869      76000.0\n",
              "4             2006  Female       Divorced  ...   95000  11948      52000.0\n",
              "..             ...     ...            ...  ...     ...    ...          ...\n",
              "83            2007    Male         Single  ...   75000  12066      16000.0\n",
              "84            2008       M         Single  ...   65000  12066      72000.0\n",
              "85            2009    Male        Married  ...   75000  12066      46000.0\n",
              "86            2005  Female       Divorced  ...  100000  12067      32000.0\n",
              "87            2006    Male        Married  ...   75000  12067      67000.0\n",
              "\n",
              "[88 rows x 8 columns]>"
            ]
          },
          "metadata": {
            "tags": []
          },
          "execution_count": 62
        }
      ]
    },
    {
      "cell_type": "code",
      "metadata": {
        "id": "t6QrZO1RK_nC",
        "colab": {
          "base_uri": "https://localhost:8080/",
          "height": 266
        },
        "outputId": "41f2a501-c89f-4f34-8b5f-9b64ffda413d"
      },
      "source": [
        "#e) (1)\n",
        "alumni.describe"
      ],
      "execution_count": null,
      "outputs": [
        {
          "output_type": "execute_result",
          "data": {
            "text/plain": [
              "<bound method NDFrame.describe of     Year Graduated  Gender Marital Status  ...  Salary    Fee  Savings ($)\n",
              "0             2004    Male         Single  ...  125000  10869      86000.0\n",
              "1             2005    Male        Married  ...  100000  10869     116000.0\n",
              "2             2006  Female         Single  ...   70000  10869      52000.0\n",
              "3             2007    Male        Married  ...  120000  10869      76000.0\n",
              "4             2006  Female       Divorced  ...   95000  11948      52000.0\n",
              "..             ...     ...            ...  ...     ...    ...          ...\n",
              "83            2007    Male         Single  ...   75000  12066      16000.0\n",
              "84            2008       M         Single  ...   65000  12066      72000.0\n",
              "85            2009    Male        Married  ...   75000  12066      46000.0\n",
              "86            2005  Female       Divorced  ...  100000  12067      32000.0\n",
              "87            2006    Male        Married  ...   75000  12067      67000.0\n",
              "\n",
              "[88 rows x 8 columns]>"
            ]
          },
          "metadata": {
            "tags": []
          },
          "execution_count": 63
        }
      ]
    },
    {
      "cell_type": "markdown",
      "metadata": {
        "id": "cxMQhWfFK_nI"
      },
      "source": [
        "### Question 3 :  Cleaning the data set - part A (3 Marks)\n",
        "\n",
        "a) Use clean_currency method below to strip out commas and dollar signs from Savings ($) column and put into a new column called 'Savings'."
      ]
    },
    {
      "cell_type": "code",
      "metadata": {
        "id": "hIMQ42R0K_nJ",
        "colab": {
          "base_uri": "https://localhost:8080/",
          "height": 35
        },
        "outputId": "535e4328-a049-47dd-8320-c59a407d2821"
      },
      "source": [
        "def clean_currency(curr):\n",
        "    return float(curr.replace(\",\", \"\").replace(\"$\", \"\"))\n",
        "\n",
        "clean_currency(\"$66,000\")\n",
        " "
      ],
      "execution_count": null,
      "outputs": [
        {
          "output_type": "execute_result",
          "data": {
            "text/plain": [
              "66000.0"
            ]
          },
          "metadata": {
            "tags": []
          },
          "execution_count": 64
        }
      ]
    },
    {
      "cell_type": "code",
      "metadata": {
        "id": "4MnZm5zIK_nP",
        "colab": {
          "base_uri": "https://localhost:8080/",
          "height": 388
        },
        "outputId": "58ebc7ec-ab3e-4646-a47c-0ea38fa2990c"
      },
      "source": [
        "\n",
        "alumni['Savings'] = alumni['Savings ($)'].apply(clean_currency)\n",
        " "
      ],
      "execution_count": null,
      "outputs": [
        {
          "output_type": "error",
          "ename": "AttributeError",
          "evalue": "ignored",
          "traceback": [
            "\u001b[0;31m---------------------------------------------------------------------------\u001b[0m",
            "\u001b[0;31mAttributeError\u001b[0m                            Traceback (most recent call last)",
            "\u001b[0;32m<ipython-input-68-2bad632df556>\u001b[0m in \u001b[0;36m<module>\u001b[0;34m()\u001b[0m\n\u001b[1;32m      1\u001b[0m \u001b[0;34m\u001b[0m\u001b[0m\n\u001b[0;32m----> 2\u001b[0;31m \u001b[0malumni\u001b[0m\u001b[0;34m[\u001b[0m\u001b[0;34m'Savings'\u001b[0m\u001b[0;34m]\u001b[0m\u001b[0;34m=\u001b[0m\u001b[0malumni\u001b[0m\u001b[0;34m[\u001b[0m\u001b[0;34m'Savings ($)'\u001b[0m\u001b[0;34m]\u001b[0m\u001b[0;34m.\u001b[0m\u001b[0mapply\u001b[0m\u001b[0;34m(\u001b[0m\u001b[0mclean_currency\u001b[0m\u001b[0;34m)\u001b[0m\u001b[0;34m\u001b[0m\u001b[0;34m\u001b[0m\u001b[0m\n\u001b[0m\u001b[1;32m      3\u001b[0m \u001b[0;34m\u001b[0m\u001b[0m\n",
            "\u001b[0;32m/usr/local/lib/python3.6/dist-packages/pandas/core/series.py\u001b[0m in \u001b[0;36mapply\u001b[0;34m(self, func, convert_dtype, args, **kwds)\u001b[0m\n\u001b[1;32m   4198\u001b[0m             \u001b[0;32melse\u001b[0m\u001b[0;34m:\u001b[0m\u001b[0;34m\u001b[0m\u001b[0;34m\u001b[0m\u001b[0m\n\u001b[1;32m   4199\u001b[0m                 \u001b[0mvalues\u001b[0m \u001b[0;34m=\u001b[0m \u001b[0mself\u001b[0m\u001b[0;34m.\u001b[0m\u001b[0mastype\u001b[0m\u001b[0;34m(\u001b[0m\u001b[0mobject\u001b[0m\u001b[0;34m)\u001b[0m\u001b[0;34m.\u001b[0m\u001b[0m_values\u001b[0m\u001b[0;34m\u001b[0m\u001b[0;34m\u001b[0m\u001b[0m\n\u001b[0;32m-> 4200\u001b[0;31m                 \u001b[0mmapped\u001b[0m \u001b[0;34m=\u001b[0m \u001b[0mlib\u001b[0m\u001b[0;34m.\u001b[0m\u001b[0mmap_infer\u001b[0m\u001b[0;34m(\u001b[0m\u001b[0mvalues\u001b[0m\u001b[0;34m,\u001b[0m \u001b[0mf\u001b[0m\u001b[0;34m,\u001b[0m \u001b[0mconvert\u001b[0m\u001b[0;34m=\u001b[0m\u001b[0mconvert_dtype\u001b[0m\u001b[0;34m)\u001b[0m\u001b[0;34m\u001b[0m\u001b[0;34m\u001b[0m\u001b[0m\n\u001b[0m\u001b[1;32m   4201\u001b[0m \u001b[0;34m\u001b[0m\u001b[0m\n\u001b[1;32m   4202\u001b[0m         \u001b[0;32mif\u001b[0m \u001b[0mlen\u001b[0m\u001b[0;34m(\u001b[0m\u001b[0mmapped\u001b[0m\u001b[0;34m)\u001b[0m \u001b[0;32mand\u001b[0m \u001b[0misinstance\u001b[0m\u001b[0;34m(\u001b[0m\u001b[0mmapped\u001b[0m\u001b[0;34m[\u001b[0m\u001b[0;36m0\u001b[0m\u001b[0;34m]\u001b[0m\u001b[0;34m,\u001b[0m \u001b[0mSeries\u001b[0m\u001b[0;34m)\u001b[0m\u001b[0;34m:\u001b[0m\u001b[0;34m\u001b[0m\u001b[0;34m\u001b[0m\u001b[0m\n",
            "\u001b[0;32mpandas/_libs/lib.pyx\u001b[0m in \u001b[0;36mpandas._libs.lib.map_infer\u001b[0;34m()\u001b[0m\n",
            "\u001b[0;32m<ipython-input-64-9bfd410acdeb>\u001b[0m in \u001b[0;36mclean_currency\u001b[0;34m(curr)\u001b[0m\n\u001b[1;32m      1\u001b[0m \u001b[0;32mdef\u001b[0m \u001b[0mclean_currency\u001b[0m\u001b[0;34m(\u001b[0m\u001b[0mcurr\u001b[0m\u001b[0;34m)\u001b[0m\u001b[0;34m:\u001b[0m\u001b[0;34m\u001b[0m\u001b[0;34m\u001b[0m\u001b[0m\n\u001b[0;32m----> 2\u001b[0;31m     \u001b[0;32mreturn\u001b[0m \u001b[0mfloat\u001b[0m\u001b[0;34m(\u001b[0m\u001b[0mcurr\u001b[0m\u001b[0;34m.\u001b[0m\u001b[0mreplace\u001b[0m\u001b[0;34m(\u001b[0m\u001b[0;34m\",\"\u001b[0m\u001b[0;34m,\u001b[0m \u001b[0;34m\"\"\u001b[0m\u001b[0;34m)\u001b[0m\u001b[0;34m.\u001b[0m\u001b[0mreplace\u001b[0m\u001b[0;34m(\u001b[0m\u001b[0;34m\"$\"\u001b[0m\u001b[0;34m,\u001b[0m \u001b[0;34m\"\"\u001b[0m\u001b[0;34m)\u001b[0m\u001b[0;34m)\u001b[0m\u001b[0;34m\u001b[0m\u001b[0;34m\u001b[0m\u001b[0m\n\u001b[0m\u001b[1;32m      3\u001b[0m \u001b[0;34m\u001b[0m\u001b[0m\n\u001b[1;32m      4\u001b[0m \u001b[0mclean_currency\u001b[0m\u001b[0;34m(\u001b[0m\u001b[0;34m\"$66,000\"\u001b[0m\u001b[0;34m)\u001b[0m\u001b[0;34m\u001b[0m\u001b[0;34m\u001b[0m\u001b[0m\n\u001b[1;32m      5\u001b[0m \u001b[0;34m\u001b[0m\u001b[0m\n",
            "\u001b[0;31mAttributeError\u001b[0m: 'float' object has no attribute 'replace'"
          ]
        }
      ]
    },
    {
      "cell_type": "markdown",
      "metadata": {
        "id": "0dCmnAN3K_nT"
      },
      "source": [
        "b) Uncomment 'alumni.dtypes.Savings' to check that the type change has occurred"
      ]
    },
    {
      "cell_type": "code",
      "metadata": {
        "id": "c8iHlKT7K_nV",
        "colab": {
          "base_uri": "https://localhost:8080/",
          "height": 310
        },
        "outputId": "6b60265d-049e-4afd-fa26-f21e7924c225"
      },
      "source": [
        "#b) (1)\n",
        "alumni.dtypes.Savings"
      ],
      "execution_count": null,
      "outputs": [
        {
          "output_type": "error",
          "ename": "AttributeError",
          "evalue": "ignored",
          "traceback": [
            "\u001b[0;31m---------------------------------------------------------------------------\u001b[0m",
            "\u001b[0;31mAttributeError\u001b[0m                            Traceback (most recent call last)",
            "\u001b[0;32m<ipython-input-66-6e0307bdb175>\u001b[0m in \u001b[0;36m<module>\u001b[0;34m()\u001b[0m\n\u001b[1;32m      1\u001b[0m \u001b[0;31m#b) (1)\u001b[0m\u001b[0;34m\u001b[0m\u001b[0;34m\u001b[0m\u001b[0;34m\u001b[0m\u001b[0m\n\u001b[0;32m----> 2\u001b[0;31m \u001b[0malumni\u001b[0m\u001b[0;34m.\u001b[0m\u001b[0mdtypes\u001b[0m\u001b[0;34m.\u001b[0m\u001b[0mSavings\u001b[0m\u001b[0;34m\u001b[0m\u001b[0;34m\u001b[0m\u001b[0m\n\u001b[0m",
            "\u001b[0;32m/usr/local/lib/python3.6/dist-packages/pandas/core/generic.py\u001b[0m in \u001b[0;36m__getattr__\u001b[0;34m(self, name)\u001b[0m\n\u001b[1;32m   5134\u001b[0m             \u001b[0;32mif\u001b[0m \u001b[0mself\u001b[0m\u001b[0;34m.\u001b[0m\u001b[0m_info_axis\u001b[0m\u001b[0;34m.\u001b[0m\u001b[0m_can_hold_identifiers_and_holds_name\u001b[0m\u001b[0;34m(\u001b[0m\u001b[0mname\u001b[0m\u001b[0;34m)\u001b[0m\u001b[0;34m:\u001b[0m\u001b[0;34m\u001b[0m\u001b[0;34m\u001b[0m\u001b[0m\n\u001b[1;32m   5135\u001b[0m                 \u001b[0;32mreturn\u001b[0m \u001b[0mself\u001b[0m\u001b[0;34m[\u001b[0m\u001b[0mname\u001b[0m\u001b[0;34m]\u001b[0m\u001b[0;34m\u001b[0m\u001b[0;34m\u001b[0m\u001b[0m\n\u001b[0;32m-> 5136\u001b[0;31m             \u001b[0;32mreturn\u001b[0m \u001b[0mobject\u001b[0m\u001b[0;34m.\u001b[0m\u001b[0m__getattribute__\u001b[0m\u001b[0;34m(\u001b[0m\u001b[0mself\u001b[0m\u001b[0;34m,\u001b[0m \u001b[0mname\u001b[0m\u001b[0;34m)\u001b[0m\u001b[0;34m\u001b[0m\u001b[0;34m\u001b[0m\u001b[0m\n\u001b[0m\u001b[1;32m   5137\u001b[0m \u001b[0;34m\u001b[0m\u001b[0m\n\u001b[1;32m   5138\u001b[0m     \u001b[0;32mdef\u001b[0m \u001b[0m__setattr__\u001b[0m\u001b[0;34m(\u001b[0m\u001b[0mself\u001b[0m\u001b[0;34m,\u001b[0m \u001b[0mname\u001b[0m\u001b[0;34m:\u001b[0m \u001b[0mstr\u001b[0m\u001b[0;34m,\u001b[0m \u001b[0mvalue\u001b[0m\u001b[0;34m)\u001b[0m \u001b[0;34m->\u001b[0m \u001b[0;32mNone\u001b[0m\u001b[0;34m:\u001b[0m\u001b[0;34m\u001b[0m\u001b[0;34m\u001b[0m\u001b[0m\n",
            "\u001b[0;31mAttributeError\u001b[0m: 'Series' object has no attribute 'Savings'"
          ]
        }
      ]
    },
    {
      "cell_type": "markdown",
      "metadata": {
        "id": "7r6h8HajK_nZ"
      },
      "source": [
        "### Question 4 :  Cleaning the data set - part B (5 Marks)\n",
        "\n",
        "a) Run the 'alumni[\"Gender\"].value_counts()' to see the incorrect 'M' fields that need to be converted to 'Male'"
      ]
    },
    {
      "cell_type": "code",
      "metadata": {
        "id": "MNSYOyCZK_nZ",
        "colab": {
          "base_uri": "https://localhost:8080/",
          "height": 88
        },
        "outputId": "61788548-9a1e-42a1-9f06-894a3bbecd94"
      },
      "source": [
        "# a) (1)\n",
        "alumni[\"Gender\"].value_counts()"
      ],
      "execution_count": null,
      "outputs": [
        {
          "output_type": "execute_result",
          "data": {
            "text/plain": [
              "Male      46\n",
              "Female    39\n",
              "M          3\n",
              "Name: Gender, dtype: int64"
            ]
          },
          "metadata": {
            "tags": []
          },
          "execution_count": 69
        }
      ]
    },
    {
      "cell_type": "code",
      "metadata": {
        "id": "n7Ctk_IevCGt"
      },
      "source": [
        ""
      ],
      "execution_count": null,
      "outputs": []
    },
    {
      "cell_type": "markdown",
      "metadata": {
        "id": "GPSaMoGFK_nd"
      },
      "source": [
        "b) Now use a '.str.replace' on the 'Gender' column to covert the incorrect 'M' fields. Hint: We must use ^...$ to restrict the pattern to match the whole string. "
      ]
    },
    {
      "cell_type": "code",
      "metadata": {
        "id": "POZIgwQsK_ne",
        "colab": {
          "base_uri": "https://localhost:8080/",
          "height": 230
        },
        "outputId": "d5820f93-08cd-4179-ba88-6500ad5f8e7e"
      },
      "source": [
        "# b) (1)\n",
        "alumni[\"Gender\"].str.replace('^M$','Male')"
      ],
      "execution_count": null,
      "outputs": [
        {
          "output_type": "execute_result",
          "data": {
            "text/plain": [
              "0       Male\n",
              "1       Male\n",
              "2     Female\n",
              "3       Male\n",
              "4     Female\n",
              "       ...  \n",
              "83      Male\n",
              "84      Male\n",
              "85      Male\n",
              "86    Female\n",
              "87      Male\n",
              "Name: Gender, Length: 88, dtype: object"
            ]
          },
          "metadata": {
            "tags": []
          },
          "execution_count": 74
        }
      ]
    },
    {
      "cell_type": "markdown",
      "metadata": {
        "id": "C9G359hSK_ni"
      },
      "source": [
        "c) That didn't the set alumni[\"Gender\"] column however. You will need to update the column when using the replace command 'alumni[\"Gender\"]=<replace command>', show how this is done below"
      ]
    },
    {
      "cell_type": "markdown",
      "metadata": {
        "id": "-1kZaOwxv5qT"
      },
      "source": [
        ""
      ]
    },
    {
      "cell_type": "code",
      "metadata": {
        "id": "h9yP79BYK_ni"
      },
      "source": [
        "# c) (1)\n",
        "alumni[\"Gender\"]=alumni[\"Gender\"].str.replace('^M$','Male')"
      ],
      "execution_count": null,
      "outputs": []
    },
    {
      "cell_type": "markdown",
      "metadata": {
        "id": "tMykp0MNK_nn"
      },
      "source": [
        "d) You can set it directly by using the df.loc command, show how this can be done by using the 'df.loc[row_indexer,col_indexer] = value' command to convert the 'M' to 'Male'"
      ]
    },
    {
      "cell_type": "code",
      "metadata": {
        "id": "QM2g5FaAK_nn"
      },
      "source": [
        "# d) (1)\n",
        "alumni.loc[0:2] = 'Male'"
      ],
      "execution_count": null,
      "outputs": []
    },
    {
      "cell_type": "markdown",
      "metadata": {
        "id": "pJtWTgniK_nr"
      },
      "source": [
        "e) Now run the 'value_counts' for Gender again to see the correct columns - 'Male' and 'Female' "
      ]
    },
    {
      "cell_type": "code",
      "metadata": {
        "id": "RYK7ZuHFK_nr",
        "colab": {
          "base_uri": "https://localhost:8080/",
          "height": 70
        },
        "outputId": "c66a2025-b51e-4b0b-86ef-64a766b2c7b9"
      },
      "source": [
        "# e) (1)\n",
        "alumni[\"Gender\"].value_counts()"
      ],
      "execution_count": null,
      "outputs": [
        {
          "output_type": "execute_result",
          "data": {
            "text/plain": [
              "Male      50\n",
              "Female    38\n",
              "Name: Gender, dtype: int64"
            ]
          },
          "metadata": {
            "tags": []
          },
          "execution_count": 78
        }
      ]
    },
    {
      "cell_type": "markdown",
      "metadata": {
        "id": "hiZGZ1YuK_nv"
      },
      "source": [
        "### Question 5 :  Working with the data set (4)\n",
        "\n",
        "a) get the median, b) mean and c) standard deviation for the 'Salary' column"
      ]
    },
    {
      "cell_type": "code",
      "metadata": {
        "id": "7wB7KoP1K_nw",
        "colab": {
          "base_uri": "https://localhost:8080/",
          "height": 35
        },
        "outputId": "649c6d1a-797b-4aad-ca37-b30939d37439"
      },
      "source": [
        "# a)(1)\n",
        "#alumni['Salary'].median()\n",
        "#alumni[\"Salary\"].value_counts() checking entry type\n",
        "alumni[\"Salary\"]=alumni[\"Salary\"].replace('Male',0)\n",
        "\n",
        "#Now finding median\n",
        "alumni['Salary'].median()\n"
      ],
      "execution_count": null,
      "outputs": [
        {
          "output_type": "execute_result",
          "data": {
            "text/plain": [
              "75000.0"
            ]
          },
          "metadata": {
            "tags": []
          },
          "execution_count": 90
        }
      ]
    },
    {
      "cell_type": "code",
      "metadata": {
        "id": "a8PFglCOK_nz",
        "colab": {
          "base_uri": "https://localhost:8080/",
          "height": 35
        },
        "outputId": "d59f29b2-e232-4ace-cd9a-f4550b6da24b"
      },
      "source": [
        "# b)(1)\n",
        "alumni['Salary'].mean()"
      ],
      "execution_count": null,
      "outputs": [
        {
          "output_type": "execute_result",
          "data": {
            "text/plain": [
              "80738.63636363637"
            ]
          },
          "metadata": {
            "tags": []
          },
          "execution_count": 91
        }
      ]
    },
    {
      "cell_type": "code",
      "metadata": {
        "id": "3DiUEtnYK_n3"
      },
      "source": [
        "# c)(1)"
      ],
      "execution_count": null,
      "outputs": []
    },
    {
      "cell_type": "markdown",
      "metadata": {
        "id": "kdC4uC1tK_n6"
      },
      "source": [
        "d) identify which alumni paid more than $15000 in fees, using the 'Fee' column"
      ]
    },
    {
      "cell_type": "code",
      "metadata": {
        "id": "r0FTB5UCK_n6",
        "colab": {
          "base_uri": "https://localhost:8080/",
          "height": 70
        },
        "outputId": "d8d7a244-4dbe-445c-f85d-28474c3f2969"
      },
      "source": [
        "# d) (1)\n",
        "#\n",
        "#alumni[\"Fee\"].value_counts()\n",
        "alumni[\"Fee\"]=alumni[\"Fee\"].replace('Male',0)\n",
        "no = alumni['Fee'] > 15000\n",
        "no.value_counts()"
      ],
      "execution_count": null,
      "outputs": [
        {
          "output_type": "execute_result",
          "data": {
            "text/plain": [
              "False    87\n",
              "True      1\n",
              "Name: Fee, dtype: int64"
            ]
          },
          "metadata": {
            "tags": []
          },
          "execution_count": 98
        }
      ]
    },
    {
      "cell_type": "markdown",
      "metadata": {
        "id": "afSyg6ufK_n9"
      },
      "source": [
        "### Question 6 :  Visualise the data set (4 Marks)\n",
        "\n",
        "a) Using the 'Diploma Type' column, plot a bar chart and show its value counts."
      ]
    },
    {
      "cell_type": "code",
      "metadata": {
        "id": "-heuH-xGK_n-",
        "colab": {
          "base_uri": "https://localhost:8080/",
          "height": 392
        },
        "outputId": "0e1cce03-32e3-4faf-8a7d-c7a78ebf1d14"
      },
      "source": [
        "#a) (1)\n",
        "_, ax = plt.subplots()\n",
        "alumni.groupby('Diploma Type').size().plot(kind='bar')\n",
        "ax.set_xlabel(\"Rank\")\n",
        "ax.set_ylabel(\"\")\n",
        "ax.set_title(\"Diploma Type Bar chart\")\n",
        "plt.show()"
      ],
      "execution_count": null,
      "outputs": [
        {
          "output_type": "display_data",
          "data": {
            "image/png": "[encoded data removed]",
            "text/plain": [
              "<Figure size 432x288 with 1 Axes>"
            ]
          },
          "metadata": {
            "tags": [],
            "needs_background": "light"
          }
        }
      ]
    },
    {
      "cell_type": "markdown",
      "metadata": {
        "id": "6g_yG6amK_oB"
      },
      "source": [
        "b) Now create a box plot comparison between 'Savings' and 'Salary' columns"
      ]
    },
    {
      "cell_type": "code",
      "metadata": {
        "id": "ZUYMst-MK_oC"
      },
      "source": [
        "#b) (1)\n",
        "savings_salary = [\"Savings\", \"Salary\"]"
      ],
      "execution_count": null,
      "outputs": []
    },
    {
      "cell_type": "markdown",
      "metadata": {
        "id": "egyxh6zIK_oH"
      },
      "source": [
        "c) Generate a histogram with the 'Salary' column and use 12 bins."
      ]
    },
    {
      "cell_type": "code",
      "metadata": {
        "id": "7AUwBOE_K_oI"
      },
      "source": [
        "#c) (1)"
      ],
      "execution_count": null,
      "outputs": []
    },
    {
      "cell_type": "markdown",
      "metadata": {
        "id": "oCMfhUW0K_oL"
      },
      "source": [
        "d) Generate a scatter plot comparing 'Salary' and 'Savings' columns."
      ]
    },
    {
      "cell_type": "code",
      "metadata": {
        "id": "Bx7T359gK_oN"
      },
      "source": [
        "#d) (1)"
      ],
      "execution_count": null,
      "outputs": []
    },
    {
      "cell_type": "markdown",
      "metadata": {
        "id": "Zui-ndg5K_oS"
      },
      "source": [
        "### Question 7 :  Contingency Table (2 Marks)\n",
        "\n",
        "Using both the 'Martial Status' and 'Defaulted' create a contingency table. Hint: crosstab"
      ]
    },
    {
      "cell_type": "code",
      "metadata": {
        "id": "azBiiInRK_oT"
      },
      "source": [
        "# Q7 (2)"
      ],
      "execution_count": null,
      "outputs": []
    }
  ]
}