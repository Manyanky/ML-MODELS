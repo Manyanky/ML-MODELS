{
 "cells": [
  {
   "cell_type": "code",
   "execution_count": null,
   "metadata": {},
   "outputs": [],
   "source": [
    "import pandas as pd\n",
    "import matplotlib.pyplot as plt\n",
    "import sklearn      #scikit-learn is a library for machine learning\n",
    "#modcom.co.ke/datascience/ML\n",
    "\n",
    "#machine learning breaks into two; supervised and unsupervised\n",
    "#supervised; you provide the machine with data train it and let t predict based on that data on its own\n",
    "#unsupervised learning; there is nothing to predict, no predicting, we do data clustering.\n",
    "\n",
    "#supervised is breaks into two, classification and regression\n",
    "#pima indians diabetes dataset\n",
    "from sklearn.metrics import accuracy_score, classification_report, confusion_matrix"
   ]
  },
  {
   "cell_type": "code",
   "execution_count": null,
   "metadata": {},
   "outputs": [],
   "source": [
    "df = pd.read_csv(\"pima-data-orig.csv\")\n",
    "print(df)\n",
    "print(df.isnull().sum())"
   ]
  },
  {
   "cell_type": "code",
   "execution_count": null,
   "metadata": {},
   "outputs": [],
   "source": [
    "fig, ax = plt.subplots()\n",
    "ax.hist(df['insulin'], color='#539caf', bins=30)#bins are not a must because the\n",
    " # Label the axes and provide a title\n",
    "ax.set_title(\"Distribution  of patients insulin\")\n",
    "ax.set_xlabel(\"insulin\")\n",
    "ax.set_ylabel(\"Frequency\")\n",
    "plt.show()\n"
   ]
  },
  {
   "cell_type": "code",
   "execution_count": null,
   "metadata": {},
   "outputs": [],
   "source": [
    "#pie chart\n",
    "df[\"diabetes\"].replace(1, \"positive\", inplace=True)\n",
    "df[\"diabetes\"].replace(0, \"negative\", inplace=True)\n",
    "fig, ax = plt.subplots()\n",
    "df.groupby('diabetes').size().plot(kind='pie',autopct='%1.1f%%')\n",
    "ax.set_xlabel(\"\")\n",
    "ax.set_ylabel(\"\")\n",
    "ax.set_title(\"Distribution of patients diabetes level\")\n",
    "plt.show()\n",
    "print(df.shape)\n"
   ]
  },
  {
   "cell_type": "code",
   "execution_count": null,
   "metadata": {},
   "outputs": [],
   "source": [
    "#heat map\n",
    "import seaborn as sb\n",
    "plt.figure(figsize = (10,5))\n",
    "sb.heatmap(df.corr(), annot=True)\n",
    "plt.show()\n"
   ]
  },
  {
   "cell_type": "code",
   "execution_count": null,
   "metadata": {},
   "outputs": [],
   "source": [
    "print(df[\"insulin\"].describe())"
   ]
  },
  {
   "cell_type": "code",
   "execution_count": null,
   "metadata": {},
   "outputs": [],
   "source": [
    "#Box plot\n",
    "df[\"age\"].plot(kind=\"box\", subplots=True, layout=(1,6), sharex=False, sharey=True)\n",
    "plt.show()\n"
   ]
  },
  {
   "cell_type": "code",
   "execution_count": null,
   "metadata": {},
   "outputs": [],
   "source": [
    "#predicting\n",
    "array= df.values\n",
    "X = array[:,0:8] #0 to 7\n",
    "Y = array[:, 8] #target variable / outcome\n",
    "\n",
    "#split to train, test\n",
    "#x trai and y train will be 70%\n",
    "from sklearn import model_selection\n",
    "#0.30 is the testing split percentage, for testing data\n",
    "X_train, X_test, Y_train, Y_test = model_selection.train_test_split(X,Y, test_size=0.30, random_state=10)\n"
   ]
  },
  {
   "cell_type": "code",
   "execution_count": null,
   "metadata": {},
   "outputs": [],
   "source": [
    "#\n",
    "from sklearn.tree import DecisionTreeClassifier\n",
    "from sklearn.neighbors import KNeighborsClassifier\n",
    "from sklearn.naive_bayes import GaussianNB\n",
    "from sklearn.linear_model import LogisticRegression\n",
    "from sklearn.discriminant_analysis import LinearDiscriminantAnalysis\n",
    "from sklearn.svm import SVC\n"
   ]
  },
  {
   "cell_type": "code",
   "execution_count": null,
   "metadata": {},
   "outputs": [],
   "source": [
    "model = LinearDiscriminantAnalysis()\n",
    "model.fit(X_train, Y_train) #learning process\n",
    "\n",
    "#now lets ask the model to predict x test, we hide y test\n",
    "predictions = model.predict(X_test)\n",
    "print(predictions)\n",
    "\n",
    "print(accuracy_score(Y_test, predictions))        #accuracy_score is imported\n",
    "print(classification_report(Y_test, predictions)) #classification report is imported\n",
    "print(confusion_matrix(Y_test, predictions))      #imported\n"
   ]
  },
  {
   "cell_type": "code",
   "execution_count": null,
   "metadata": {},
   "outputs": [],
   "source": [
    "#new observation\n",
    "newobservation = model.predict([[2,70,80,5,42,140,26,180],[2,45,80,5,42,400,26,29]])\n",
    "print(newobservation)\n"
   ]
  },
  {
   "cell_type": "code",
   "execution_count": null,
   "metadata": {},
   "outputs": [],
   "source": [
    "#model improvement\n",
    "#new data set\n",
    "#https://modcom.co.ke/flask/DataScience/bank.csv     #paste it on your code and convert it to 0 and 1s before exposing it to ML\n",
    "#pool the data, fill empty\n",
    "#https://modcom.co.ke/flask/DataScience/iris.csv\n",
    "#finish ML, hypothesis\n",
    "\n",
    "#feature selection\n",
    "#from sklearn.feature_selection import SelectKBest, chi2\n",
    "\n",
    "#best = SelectKBest(score_func=chi2, k=2)\n",
    "#fit = test.fit(X, Y)\n",
    "#features = var.transform(X)\n",
    "#print(\"selected: \", features)"
   ]
  }
 ],
 "metadata": {
  "kernelspec": {
   "display_name": "Python 3",
   "language": "python",
   "name": "python3"
  },
  "language_info": {
   "codemirror_mode": {
    "name": "ipython",
    "version": 3
   },
   "file_extension": ".py",
   "mimetype": "text/x-python",
   "name": "python",
   "nbconvert_exporter": "python",
   "pygments_lexer": "ipython3",
   "version": "3.7.6"
  }
 },
 "nbformat": 4,
 "nbformat_minor": 4
}
