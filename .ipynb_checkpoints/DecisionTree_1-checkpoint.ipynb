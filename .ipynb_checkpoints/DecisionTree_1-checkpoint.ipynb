{
 "cells": [
  {
   "cell_type": "code",
   "execution_count": null,
   "metadata": {},
   "outputs": [],
   "source": []
  },
  {
   "cell_type": "code",
   "execution_count": 2,
   "metadata": {},
   "outputs": [],
   "source": [
    "training_data =[['Green',3,'Mango'],['Yellow',3,'Mango'],\n",
    "               ['Red',1,'Grape'],['Red',1,'Grape'],['Yellow',3,'Lemon']]\n",
    "\n",
    "#column_labels\n",
    "#Are Used only to print the tree\n",
    "header = [\"color\", \"diameter\", \"Labels\"]"
   ]
  },
  {
   "cell_type": "code",
   "execution_count": 3,
   "metadata": {},
   "outputs": [],
   "source": [
    "def unique_vals(rows, col):\n",
    "    \"\"\"Find the unique value for a column in a dataset\"\"\"\n",
    "    return set([row[col] for row in rows])\n",
    "\n",
    "#unique_values(training_data, 0)\n",
    "#unique_values(training_data, 1)"
   ]
  },
  {
   "cell_type": "code",
   "execution_count": 4,
   "metadata": {},
   "outputs": [],
   "source": [
    "def class_counts(rows):\n",
    "    \"\"\"Counts the number of each type of example in a dataset\"\"\"\n",
    "    counts = {}  #dictionary of label counts\n",
    "    for row in rows:\n",
    "        #in our dataset formart the label is always the last column\n",
    "        label = row[-1]\n",
    "        if label not in counts:\n",
    "            counts[label] = 0\n",
    "        counts[label] += 1\n",
    "    return counts"
   ]
  },
  {
   "cell_type": "code",
   "execution_count": 5,
   "metadata": {},
   "outputs": [],
   "source": [
    "#class_counts(training_data)\n",
    "\n",
    "def is_numeric(value):\n",
    "    \"\"\"Test if  a value is numeric\"\"\"\n",
    "    return isinstance(value,int) or isinstance(value, float)\n",
    "\n"
   ]
  },
  {
   "cell_type": "code",
   "execution_count": 6,
   "metadata": {},
   "outputs": [],
   "source": [
    "class Question:\n",
    "    \"\"\"A question is used to partition a dataset. This class just records a column number (0, for color)\n",
    "    and a column value e.g(green), the match method is used to compare a feature value in our example to\n",
    "    the farure value stored in the question\"\"\"\n",
    "    \n",
    "    def __init__(self,column, value):\n",
    "        self.column = column\n",
    "        self.value = value\n",
    "        \n",
    "    def match(self, example):\n",
    "        #compares the feature value\n",
    "        val = example[self.column]\n",
    "        if is_numeric(val):\n",
    "            return val >= self.value\n",
    "        else:\n",
    "            return val == self.value\n",
    "    "
   ]
  },
  {
   "cell_type": "code",
   "execution_count": 7,
   "metadata": {},
   "outputs": [],
   "source": [
    "def __repr__(self):\n",
    "    #Helper method to print\n",
    "    #the question in a readable formart\n",
    "    \n",
    "    condition = \"==\"\n",
    "    if is_numeric(self.value):\n",
    "        condition = \">\"\n",
    "    return \"Is %S %S %S ?\" %(header[self.column],condition, str(self.value))\n",
    "    \n",
    "     "
   ]
  },
  {
   "cell_type": "code",
   "execution_count": 8,
   "metadata": {},
   "outputs": [],
   "source": [
    "def partition(rows,question):\n",
    "    \"\"\"Partitions the dataset, for each row in the dataset, check if it matches the question , if so add it\n",
    "    to 'true rows' otherwise add it to 'false rows' \"\"\"\n",
    "    \n",
    "\n",
    "    true_rows, false_rows = [],[]\n",
    "    for row in rows:\n",
    "        if question.match(row):\n",
    "            true_rows.append(row)\n",
    "        else:\n",
    "            false_rows.append(row)\n",
    "    return true_rows, false_rows\n"
   ]
  },
  {
   "cell_type": "code",
   "execution_count": 9,
   "metadata": {},
   "outputs": [],
   "source": [
    "def gini(rows):\n",
    "    \"\"\"Calculating gini impurity for a list of rows\"\"\"\n",
    "    \n",
    "    counts = class_counts(rows)\n",
    "    impurity = 1\n",
    "    for lbl in counts:\n",
    "        prob_of_lbl = counts[lbl]/ float(len(rows))\n",
    "        impurity -=  prob_of_lbl **2\n",
    "    return impurity"
   ]
  },
  {
   "cell_type": "code",
   "execution_count": 10,
   "metadata": {},
   "outputs": [],
   "source": [
    "def info_gain(left, right, current_uncertainity):\n",
    "    \"\"\"Information gain, The uncertainity of the starting node minus the weighted impurity of two child nodes\"\"\"\n",
    "    \n",
    "    p = float(len(left))/(len(left) + len(right))\n",
    "    return current_uncertainity - P * gini(left) - (1-p)* gini(right)\n"
   ]
  },
  {
   "cell_type": "code",
   "execution_count": 11,
   "metadata": {},
   "outputs": [],
   "source": [
    "def find_best_split(rows):\n",
    "    \"\"\"Find the best question to ask by iterating over every faeture / value and calculating\n",
    "     the information gain\"\"\"\n",
    "    \n",
    "    best_gain = 0  #keeps track of information gain\n",
    "    best_question = None  #keeps train on the feature\n",
    "    current_uncertainity = gini(rows)\n",
    "    n_features = len(rows[0]) - 1 #no of columns\n",
    "    for col in range (n_features):   #for each feature\n",
    "        values = set([row[col] for row in rows])\n",
    "        for val in values:  #for each value\n",
    "            question = Question(col, val)\n",
    "            \n",
    "            #try splitting the datasets\n",
    "            true_rows, false_rows = partition(rows, question)\n",
    "            \n",
    "            #skip this splitif it doesnt divide the dataset\n",
    "        if len(true_rows)== 0 or len(false_rows)== 0:\n",
    "            continue\n",
    "        #calculate information gain from split\n",
    "        gain = info_gain(true_rows, false_rows, current_uncertainity)\n",
    "        \n",
    "        if gain >= best_gain:\n",
    "            best_gain, best_question = gain, question\n",
    "        return best_gain, best_question\n",
    "    "
   ]
  },
  {
   "cell_type": "code",
   "execution_count": 12,
   "metadata": {},
   "outputs": [],
   "source": [
    "class Leaf:\n",
    "    \"\"\"A leaf node classification data.This holds a dictionary of class number of times it appears in \n",
    "    appears in the training data\"\"\"\n",
    "    \n",
    "    def __init__(self, rows):\n",
    "        self.predictions = class_counts(rows)"
   ]
  },
  {
   "cell_type": "code",
   "execution_count": 13,
   "metadata": {},
   "outputs": [],
   "source": [
    "class Decision_Node:\n",
    "    \"\"\"A decision node asks a question, This holds a reference  to the question and to the two child nodes\"\"\"\n",
    "    \n",
    "    def __init__(self, question, true_branch, false_branch):\n",
    "        self.question = question\n",
    "        self.true_branch =  true_branch\n",
    "        self.false_branch = false_branch\n",
    "        \n",
    "    "
   ]
  },
  {
   "cell_type": "code",
   "execution_count": 14,
   "metadata": {},
   "outputs": [],
   "source": [
    "def build_tree(rows):\n",
    "    \"\"\"Builds the tree \"\"\"\n",
    "    gain,question = find_best_split(rows)\n",
    "    \n",
    "    if gain == 0:\n",
    "        return Leaf(rows)\n",
    "    true_rows,false_rows = partition(rows, questions)\n",
    "    \n",
    "    #Recursively\n",
    "    true_branch = build_tree(true_rows)\n",
    "    false_branch = build_tree(false_rows)\n",
    "    \n",
    "\n",
    "\n"
   ]
  },
  {
   "cell_type": "code",
   "execution_count": 15,
   "metadata": {},
   "outputs": [],
   "source": [
    "def pint_tree(node, spacing = ''):\n",
    "    \"\"\"World's most elegenat tree printing formart\"\"\"\n",
    "    \n",
    "    if isinstance (node, Leaf):\n",
    "        print(spacing + \"predict\", node.predictions)\n",
    "        return\n",
    "    print(spacing + str(node.question))\n",
    "    print(spacing + '-->True')\n",
    "    print(tree(node.true_branch,spacing + \" \"))\n",
    "    print(spacing + '-->False')\n",
    "    print(tree(node.false_branch,spacing + \" \"))"
   ]
  },
  {
   "cell_type": "code",
   "execution_count": 16,
   "metadata": {},
   "outputs": [],
   "source": [
    "def classify(row,node):\n",
    "    if isinstance(node, Leaf):\n",
    "        return node.predictions\n",
    "    if node.question.match(row):\n",
    "        return classify(row, node.true_branch)\n",
    "    else:\n",
    "        return classify(row, node.false_branch)\n",
    "        "
   ]
  },
  {
   "cell_type": "code",
   "execution_count": 19,
   "metadata": {},
   "outputs": [
    {
     "ename": "NameError",
     "evalue": "name '_name_' is not defined",
     "output_type": "error",
     "traceback": [
      "\u001b[1;31m---------------------------------------------------------------------------\u001b[0m",
      "\u001b[1;31mNameError\u001b[0m                                 Traceback (most recent call last)",
      "\u001b[1;32m<ipython-input-19-7a7a51150b23>\u001b[0m in \u001b[0;36m<module>\u001b[1;34m\u001b[0m\n\u001b[0;32m      7\u001b[0m     \u001b[1;32mreturn\u001b[0m \u001b[0mprobs\u001b[0m\u001b[1;33m\u001b[0m\u001b[1;33m\u001b[0m\u001b[0m\n\u001b[0;32m      8\u001b[0m \u001b[1;33m\u001b[0m\u001b[0m\n\u001b[1;32m----> 9\u001b[1;33m \u001b[1;32mif\u001b[0m \u001b[0m_name_\u001b[0m \u001b[1;33m==\u001b[0m \u001b[1;34m'_main_'\u001b[0m\u001b[1;33m:\u001b[0m\u001b[1;33m\u001b[0m\u001b[1;33m\u001b[0m\u001b[0m\n\u001b[0m\u001b[0;32m     10\u001b[0m     \u001b[0mmy_tree\u001b[0m \u001b[1;33m=\u001b[0m \u001b[0mbuild_tree\u001b[0m\u001b[1;33m(\u001b[0m\u001b[0mtraining_data\u001b[0m\u001b[1;33m)\u001b[0m\u001b[1;33m\u001b[0m\u001b[1;33m\u001b[0m\u001b[0m\n\u001b[0;32m     11\u001b[0m     \u001b[0mprint_tree\u001b[0m\u001b[1;33m(\u001b[0m\u001b[0mmy_tree\u001b[0m\u001b[1;33m)\u001b[0m\u001b[1;33m\u001b[0m\u001b[1;33m\u001b[0m\u001b[0m\n",
      "\u001b[1;31mNameError\u001b[0m: name '_name_' is not defined"
     ]
    }
   ],
   "source": [
    "def print_leaf(counts):\n",
    "    \"\"\"print prediction at a leaf\"\"\"\n",
    "    total = sum(counts.values())* 1.0\n",
    "    probs = {}\n",
    "    for lbl in counts.keys():\n",
    "        probs[lbl] = str(int(counts[lbl] / total * 100)) + \"%\"\n",
    "    return probs\n",
    "\n",
    "if _name_ == '_main_':\n",
    "    my_tree = build_tree(training_data)\n",
    "    print_tree(my_tree)\n",
    "    \n",
    "    #Evaluate\n",
    "    testing_data = [['Green',3,'Mango'],['Yellow',4,'Mango'],\n",
    "               ['Red',2,'Grape'],['Red',1,'Grape'],['Yellow',3,'Lemon']]\n",
    "    \n",
    "    for row in  testing_data:\n",
    "        print(\" Actual: %s. predicted: %s \" % (row[-1], print_leaf(classify(row, my_tree))))\n",
    "    \n"
   ]
  },
  {
   "cell_type": "code",
   "execution_count": null,
   "metadata": {},
   "outputs": [],
   "source": []
  }
 ],
 "metadata": {
  "kernelspec": {
   "display_name": "Python 3",
   "language": "python",
   "name": "python3"
  },
  "language_info": {
   "codemirror_mode": {
    "name": "ipython",
    "version": 3
   },
   "file_extension": ".py",
   "mimetype": "text/x-python",
   "name": "python",
   "nbconvert_exporter": "python",
   "pygments_lexer": "ipython3",
   "version": "3.7.6"
  }
 },
 "nbformat": 4,
 "nbformat_minor": 4
}
