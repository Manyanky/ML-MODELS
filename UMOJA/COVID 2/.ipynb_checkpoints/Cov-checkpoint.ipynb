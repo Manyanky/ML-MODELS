{
 "cells": [
  {
   "cell_type": "code",
   "execution_count": 2,
   "metadata": {},
   "outputs": [
    {
     "data": {
      "text/html": [
       "<div>\n",
       "<style scoped>\n",
       "    .dataframe tbody tr th:only-of-type {\n",
       "        vertical-align: middle;\n",
       "    }\n",
       "\n",
       "    .dataframe tbody tr th {\n",
       "        vertical-align: top;\n",
       "    }\n",
       "\n",
       "    .dataframe thead th {\n",
       "        text-align: right;\n",
       "    }\n",
       "</style>\n",
       "<table border=\"1\" class=\"dataframe\">\n",
       "  <thead>\n",
       "    <tr style=\"text-align: right;\">\n",
       "      <th></th>\n",
       "      <th>Territory X Date</th>\n",
       "      <th>target</th>\n",
       "      <th>cases</th>\n",
       "      <th>Territory</th>\n",
       "      <th>Date</th>\n",
       "    </tr>\n",
       "  </thead>\n",
       "  <tbody>\n",
       "    <tr>\n",
       "      <th>0</th>\n",
       "      <td>Afghanistan X 1/22/20</td>\n",
       "      <td>0</td>\n",
       "      <td>0</td>\n",
       "      <td>Afghanistan</td>\n",
       "      <td>1/22/20</td>\n",
       "    </tr>\n",
       "    <tr>\n",
       "      <th>1</th>\n",
       "      <td>Afghanistan X 1/23/20</td>\n",
       "      <td>0</td>\n",
       "      <td>0</td>\n",
       "      <td>Afghanistan</td>\n",
       "      <td>1/23/20</td>\n",
       "    </tr>\n",
       "  </tbody>\n",
       "</table>\n",
       "</div>"
      ],
      "text/plain": [
       "        Territory X Date  target  cases    Territory     Date\n",
       "0  Afghanistan X 1/22/20       0      0  Afghanistan  1/22/20\n",
       "1  Afghanistan X 1/23/20       0      0  Afghanistan  1/23/20"
      ]
     },
     "execution_count": 2,
     "metadata": {},
     "output_type": "execute_result"
    }
   ],
   "source": [
    "import pandas as pd\n",
    "import numpy as np\n",
    "import matplotlib.pyplot as plt\n",
    "\n",
    "Training_Data = pd.read_csv(\"train.csv\")\n",
    "sublocal = pd.read_csv(\"sampleSubLocal.csv\")\n",
    "sampleSub = pd.read_csv(\"SampleSubmission.csv\")\n",
    "Training_Data.head(2)"
   ]
  },
  {
   "cell_type": "code",
   "execution_count": 6,
   "metadata": {},
   "outputs": [
    {
     "data": {
      "text/plain": [
       "(14839, 5)"
      ]
     },
     "execution_count": 6,
     "metadata": {},
     "output_type": "execute_result"
    }
   ],
   "source": [
    "#Training_Data.shape"
   ]
  },
  {
   "cell_type": "code",
   "execution_count": 7,
   "metadata": {},
   "outputs": [
    {
     "data": {
      "text/html": [
       "<div>\n",
       "<style scoped>\n",
       "    .dataframe tbody tr th:only-of-type {\n",
       "        vertical-align: middle;\n",
       "    }\n",
       "\n",
       "    .dataframe tbody tr th {\n",
       "        vertical-align: top;\n",
       "    }\n",
       "\n",
       "    .dataframe thead th {\n",
       "        text-align: right;\n",
       "    }\n",
       "</style>\n",
       "<table border=\"1\" class=\"dataframe\">\n",
       "  <thead>\n",
       "    <tr style=\"text-align: right;\">\n",
       "      <th></th>\n",
       "      <th>Territory X Date</th>\n",
       "      <th>target</th>\n",
       "    </tr>\n",
       "  </thead>\n",
       "  <tbody>\n",
       "    <tr>\n",
       "      <th>1461</th>\n",
       "      <td>Zimbabwe X 4/7/20</td>\n",
       "      <td>0</td>\n",
       "    </tr>\n",
       "    <tr>\n",
       "      <th>1462</th>\n",
       "      <td>Zimbabwe X 4/8/20</td>\n",
       "      <td>0</td>\n",
       "    </tr>\n",
       "  </tbody>\n",
       "</table>\n",
       "</div>"
      ],
      "text/plain": [
       "       Territory X Date  target\n",
       "1461  Zimbabwe X 4/7/20       0\n",
       "1462  Zimbabwe X 4/8/20       0"
      ]
     },
     "execution_count": 7,
     "metadata": {},
     "output_type": "execute_result"
    }
   ],
   "source": [
    "#sublocal.tail(2)"
   ]
  },
  {
   "cell_type": "code",
   "execution_count": 2,
   "metadata": {},
   "outputs": [
    {
     "data": {
      "text/html": [
       "<div>\n",
       "<style scoped>\n",
       "    .dataframe tbody tr th:only-of-type {\n",
       "        vertical-align: middle;\n",
       "    }\n",
       "\n",
       "    .dataframe tbody tr th {\n",
       "        vertical-align: top;\n",
       "    }\n",
       "\n",
       "    .dataframe thead th {\n",
       "        text-align: right;\n",
       "    }\n",
       "</style>\n",
       "<table border=\"1\" class=\"dataframe\">\n",
       "  <thead>\n",
       "    <tr style=\"text-align: right;\">\n",
       "      <th></th>\n",
       "      <th>Territory X Date</th>\n",
       "      <th>target</th>\n",
       "    </tr>\n",
       "  </thead>\n",
       "  <tbody>\n",
       "    <tr>\n",
       "      <th>19645</th>\n",
       "      <td>Zimbabwe X 06/07/20</td>\n",
       "      <td>0</td>\n",
       "    </tr>\n",
       "  </tbody>\n",
       "</table>\n",
       "</div>"
      ],
      "text/plain": [
       "          Territory X Date  target\n",
       "19645  Zimbabwe X 06/07/20       0"
      ]
     },
     "execution_count": 2,
     "metadata": {},
     "output_type": "execute_result"
    }
   ],
   "source": [
    "sampleSub.tail(1)"
   ]
  },
  {
   "cell_type": "code",
   "execution_count": 5,
   "metadata": {},
   "outputs": [
    {
     "data": {
      "text/html": [
       "<div>\n",
       "<style scoped>\n",
       "    .dataframe tbody tr th:only-of-type {\n",
       "        vertical-align: middle;\n",
       "    }\n",
       "\n",
       "    .dataframe tbody tr th {\n",
       "        vertical-align: top;\n",
       "    }\n",
       "\n",
       "    .dataframe thead th {\n",
       "        text-align: right;\n",
       "    }\n",
       "</style>\n",
       "<table border=\"1\" class=\"dataframe\">\n",
       "  <thead>\n",
       "    <tr style=\"text-align: right;\">\n",
       "      <th></th>\n",
       "      <th>Territory X Date</th>\n",
       "      <th>target</th>\n",
       "      <th>cases</th>\n",
       "      <th>Territory</th>\n",
       "      <th>Date</th>\n",
       "    </tr>\n",
       "  </thead>\n",
       "  <tbody>\n",
       "    <tr>\n",
       "      <th>0</th>\n",
       "      <td>Afghanistan X 1/22/20</td>\n",
       "      <td>0</td>\n",
       "      <td>0</td>\n",
       "      <td>Afghanistan</td>\n",
       "      <td>1/22/20</td>\n",
       "    </tr>\n",
       "  </tbody>\n",
       "</table>\n",
       "</div>"
      ],
      "text/plain": [
       "        Territory X Date  target  cases    Territory     Date\n",
       "0  Afghanistan X 1/22/20       0      0  Afghanistan  1/22/20"
      ]
     },
     "execution_count": 5,
     "metadata": {},
     "output_type": "execute_result"
    }
   ],
   "source": [
    "train = pd.read_csv(\"train.csv\")\n",
    "train.head(1)"
   ]
  },
  {
   "cell_type": "code",
   "execution_count": 8,
   "metadata": {},
   "outputs": [
    {
     "data": {
      "text/html": [
       "<div>\n",
       "<style scoped>\n",
       "    .dataframe tbody tr th:only-of-type {\n",
       "        vertical-align: middle;\n",
       "    }\n",
       "\n",
       "    .dataframe tbody tr th {\n",
       "        vertical-align: top;\n",
       "    }\n",
       "\n",
       "    .dataframe thead th {\n",
       "        text-align: right;\n",
       "    }\n",
       "</style>\n",
       "<table border=\"1\" class=\"dataframe\">\n",
       "  <thead>\n",
       "    <tr style=\"text-align: right;\">\n",
       "      <th></th>\n",
       "      <th>cases</th>\n",
       "      <th>Date</th>\n",
       "    </tr>\n",
       "  </thead>\n",
       "  <tbody>\n",
       "    <tr>\n",
       "      <th>0</th>\n",
       "      <td>0</td>\n",
       "      <td>2020-01-22</td>\n",
       "    </tr>\n",
       "    <tr>\n",
       "      <th>1</th>\n",
       "      <td>0</td>\n",
       "      <td>2020-01-23</td>\n",
       "    </tr>\n",
       "  </tbody>\n",
       "</table>\n",
       "</div>"
      ],
      "text/plain": [
       "   cases       Date\n",
       "0      0 2020-01-22\n",
       "1      0 2020-01-23"
      ]
     },
     "execution_count": 8,
     "metadata": {},
     "output_type": "execute_result"
    }
   ],
   "source": [
    "train.drop(['Territory','Territory X Date','target'],inplace=True,axis=1)\n",
    "train.head(2)"
   ]
  },
  {
   "cell_type": "code",
   "execution_count": 9,
   "metadata": {},
   "outputs": [
    {
     "data": {
      "text/html": [
       "<div>\n",
       "<style scoped>\n",
       "    .dataframe tbody tr th:only-of-type {\n",
       "        vertical-align: middle;\n",
       "    }\n",
       "\n",
       "    .dataframe tbody tr th {\n",
       "        vertical-align: top;\n",
       "    }\n",
       "\n",
       "    .dataframe thead th {\n",
       "        text-align: right;\n",
       "    }\n",
       "</style>\n",
       "<table border=\"1\" class=\"dataframe\">\n",
       "  <thead>\n",
       "    <tr style=\"text-align: right;\">\n",
       "      <th></th>\n",
       "      <th>cases</th>\n",
       "    </tr>\n",
       "    <tr>\n",
       "      <th>Date</th>\n",
       "      <th></th>\n",
       "    </tr>\n",
       "  </thead>\n",
       "  <tbody>\n",
       "    <tr>\n",
       "      <th>2020-01-22</th>\n",
       "      <td>0</td>\n",
       "    </tr>\n",
       "    <tr>\n",
       "      <th>2020-01-23</th>\n",
       "      <td>0</td>\n",
       "    </tr>\n",
       "  </tbody>\n",
       "</table>\n",
       "</div>"
      ],
      "text/plain": [
       "            cases\n",
       "Date             \n",
       "2020-01-22      0\n",
       "2020-01-23      0"
      ]
     },
     "execution_count": 9,
     "metadata": {},
     "output_type": "execute_result"
    }
   ],
   "source": [
    "#Passing string to detect time type\n",
    "train['Date'] = pd.to_datetime(train['Date'],infer_datetime_format = True)\n",
    "trainIndexed = train.set_index(['Date'])\n",
    "\n",
    "from datetime import datetime\n",
    "trainIndexed.head(2)"
   ]
  },
  {
   "cell_type": "code",
   "execution_count": 10,
   "metadata": {},
   "outputs": [
    {
     "data": {
      "text/plain": [
       "[<matplotlib.lines.Line2D at 0xa8d2bc2b88>]"
      ]
     },
     "execution_count": 10,
     "metadata": {},
     "output_type": "execute_result"
    },
    {
     "data": {
      "image/png": "[encoded data removed]",
      "text/plain": [
       "<Figure size 432x288 with 1 Axes>"
      ]
     },
     "metadata": {
      "needs_background": "light"
     },
     "output_type": "display_data"
    }
   ],
   "source": [
    "#Plotting Graphs\n",
    "plt.xlabel('Date')\n",
    "plt.ylabel('Number of Cases')\n",
    "plt.plot(trainIndexed)"
   ]
  },
  {
   "cell_type": "code",
   "execution_count": 12,
   "metadata": {},
   "outputs": [
    {
     "name": "stdout",
     "output_type": "stream",
     "text": [
      "                cases\n",
      "Date                 \n",
      "2020-01-22        NaN\n",
      "2020-01-23        NaN\n",
      "2020-01-24        NaN\n",
      "2020-01-25        NaN\n",
      "2020-01-26        NaN\n",
      "...               ...\n",
      "2020-03-28  13.282192\n",
      "2020-03-29  13.301370\n",
      "2020-03-30  13.320548\n",
      "2020-03-31  13.342466\n",
      "2020-04-01  13.364384\n",
      "\n",
      "[14839 rows x 1 columns]                 cases\n",
      "Date                 \n",
      "2020-01-22        NaN\n",
      "2020-01-23        NaN\n",
      "2020-01-24        NaN\n",
      "2020-01-25        NaN\n",
      "2020-01-26        NaN\n",
      "...               ...\n",
      "2020-03-28  35.632277\n",
      "2020-03-29  35.626992\n",
      "2020-03-30  35.621696\n",
      "2020-03-31  35.615938\n",
      "2020-04-01  35.610166\n",
      "\n",
      "[14839 rows x 1 columns]\n"
     ]
    }
   ],
   "source": [
    "#Calculating rolling statistics\n",
    "rolingMean = trainIndexed.rolling(window=365).mean()\n",
    "rolingStd = trainIndexed.rolling(window=365).std()\n",
    "print(rolingMean, rolingStd)"
   ]
  },
  {
   "cell_type": "code",
   "execution_count": 13,
   "metadata": {},
   "outputs": [
    {
     "data": {
      "image/png": "[encoded data removed]",
      "text/plain": [
       "<Figure size 432x288 with 1 Axes>"
      ]
     },
     "metadata": {
      "needs_background": "light"
     },
     "output_type": "display_data"
    }
   ],
   "source": [
    "#plotting rolling statistics\n",
    "original = plt.plot(trainIndexed, color = 'Green', label = 'Original Plot')\n",
    "Average = plt.plot(rolingMean, color = 'red', label = 'Rolling mean Plot')\n",
    "std = plt.plot(rolingStd, color = 'black', label = 'Rolling std Plot')\n",
    "plt.legend(loc = 'best')\n",
    "plt.title('Rolling Mean Vs Standard deviation')\n",
    "plt.show(block=False)\n"
   ]
  },
  {
   "cell_type": "code",
   "execution_count": 15,
   "metadata": {},
   "outputs": [
    {
     "ename": "ModuleNotFoundError",
     "evalue": "No module named 'statsmodels'",
     "output_type": "error",
     "traceback": [
      "\u001b[1;31m---------------------------------------------------------------------------\u001b[0m",
      "\u001b[1;31mModuleNotFoundError\u001b[0m                       Traceback (most recent call last)",
      "\u001b[1;32m<ipython-input-15-0b2a22de9a70>\u001b[0m in \u001b[0;36m<module>\u001b[1;34m\u001b[0m\n\u001b[0;32m      1\u001b[0m \u001b[1;31m#Applying Dickey fuller test to check on stationarity\u001b[0m\u001b[1;33m\u001b[0m\u001b[1;33m\u001b[0m\u001b[1;33m\u001b[0m\u001b[0m\n\u001b[0;32m      2\u001b[0m \u001b[1;33m\u001b[0m\u001b[0m\n\u001b[1;32m----> 3\u001b[1;33m \u001b[1;32mfrom\u001b[0m \u001b[0mstatsmodels\u001b[0m\u001b[1;33m.\u001b[0m\u001b[0mtsa\u001b[0m\u001b[1;33m.\u001b[0m\u001b[0mstattools\u001b[0m \u001b[1;32mimport\u001b[0m \u001b[0madfuller\u001b[0m\u001b[1;33m\u001b[0m\u001b[1;33m\u001b[0m\u001b[0m\n\u001b[0m\u001b[0;32m      4\u001b[0m \u001b[1;33m\u001b[0m\u001b[0m\n\u001b[0;32m      5\u001b[0m \u001b[0mprint\u001b[0m\u001b[1;33m(\u001b[0m\u001b[1;34m'Results of the Dickey Fuller test: '\u001b[0m\u001b[1;33m)\u001b[0m\u001b[1;33m\u001b[0m\u001b[1;33m\u001b[0m\u001b[0m\n",
      "\u001b[1;31mModuleNotFoundError\u001b[0m: No module named 'statsmodels'"
     ]
    }
   ],
   "source": [
    "#Applying Dickey fuller test to check on stationarity\n",
    "\n",
    "from statsmodels.tsa.stattools import adfuller\n",
    "\n",
    "print('Results of the Dickey Fuller test: ')\n",
    "\n",
    "dkFtest = adfuller(trainIndexed['#Cases'], autolag =\"AIC\")\n",
    "dkOutput = pd.Series(dkFtest[0:4], index=['Test statistics','p.value','lags used','Number of observations used'])\n",
    "\n",
    "for key,value in dkFtest[4].Herms():\n",
    "    dkOutput['Critical value(%s)' %key] = value\n",
    "    \n",
    "print(dkOutput)\n",
    "    "
   ]
  },
  {
   "cell_type": "code",
   "execution_count": null,
   "metadata": {},
   "outputs": [],
   "source": [
    "#We now estimate trend\n",
    "\n",
    "trainIndexed_logscale = np.log(indexedDataset)\n",
    "plt.plot(trainIndexed_logscale)"
   ]
  },
  {
   "cell_type": "code",
   "execution_count": null,
   "metadata": {},
   "outputs": [],
   "source": [
    "#moving average\n",
    "\n",
    "movingAverage = trainIndexed_logscale.rolling(windows = 365).mean()\n",
    "movingSTD = trainIndexed_logscale.rolling(windows = 365).std()\n",
    "plt.plot(trainIndexed_logscale)\n",
    "plt.plot(movingAverage, color= 'red')"
   ]
  },
  {
   "cell_type": "code",
   "execution_count": null,
   "metadata": {},
   "outputs": [],
   "source": [
    "#mvDifference, difference between data logscale and moving average\n",
    "mvDifference = trainIndexed_logscale - movingAverage\n",
    "mvDifference.head()"
   ]
  },
  {
   "cell_type": "code",
   "execution_count": null,
   "metadata": {},
   "outputs": [],
   "source": [
    "#Removing Nan values\n",
    "mvDifference.dropna(inplace =  True)\n",
    "mvDifference.head()"
   ]
  },
  {
   "cell_type": "code",
   "execution_count": null,
   "metadata": {},
   "outputs": [],
   "source": [
    "from statsmodel.tsa.stattools import adfuller\n",
    "\n",
    "def stationarity_test(timeseries):\n",
    "    \n",
    "    #determining rolling statistics\n",
    "    movingAverage = timeseries.rolling(window=365).mean()\n",
    "    movingSTD = timeseries.rolling(window=365).std()\n",
    "    \n",
    "    #plot rolling statistics\n",
    "    original = plt.plot(timeseries, color='Green',label='original')\n",
    "    mean = plt.plot(movingAverage, color='red',label='Rolling mean')\n",
    "    std = plt.plot(movingSTD, color='black',label='Rolling std')\n",
    "    plt.legend(loc='best')\n",
    "    plt.title('Rolling mean and Standard deviation')\n",
    "    plt.show(block = False)\n",
    "    \n",
    "    #Repeating Dickey fuller test\n",
    "\n",
    "    print('Results of the Dickey Fuller tesr: ')\n",
    "\n",
    "    dkFtest = adfuller(trainIndexed['#Cases'], autolag =\"AIC\")\n",
    "    dkOutput = pd.Series(dkFtest[0:4], index=['Test statistics','p.value','lags used','Number of observations used'])\n",
    "\n",
    "    for key,value in dkFtest[4].Herms():\n",
    "        dkOutput['Critical value(%s)' %key] = value\n",
    "    \n",
    "    print(dkOutput)\n",
    "\n",
    "\n",
    "    "
   ]
  },
  {
   "cell_type": "code",
   "execution_count": null,
   "metadata": {},
   "outputs": [],
   "source": [
    "stationarity_test(mvDifference)"
   ]
  },
  {
   "cell_type": "code",
   "execution_count": null,
   "metadata": {},
   "outputs": [],
   "source": [
    ":\"\"\"Calculating weighted average of time series to see the trends present in the time series\"\"\"\n",
    "\n",
    "exponentialDecayWeightAv = trainIndexed_logscale.ewm(halflife=12,min_period=0,adjust=True).mean()\n",
    "plt.plot(trainIndexed_logscale)\n",
    "plt.plot(exponentialDecayWeightAv, color='red')"
   ]
  },
  {
   "cell_type": "code",
   "execution_count": null,
   "metadata": {},
   "outputs": [],
   "source": [
    "datalogscalMinusMovingexponentialDecayWeightAv =trainIndexed_logscale - exponentialDecayWeightAv \n",
    "stationarity_test(datalogscalMinusMovingexponentialDecayWeightAv)"
   ]
  },
  {
   "cell_type": "code",
   "execution_count": null,
   "metadata": {},
   "outputs": [],
   "source": [
    "\"\"\"shifting values to time series for forecasting\"\"\"\n",
    "dataLogDifShifting = trainIndexed_logscale - trainIndexed_logscale.shift()\n",
    "plt.plot(dataLogDifShifting)"
   ]
  },
  {
   "cell_type": "code",
   "execution_count": null,
   "metadata": {},
   "outputs": [],
   "source": [
    "dataLogDifShifting.dropna(inplace = True)\n",
    "stationary_test(dataLogDifShifting)"
   ]
  },
  {
   "cell_type": "code",
   "execution_count": null,
   "metadata": {},
   "outputs": [],
   "source": [
    "from statsmodels.tsa.seasonal import seasonal_decompose\n",
    "\n",
    "decomposition = seasonal_decompose(trainIndexed_logscale)\n",
    "\n",
    "trend = decomposition.trend\n",
    "seasonal = decomposition.seasonal\n",
    "residual = decomposition.resid\n",
    "\n",
    "plt.subplot(411)\n",
    "plt.plot(trainIndexed_logscale, label = 'Original')\n",
    "plt.legend(loc = best)\n",
    "plt.subplot(412)\n",
    "plt.plot(trend,label='Trend')\n",
    "plt.legend(loc='best')\n",
    "plt.subplots(413)\n",
    "plt.plot(seasonal,label = 'seasonality')\n",
    "plt.legend(loc='best')\n",
    "plt.subplot(414)\n",
    "plt.plot(residual,label='residual')\n",
    "plt.legend(loc='best')\n",
    "plt.tight_layout()\n",
    "\n",
    "decomposedLogData = residual\n",
    "decomposedLogdata.dropna(inplace=True)\n",
    "test_stationarity(decomposedLogData)\n"
   ]
  },
  {
   "cell_type": "code",
   "execution_count": null,
   "metadata": {},
   "outputs": [],
   "source": [
    "#ACF(autocorelative ) and PACF(partial autocorelative)\n",
    "\n",
    "from statsmodels.tsa.stattools import acf, pacf\n",
    "\n",
    "acfLag = acf(dataLogDifShifting, nlags = 20)\n",
    "pacflag = pacf(dataLogDifShifting, nlags = 20, method = 'ols')\n",
    "\n",
    "#Now lets plot acf\n",
    "plt.subplots(121)\n",
    "plt.plot(acfLag)\n",
    "plt.axhline(y=0,linestyle='--', color='gray')\n",
    "plt.axhline(y=-1.96/np.sqrt(len(dataLogDifShifting)),linestyle='--',color='gray')\n",
    "plt.axhliney=1.96/np.sqrt(len(dataLogDifShifting)),linestyle='--'color='gray')\n",
    "plt.title('Autocorrelation Function')\n",
    "\n",
    "#ploting pacf\n",
    "plt.subplot(122)\n",
    "plt.plot(pacfLag)\n",
    "plt.axhline(y=0, linestyle='--',color='gray')\n",
    "plt.axhline(y=-1.96/np.sqrt(len(dataLogDifShifting)),linestyle='--',color='gray')\n",
    "plt.axhline(y=1.96/np.sqrt(len(dataLogDifShifting)),linestyle='--',color='gray')\n",
    "plt.title('partial autocorelation function')\n",
    "plt.tight_layout()\n"
   ]
  },
  {
   "cell_type": "code",
   "execution_count": null,
   "metadata": {},
   "outputs": [],
   "source": [
    "from statsmodels.tsa.arima_model import ARIMA\n",
    "\n",
    "#AR model\n",
    "model = ARIMA(trainIndexed_logscale, order = (2, 1, 2))\n",
    "results_AR = model.fit(disp=-1)\n",
    "plt.plot(dataLogDifShifting)\n",
    "plt.plot(results_AR.fittedvalues, color='red')\n",
    "plt.title('RSS: %.4f'% sum((results_AR.fittedvalues-dataLogDifShifting[\"#cases\"])**2))\n",
    "print('Plotting AR model')\n",
    "\n",
    "    "
   ]
  },
  {
   "cell_type": "code",
   "execution_count": null,
   "metadata": {},
   "outputs": [],
   "source": [
    "#MA model\n",
    "model = ARIMA(trainIndexed_logscale, order=(0,1,2))\n",
    "results_MA = model.fit(disp=-1)\n",
    "plt.plot(dataLogDifShifting)\n",
    "plt.plot(results_MA.fittedvalues, color='red')\n",
    "plt.title('RSS: %.4f'% sum((results_MA.fittedvalues-dataLogDifShifting['#cases'])**2))\n",
    "print('Plotting AR model')"
   ]
  },
  {
   "cell_type": "code",
   "execution_count": null,
   "metadata": {},
   "outputs": [],
   "source": [
    "model = ARIMA(trainIndexed_logscale, order=(2, 1, 2))\n",
    "results_ARIMA = model.fit(disp=-1)\n",
    "plt.plot(dataLogDifShifting)\n",
    "plt.plot(results_ARIMA.fittedvalues, color='red')\n",
    "plt.title('RSS: %.4f'% sum((results_ARIMA.fittedvalues-dataLogDifShifting['#cases'])**2)))\n"
   ]
  },
  {
   "cell_type": "code",
   "execution_count": null,
   "metadata": {},
   "outputs": [],
   "source": [
    "predictionARIMAdiff = pd.Series(results_ARIMA.fittedvalues, copy=True)\n",
    "print(predictionARIMAdiff.head())"
   ]
  },
  {
   "cell_type": "code",
   "execution_count": null,
   "metadata": {},
   "outputs": [],
   "source": [
    "#Converting to cumulative sum\n",
    "predictionsARIMAdiffcumsum=predictionARIMAdiff.cumsum()\n",
    "print(predictionsARIMAdiffcumsum.head())"
   ]
  },
  {
   "cell_type": "code",
   "execution_count": null,
   "metadata": {},
   "outputs": [],
   "source": [
    "predictionsARIMAlog = pd.Series(trainIndexed_logscale['#cases'].ix[0],index=trainIndexed_logscale.index)\n",
    "predictionsARIMAlog = predictionsARIMAlog.add(predictionsARIMAdiffcumsum,fill_value=0)\n",
    "predictionsARIMAlog.head()"
   ]
  },
  {
   "cell_type": "code",
   "execution_count": null,
   "metadata": {},
   "outputs": [],
   "source": [
    "predictionsARIMA=np.exp(predictionsARIMAlog)\n",
    "plt.plot(trainIndexed)\n",
    "plt.plot(predictionsARIMA)"
   ]
  },
  {
   "cell_type": "code",
   "execution_count": null,
   "metadata": {},
   "outputs": [],
   "source": [
    "trainIndexed_logscale"
   ]
  },
  {
   "cell_type": "code",
   "execution_count": null,
   "metadata": {},
   "outputs": [],
   "source": [
    "#results ARIMA plot\n",
    "#results_ARIMA.plot_predict(1,264)\n",
    "x=results_ARIMA.forecast(steps = 120)"
   ]
  },
  {
   "cell_type": "code",
   "execution_count": null,
   "metadata": {},
   "outputs": [],
   "source": [
    "x[1]"
   ]
  },
  {
   "cell_type": "code",
   "execution_count": null,
   "metadata": {},
   "outputs": [],
   "source": [
    "len(x[1])"
   ]
  },
  {
   "cell_type": "code",
   "execution_count": null,
   "metadata": {},
   "outputs": [],
   "source": [
    "np.exp(x[1])"
   ]
  }
 ],
 "metadata": {
  "kernelspec": {
   "display_name": "Python 3",
   "language": "python",
   "name": "python3"
  },
  "language_info": {
   "codemirror_mode": {
    "name": "ipython",
    "version": 3
   },
   "file_extension": ".py",
   "mimetype": "text/x-python",
   "name": "python",
   "nbconvert_exporter": "python",
   "pygments_lexer": "ipython3",
   "version": "3.7.6"
  }
 },
 "nbformat": 4,
 "nbformat_minor": 4
}
