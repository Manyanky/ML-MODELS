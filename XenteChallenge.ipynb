{
 "cells": [
  {
   "cell_type": "code",
   "execution_count": null,
   "metadata": {},
   "outputs": [],
   "source": [
    "#Getting the necessary required headerfiles\n",
    "\n",
    "import pandas as pd   #for our exploratory data analysis\n",
    "import matplotlib.pyplot as plt  #We will need to do some plotting\n",
    "import numpy as np         #Numerical calculations, linear algebra\n",
    "from sklearn import metrics   #Getting the necessary evaluation matrix\n",
    "# %matplotlib inline           #setting the backend of the matplotlib to the inline backend\n",
    "#from matplotlib.pylablab import rcParams  #for custom styles incase of need\n",
    "import seaborn as sns   #interactive plots\n",
    "from datetime import datetime\n",
    "#rcParams['figure.figsize'] = 10, 6\n",
    "\n",
    "from sklearn.linear_model import LogisticRegression  #for regression\n",
    "from sklearn.ensemble import RandomForestClassifier   #Random forest algorithm\n",
    "from sklearn.naive_bayes import GaussianNB     #Gaussian Naive Bayes for performing online updates for the model parameters.(Normal distribution)\n",
    "from sklearn.neighbors import KNeighborsClassifier  #KNN classification\n",
    "from sklearn.tree import DecisionTreeClassifier  #DecisionTree\n",
    "from sklearn import svm             #Support vector machine for machine learning\n",
    "from sklearn.model_selection import train_test_split, GridSearchCV  \n",
    "from sklearn.model_selection import KFold, cross_val_score  #Croos validation\n",
    "from sklearn.model_selection import GridSearchCV #parameter tuning\n",
    "from sklearn.model_selection import RandomizedSearchCV\n",
    "from sklearn.ensemble import AdaBoostClassifier\n",
    "from sklearn.model_selection import KFold      #validation\n",
    "\n",
    "from sklearn.model_selection import train_test_split, GridSearchCV, StratifiedKFold\n",
    "from sklearn.metrics import roc_curve, precision_recall_curve, auc, make_scorer, recall_score, accuracy_score,average_precision_score, precision_score, confusion_matrix, classification_report\n",
    "\n",
    "\n",
    "data = pd.read_csv(\"UMOJA/Train.csv\")\n",
    "data.head()\n"
   ]
  },
  {
   "cell_type": "code",
   "execution_count": 1,
   "metadata": {},
   "outputs": [
    {
     "ename": "NameError",
     "evalue": "name 'pd' is not defined",
     "output_type": "error",
     "traceback": [
      "\u001b[1;31m---------------------------------------------------------------------------\u001b[0m",
      "\u001b[1;31mNameError\u001b[0m                                 Traceback (most recent call last)",
      "\u001b[1;32m<ipython-input-1-231b5c82e7ec>\u001b[0m in \u001b[0;36m<module>\u001b[1;34m\u001b[0m\n\u001b[0;32m      1\u001b[0m \u001b[1;31m#passing a string to detect time ty#detecting time intervals\u001b[0m\u001b[1;33m\u001b[0m\u001b[1;33m\u001b[0m\u001b[1;33m\u001b[0m\u001b[0m\n\u001b[1;32m----> 2\u001b[1;33m \u001b[0mdata\u001b[0m\u001b[1;33m[\u001b[0m\u001b[1;34m\"purchaseDate\"\u001b[0m\u001b[1;33m]\u001b[0m \u001b[1;33m=\u001b[0m \u001b[0mpd\u001b[0m\u001b[1;33m.\u001b[0m\u001b[0mto_datetime\u001b[0m\u001b[1;33m(\u001b[0m\u001b[0mdata\u001b[0m\u001b[1;33m[\u001b[0m\u001b[1;34m\"purchaseDate\"\u001b[0m\u001b[1;33m]\u001b[0m\u001b[1;33m,\u001b[0m \u001b[0minfer_datetime_format\u001b[0m\u001b[1;33m=\u001b[0m\u001b[1;32mTrue\u001b[0m\u001b[1;33m)\u001b[0m\u001b[1;33m\u001b[0m\u001b[1;33m\u001b[0m\u001b[0m\n\u001b[0m\u001b[0;32m      3\u001b[0m \u001b[0mindexedData\u001b[0m \u001b[1;33m=\u001b[0m \u001b[0mdata\u001b[0m\u001b[1;33m.\u001b[0m\u001b[0mset_index\u001b[0m\u001b[1;33m(\u001b[0m\u001b[1;33m[\u001b[0m\u001b[1;34m\"PurchaseDate\"\u001b[0m\u001b[1;33m]\u001b[0m\u001b[1;33m)\u001b[0m\u001b[1;33m\u001b[0m\u001b[1;33m\u001b[0m\u001b[0m\n\u001b[0;32m      4\u001b[0m \u001b[1;33m\u001b[0m\u001b[0m\n\u001b[0;32m      5\u001b[0m \u001b[1;32mfrom\u001b[0m \u001b[0mdatetime\u001b[0m \u001b[1;32mimport\u001b[0m \u001b[0mdatetime\u001b[0m\u001b[1;33m\u001b[0m\u001b[1;33m\u001b[0m\u001b[0m\n",
      "\u001b[1;31mNameError\u001b[0m: name 'pd' is not defined"
     ]
    }
   ],
   "source": [
    "#passing a string to detect time ty#detecting time intervals\n",
    "data[\"purchaseDate\"] = pd.to_datetime(data[\"purchaseDate\"], infer_datetime_format=True)\n",
    "indexedData = data.set_index([\"PurchaseDate\"])\n",
    "\n",
    "from datetime import datetime\n",
    "indexedData.head(5)\n",
    "\n",
    "#Now, ploting date on   y  axis and number of passengers on X\n",
    "plt.xlabel(\"Time in Months\")\n",
    "plt.ylabel(\" number of purchases\")\n",
    "plt.plot(indexedData)\n",
    "\n",
    "#Now,calculating moving average\n",
    "movMean = indexedData.rolling(window = 12).mean()\n",
    "\n",
    "#now,   R42 > 0.01 being the out  of  sample space, am assuming this is the deviation from mean.\n",
    "#calculating Moving standard deviation and comparing it with 0.01\n",
    "movstd = indexedData.rolling(window=12).std()\n",
    "\n",
    "#printing both movMean and movstd, if movstd > 0.01 we proceed to plot the graph\n",
    "initialPlot = plt.plot(indexedData, color=\"blue\", label=\"Initial\")\n",
    "average = plt.plot(movMean, color=\"black\", label=\"Moving Average\")\n",
    "deviation = plt.plot(movstd, color=\"brown\", label=\"Moving std\" )\n",
    "plt.legend(loc = \"best\")\n",
    "plt.title(\"Moving Average and standard deviation\")\n",
    "plt.show(block=False)\n",
    "\n",
    "#finding linear relationship between the months and the number of passengers\n",
    "x = data[\"Purchases\"].values\n",
    "y = data[\"purchaseDate\"].values"
   ]
  },
  {
   "cell_type": "code",
   "execution_count": null,
   "metadata": {},
   "outputs": [],
   "source": [
    "# Dickey-Fuller test\n",
    "from statsmodel.tsa.stattools import adfuller\n",
    "print('Results of the dickey fuller test:')\n",
    "datatest = adfuller(indexedDataset['#Purchases'], autolag = 'AIC')"
   ]
  }
 ],
 "metadata": {
  "kernelspec": {
   "display_name": "Python 3",
   "language": "python",
   "name": "python3"
  },
  "language_info": {
   "codemirror_mode": {
    "name": "ipython",
    "version": 3
   },
   "file_extension": ".py",
   "mimetype": "text/x-python",
   "name": "python",
   "nbconvert_exporter": "python",
   "pygments_lexer": "ipython3",
   "version": "3.7.6"
  }
 },
 "nbformat": 4,
 "nbformat_minor": 4
}
