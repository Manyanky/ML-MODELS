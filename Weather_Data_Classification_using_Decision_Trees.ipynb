{
  "nbformat": 4,
  "nbformat_minor": 0,
  "metadata": {
    "kernelspec": {
      "display_name": "Python 3",
      "language": "python",
      "name": "python3"
    },
    "language_info": {
      "codemirror_mode": {
        "name": "ipython",
        "version": 3
      },
      "file_extension": ".py",
      "mimetype": "text/x-python",
      "name": "python",
      "nbconvert_exporter": "python",
      "pygments_lexer": "ipython3",
      "version": "3.7.6"
    },
    "colab": {
      "name": "Weather Data Classification using Decision Trees.ipynb",
      "provenance": [],
      "include_colab_link": true
    }
  },
  "cells": [
    {
      "cell_type": "markdown",
      "metadata": {
        "id": "view-in-github",
        "colab_type": "text"
      },
      "source": [
        "<a href=\"https://colab.research.google.com/github/Manyanky/ML-MODELS/blob/master/Weather_Data_Classification_using_Decision_Trees.ipynb\" target=\"_parent\"><img src=\"https://colab.research.google.com/assets/colab-badge.svg\" alt=\"Open In Colab\"/></a>"
      ]
    },
    {
      "cell_type": "markdown",
      "metadata": {
        "collapsed": true,
        "id": "NbgoaKn42sKm"
      },
      "source": [
        "<p style=\"font-family: Arial; font-size:2.75em;color:purple; font-style:bold\">\n",
        "\n",
        "Classification of Weather Data <br><br>\n",
        "using scikit-learn\n",
        "<br><br>\n",
        "</p>"
      ]
    },
    {
      "cell_type": "markdown",
      "metadata": {
        "id": "qqy5QA3O2sKn"
      },
      "source": [
        "<p style=\"font-family: Arial; font-size:1.75em;color:purple; font-style:bold\"><br>\n",
        "Daily Weather Data Analysis</p>\n",
        "\n",
        "In this notebook, we will use scikit-learn to perform a decision tree based classification of weather data."
      ]
    },
    {
      "cell_type": "markdown",
      "metadata": {
        "id": "DJF8o0dt2sKo"
      },
      "source": [
        "<p style=\"font-family: Arial; font-size:1.75em;color:purple; font-style:bold\"><br>\n",
        "\n",
        "Importing the Necessary Libraries<br></p>"
      ]
    },
    {
      "cell_type": "code",
      "metadata": {
        "id": "-ZO1Q1TK2sKo"
      },
      "source": [
        "import pandas as pd\n",
        "from sklearn.metrics import accuracy_score\n",
        "from sklearn.model_selection import train_test_split\n",
        "from sklearn.tree import DecisionTreeClassifier"
      ],
      "execution_count": null,
      "outputs": []
    },
    {
      "cell_type": "markdown",
      "metadata": {
        "id": "7x5XN4yG2sKp"
      },
      "source": [
        "<p style=\"font-family: Arial; font-size:1.75em;color:purple; font-style:bold\"><br>\n",
        "\n",
        "Creating a Pandas DataFrame from a CSV file<br></p>\n"
      ]
    },
    {
      "cell_type": "code",
      "metadata": {
        "id": "cKDywqpA2sKp"
      },
      "source": [
        "data = pd.read_csv('./weather/daily_weather.csv')"
      ],
      "execution_count": null,
      "outputs": []
    },
    {
      "cell_type": "code",
      "metadata": {
        "id": "1sf3jPiw2sKq",
        "outputId": "a2e8411a-500a-42c5-8ab6-2cf0f05450f7"
      },
      "source": [
        "data.sample(5)"
      ],
      "execution_count": null,
      "outputs": [
        {
          "output_type": "execute_result",
          "data": {
            "text/html": [
              "<div>\n",
              "<style scoped>\n",
              "    .dataframe tbody tr th:only-of-type {\n",
              "        vertical-align: middle;\n",
              "    }\n",
              "\n",
              "    .dataframe tbody tr th {\n",
              "        vertical-align: top;\n",
              "    }\n",
              "\n",
              "    .dataframe thead th {\n",
              "        text-align: right;\n",
              "    }\n",
              "</style>\n",
              "<table border=\"1\" class=\"dataframe\">\n",
              "  <thead>\n",
              "    <tr style=\"text-align: right;\">\n",
              "      <th></th>\n",
              "      <th>number</th>\n",
              "      <th>air_pressure_9am</th>\n",
              "      <th>air_temp_9am</th>\n",
              "      <th>avg_wind_direction_9am</th>\n",
              "      <th>avg_wind_speed_9am</th>\n",
              "      <th>max_wind_direction_9am</th>\n",
              "      <th>max_wind_speed_9am</th>\n",
              "      <th>rain_accumulation_9am</th>\n",
              "      <th>rain_duration_9am</th>\n",
              "      <th>relative_humidity_9am</th>\n",
              "      <th>relative_humidity_3pm</th>\n",
              "    </tr>\n",
              "  </thead>\n",
              "  <tbody>\n",
              "    <tr>\n",
              "      <th>1023</th>\n",
              "      <td>1023</td>\n",
              "      <td>915.200000</td>\n",
              "      <td>59.972000</td>\n",
              "      <td>168.000000</td>\n",
              "      <td>1.990877</td>\n",
              "      <td>186.200000</td>\n",
              "      <td>2.460634</td>\n",
              "      <td>0.0</td>\n",
              "      <td>0.0</td>\n",
              "      <td>35.920000</td>\n",
              "      <td>46.690000</td>\n",
              "    </tr>\n",
              "    <tr>\n",
              "      <th>174</th>\n",
              "      <td>174</td>\n",
              "      <td>923.610000</td>\n",
              "      <td>58.406000</td>\n",
              "      <td>47.700000</td>\n",
              "      <td>10.603096</td>\n",
              "      <td>67.100000</td>\n",
              "      <td>13.622965</td>\n",
              "      <td>0.0</td>\n",
              "      <td>0.0</td>\n",
              "      <td>17.980000</td>\n",
              "      <td>16.450000</td>\n",
              "    </tr>\n",
              "    <tr>\n",
              "      <th>767</th>\n",
              "      <td>767</td>\n",
              "      <td>915.220000</td>\n",
              "      <td>73.292000</td>\n",
              "      <td>148.300000</td>\n",
              "      <td>1.789552</td>\n",
              "      <td>198.500000</td>\n",
              "      <td>2.908022</td>\n",
              "      <td>0.0</td>\n",
              "      <td>0.0</td>\n",
              "      <td>41.400000</td>\n",
              "      <td>56.930000</td>\n",
              "    </tr>\n",
              "    <tr>\n",
              "      <th>45</th>\n",
              "      <td>45</td>\n",
              "      <td>914.540000</td>\n",
              "      <td>67.658000</td>\n",
              "      <td>170.200000</td>\n",
              "      <td>8.254309</td>\n",
              "      <td>184.300000</td>\n",
              "      <td>10.849159</td>\n",
              "      <td>0.0</td>\n",
              "      <td>0.0</td>\n",
              "      <td>35.050000</td>\n",
              "      <td>48.760000</td>\n",
              "    </tr>\n",
              "    <tr>\n",
              "      <th>163</th>\n",
              "      <td>163</td>\n",
              "      <td>915.696839</td>\n",
              "      <td>86.239751</td>\n",
              "      <td>234.189566</td>\n",
              "      <td>1.742952</td>\n",
              "      <td>125.503026</td>\n",
              "      <td>2.503004</td>\n",
              "      <td>0.0</td>\n",
              "      <td>0.0</td>\n",
              "      <td>8.810402</td>\n",
              "      <td>17.022343</td>\n",
              "    </tr>\n",
              "  </tbody>\n",
              "</table>\n",
              "</div>"
            ],
            "text/plain": [
              "      number  air_pressure_9am  air_temp_9am  avg_wind_direction_9am  \\\n",
              "1023    1023        915.200000     59.972000              168.000000   \n",
              "174      174        923.610000     58.406000               47.700000   \n",
              "767      767        915.220000     73.292000              148.300000   \n",
              "45        45        914.540000     67.658000              170.200000   \n",
              "163      163        915.696839     86.239751              234.189566   \n",
              "\n",
              "      avg_wind_speed_9am  max_wind_direction_9am  max_wind_speed_9am  \\\n",
              "1023            1.990877              186.200000            2.460634   \n",
              "174            10.603096               67.100000           13.622965   \n",
              "767             1.789552              198.500000            2.908022   \n",
              "45              8.254309              184.300000           10.849159   \n",
              "163             1.742952              125.503026            2.503004   \n",
              "\n",
              "      rain_accumulation_9am  rain_duration_9am  relative_humidity_9am  \\\n",
              "1023                    0.0                0.0              35.920000   \n",
              "174                     0.0                0.0              17.980000   \n",
              "767                     0.0                0.0              41.400000   \n",
              "45                      0.0                0.0              35.050000   \n",
              "163                     0.0                0.0               8.810402   \n",
              "\n",
              "      relative_humidity_3pm  \n",
              "1023              46.690000  \n",
              "174               16.450000  \n",
              "767               56.930000  \n",
              "45                48.760000  \n",
              "163               17.022343  "
            ]
          },
          "metadata": {
            "tags": []
          },
          "execution_count": 7
        }
      ]
    },
    {
      "cell_type": "code",
      "metadata": {
        "id": "Cf8fR_hn2sKr",
        "outputId": "0c2ca00f-3080-41fe-9358-c83c3da2344f"
      },
      "source": [
        "data.describe()"
      ],
      "execution_count": null,
      "outputs": [
        {
          "output_type": "execute_result",
          "data": {
            "text/html": [
              "<div>\n",
              "<style scoped>\n",
              "    .dataframe tbody tr th:only-of-type {\n",
              "        vertical-align: middle;\n",
              "    }\n",
              "\n",
              "    .dataframe tbody tr th {\n",
              "        vertical-align: top;\n",
              "    }\n",
              "\n",
              "    .dataframe thead th {\n",
              "        text-align: right;\n",
              "    }\n",
              "</style>\n",
              "<table border=\"1\" class=\"dataframe\">\n",
              "  <thead>\n",
              "    <tr style=\"text-align: right;\">\n",
              "      <th></th>\n",
              "      <th>number</th>\n",
              "      <th>air_pressure_9am</th>\n",
              "      <th>air_temp_9am</th>\n",
              "      <th>avg_wind_direction_9am</th>\n",
              "      <th>avg_wind_speed_9am</th>\n",
              "      <th>max_wind_direction_9am</th>\n",
              "      <th>max_wind_speed_9am</th>\n",
              "      <th>rain_accumulation_9am</th>\n",
              "      <th>rain_duration_9am</th>\n",
              "      <th>relative_humidity_9am</th>\n",
              "      <th>relative_humidity_3pm</th>\n",
              "    </tr>\n",
              "  </thead>\n",
              "  <tbody>\n",
              "    <tr>\n",
              "      <th>count</th>\n",
              "      <td>1095.000000</td>\n",
              "      <td>1092.000000</td>\n",
              "      <td>1090.000000</td>\n",
              "      <td>1091.000000</td>\n",
              "      <td>1092.000000</td>\n",
              "      <td>1092.000000</td>\n",
              "      <td>1091.000000</td>\n",
              "      <td>1089.000000</td>\n",
              "      <td>1092.000000</td>\n",
              "      <td>1095.000000</td>\n",
              "      <td>1095.000000</td>\n",
              "    </tr>\n",
              "    <tr>\n",
              "      <th>mean</th>\n",
              "      <td>547.000000</td>\n",
              "      <td>918.882551</td>\n",
              "      <td>64.933001</td>\n",
              "      <td>142.235511</td>\n",
              "      <td>5.508284</td>\n",
              "      <td>148.953518</td>\n",
              "      <td>7.019514</td>\n",
              "      <td>0.203079</td>\n",
              "      <td>294.108052</td>\n",
              "      <td>34.241402</td>\n",
              "      <td>35.344727</td>\n",
              "    </tr>\n",
              "    <tr>\n",
              "      <th>std</th>\n",
              "      <td>316.243577</td>\n",
              "      <td>3.184161</td>\n",
              "      <td>11.175514</td>\n",
              "      <td>69.137859</td>\n",
              "      <td>4.552813</td>\n",
              "      <td>67.238013</td>\n",
              "      <td>5.598209</td>\n",
              "      <td>1.593952</td>\n",
              "      <td>1598.078779</td>\n",
              "      <td>25.472067</td>\n",
              "      <td>22.524079</td>\n",
              "    </tr>\n",
              "    <tr>\n",
              "      <th>min</th>\n",
              "      <td>0.000000</td>\n",
              "      <td>907.990000</td>\n",
              "      <td>36.752000</td>\n",
              "      <td>15.500000</td>\n",
              "      <td>0.693451</td>\n",
              "      <td>28.900000</td>\n",
              "      <td>1.185578</td>\n",
              "      <td>0.000000</td>\n",
              "      <td>0.000000</td>\n",
              "      <td>6.090000</td>\n",
              "      <td>5.300000</td>\n",
              "    </tr>\n",
              "    <tr>\n",
              "      <th>25%</th>\n",
              "      <td>273.500000</td>\n",
              "      <td>916.550000</td>\n",
              "      <td>57.281000</td>\n",
              "      <td>65.972506</td>\n",
              "      <td>2.248768</td>\n",
              "      <td>76.553003</td>\n",
              "      <td>3.067477</td>\n",
              "      <td>0.000000</td>\n",
              "      <td>0.000000</td>\n",
              "      <td>15.092243</td>\n",
              "      <td>17.395000</td>\n",
              "    </tr>\n",
              "    <tr>\n",
              "      <th>50%</th>\n",
              "      <td>547.000000</td>\n",
              "      <td>918.921045</td>\n",
              "      <td>65.715479</td>\n",
              "      <td>166.000000</td>\n",
              "      <td>3.871333</td>\n",
              "      <td>177.300000</td>\n",
              "      <td>4.943637</td>\n",
              "      <td>0.000000</td>\n",
              "      <td>0.000000</td>\n",
              "      <td>23.179259</td>\n",
              "      <td>24.380000</td>\n",
              "    </tr>\n",
              "    <tr>\n",
              "      <th>75%</th>\n",
              "      <td>820.500000</td>\n",
              "      <td>921.160073</td>\n",
              "      <td>73.450974</td>\n",
              "      <td>191.000000</td>\n",
              "      <td>7.337163</td>\n",
              "      <td>201.233153</td>\n",
              "      <td>8.947760</td>\n",
              "      <td>0.000000</td>\n",
              "      <td>0.000000</td>\n",
              "      <td>45.400000</td>\n",
              "      <td>52.060000</td>\n",
              "    </tr>\n",
              "    <tr>\n",
              "      <th>max</th>\n",
              "      <td>1094.000000</td>\n",
              "      <td>929.320000</td>\n",
              "      <td>98.906000</td>\n",
              "      <td>343.400000</td>\n",
              "      <td>23.554978</td>\n",
              "      <td>312.200000</td>\n",
              "      <td>29.840780</td>\n",
              "      <td>24.020000</td>\n",
              "      <td>17704.000000</td>\n",
              "      <td>92.620000</td>\n",
              "      <td>92.250000</td>\n",
              "    </tr>\n",
              "  </tbody>\n",
              "</table>\n",
              "</div>"
            ],
            "text/plain": [
              "            number  air_pressure_9am  air_temp_9am  avg_wind_direction_9am  \\\n",
              "count  1095.000000       1092.000000   1090.000000             1091.000000   \n",
              "mean    547.000000        918.882551     64.933001              142.235511   \n",
              "std     316.243577          3.184161     11.175514               69.137859   \n",
              "min       0.000000        907.990000     36.752000               15.500000   \n",
              "25%     273.500000        916.550000     57.281000               65.972506   \n",
              "50%     547.000000        918.921045     65.715479              166.000000   \n",
              "75%     820.500000        921.160073     73.450974              191.000000   \n",
              "max    1094.000000        929.320000     98.906000              343.400000   \n",
              "\n",
              "       avg_wind_speed_9am  max_wind_direction_9am  max_wind_speed_9am  \\\n",
              "count         1092.000000             1092.000000         1091.000000   \n",
              "mean             5.508284              148.953518            7.019514   \n",
              "std              4.552813               67.238013            5.598209   \n",
              "min              0.693451               28.900000            1.185578   \n",
              "25%              2.248768               76.553003            3.067477   \n",
              "50%              3.871333              177.300000            4.943637   \n",
              "75%              7.337163              201.233153            8.947760   \n",
              "max             23.554978              312.200000           29.840780   \n",
              "\n",
              "       rain_accumulation_9am  rain_duration_9am  relative_humidity_9am  \\\n",
              "count            1089.000000        1092.000000            1095.000000   \n",
              "mean                0.203079         294.108052              34.241402   \n",
              "std                 1.593952        1598.078779              25.472067   \n",
              "min                 0.000000           0.000000               6.090000   \n",
              "25%                 0.000000           0.000000              15.092243   \n",
              "50%                 0.000000           0.000000              23.179259   \n",
              "75%                 0.000000           0.000000              45.400000   \n",
              "max                24.020000       17704.000000              92.620000   \n",
              "\n",
              "       relative_humidity_3pm  \n",
              "count            1095.000000  \n",
              "mean               35.344727  \n",
              "std                22.524079  \n",
              "min                 5.300000  \n",
              "25%                17.395000  \n",
              "50%                24.380000  \n",
              "75%                52.060000  \n",
              "max                92.250000  "
            ]
          },
          "metadata": {
            "tags": []
          },
          "execution_count": 8
        }
      ]
    },
    {
      "cell_type": "code",
      "metadata": {
        "id": "cH5impIG2sKr",
        "outputId": "59304100-b797-41db-9967-11aa6aaf8aae"
      },
      "source": [
        "data['relative_humidity_3pm'].mean()"
      ],
      "execution_count": null,
      "outputs": [
        {
          "output_type": "execute_result",
          "data": {
            "text/plain": [
              "35.34472714825898"
            ]
          },
          "metadata": {
            "tags": []
          },
          "execution_count": 9
        }
      ]
    },
    {
      "cell_type": "code",
      "metadata": {
        "id": "WgXpLbn32sKs",
        "outputId": "b4687f66-86fe-4e38-f8e3-edb91130711c"
      },
      "source": [
        "data.info()"
      ],
      "execution_count": null,
      "outputs": [
        {
          "output_type": "stream",
          "text": [
            "<class 'pandas.core.frame.DataFrame'>\n",
            "RangeIndex: 1095 entries, 0 to 1094\n",
            "Data columns (total 11 columns):\n",
            "number                    1095 non-null int64\n",
            "air_pressure_9am          1092 non-null float64\n",
            "air_temp_9am              1090 non-null float64\n",
            "avg_wind_direction_9am    1091 non-null float64\n",
            "avg_wind_speed_9am        1092 non-null float64\n",
            "max_wind_direction_9am    1092 non-null float64\n",
            "max_wind_speed_9am        1091 non-null float64\n",
            "rain_accumulation_9am     1089 non-null float64\n",
            "rain_duration_9am         1092 non-null float64\n",
            "relative_humidity_9am     1095 non-null float64\n",
            "relative_humidity_3pm     1095 non-null float64\n",
            "dtypes: float64(10), int64(1)\n",
            "memory usage: 94.2 KB\n"
          ],
          "name": "stdout"
        }
      ]
    },
    {
      "cell_type": "markdown",
      "metadata": {
        "id": "LqT3sGiE2sKs"
      },
      "source": [
        "<p style=\"font-family: Arial; font-size:1.75em;color:purple; font-style:bold\">Daily Weather Data Description</p>\n",
        "<br>\n",
        "The file **daily_weather.csv** is a comma-separated file that contains weather data.  This data comes from a weather station located in San Diego, California.  The weather station is equipped with sensors that capture weather-related measurements such as air temperature, air pressure, and relative humidity.  Data was collected for a period of three years, from September 2011 to September 2014, to ensure that sufficient data for different seasons and weather conditions is captured.<br><br>\n",
        "Let's now check all the columns in the data."
      ]
    },
    {
      "cell_type": "code",
      "metadata": {
        "id": "NeuI1J042sKt",
        "outputId": "e7bbb25b-bc97-46fa-b83d-f7f3b8bdaff0"
      },
      "source": [
        "data.shape"
      ],
      "execution_count": null,
      "outputs": [
        {
          "output_type": "execute_result",
          "data": {
            "text/plain": [
              "(1095, 11)"
            ]
          },
          "metadata": {
            "tags": []
          },
          "execution_count": 11
        }
      ]
    },
    {
      "cell_type": "code",
      "metadata": {
        "id": "bqosbGuz2sKt",
        "outputId": "4af7e63f-fb95-49f7-9a07-21f7e63036a6"
      },
      "source": [
        "data.columns"
      ],
      "execution_count": null,
      "outputs": [
        {
          "output_type": "execute_result",
          "data": {
            "text/plain": [
              "Index(['number', 'air_pressure_9am', 'air_temp_9am', 'avg_wind_direction_9am',\n",
              "       'avg_wind_speed_9am', 'max_wind_direction_9am', 'max_wind_speed_9am',\n",
              "       'rain_accumulation_9am', 'rain_duration_9am', 'relative_humidity_9am',\n",
              "       'relative_humidity_3pm'],\n",
              "      dtype='object')"
            ]
          },
          "metadata": {
            "tags": []
          },
          "execution_count": 19
        }
      ]
    },
    {
      "cell_type": "markdown",
      "metadata": {
        "id": "fpdsxY152sKu"
      },
      "source": [
        "<br>Each row in daily_weather.csv captures weather data for a separate day.  <br><br>\n",
        "Sensor measurements from the weather station were captured at one-minute intervals.  These measurements were then processed to generate values to describe daily weather. Since this dataset was created to classify low-humidity days vs. non-low-humidity days (that is, days with normal or high humidity), the variables included are weather measurements in the morning, with one measurement, namely relatively humidity, in the afternoon.  The idea is to use the morning weather values to predict whether the day will be low-humidity or not based on the afternoon measurement of relative humidity.\n",
        "\n",
        "Each row, or sample, consists of the following variables:\n",
        "\n",
        "* **number:** unique number for each row\n",
        "* **air_pressure_9am:** air pressure averaged over a period from 8:55am to 9:04am (*Unit: hectopascals*)\n",
        "* **air_temp_9am:** air temperature averaged over a period from 8:55am to 9:04am (*Unit: degrees Fahrenheit*)\n",
        "* **air_wind_direction_9am:** wind direction averaged over a period from 8:55am to 9:04am (*Unit: degrees, with 0 means coming from the North, and increasing clockwise*)\n",
        "* **air_wind_speed_9am:** wind speed averaged over a period from 8:55am to 9:04am (*Unit: miles per hour*)\n",
        "* ** max_wind_direction_9am:** wind gust direction averaged over a period from 8:55am to 9:10am (*Unit: degrees, with 0 being North and increasing clockwise*)\n",
        "* **max_wind_speed_9am:** wind gust speed averaged over a period from 8:55am to 9:04am (*Unit: miles per hour*)\n",
        "* **rain_accumulation_9am:** amount of rain accumulated in the 24 hours prior to 9am (*Unit: millimeters*)\n",
        "* **rain_duration_9am:** amount of time rain was recorded in the 24 hours prior to 9am (*Unit: seconds*)\n",
        "* **relative_humidity_9am:** relative humidity averaged over a period from 8:55am to 9:04am (*Unit: percent*)\n",
        "* **relative_humidity_3pm:** relative humidity averaged over a period from 2:55pm to 3:04pm (*Unit: percent *)\n"
      ]
    },
    {
      "cell_type": "code",
      "metadata": {
        "id": "04RUkfi92sKv"
      },
      "source": [
        "data.head()"
      ],
      "execution_count": null,
      "outputs": []
    },
    {
      "cell_type": "code",
      "metadata": {
        "id": "EnRdpIGx2sKv",
        "outputId": "463d96b0-592c-44ee-bebe-56768cb2a1f0"
      },
      "source": [
        "len(data[data.isnull().any(axis=1)])"
      ],
      "execution_count": null,
      "outputs": [
        {
          "output_type": "execute_result",
          "data": {
            "text/plain": [
              "31"
            ]
          },
          "metadata": {
            "tags": []
          },
          "execution_count": 18
        }
      ]
    },
    {
      "cell_type": "code",
      "metadata": {
        "id": "4g4nQBxX2sKw",
        "outputId": "df058e85-9036-4a4c-9de1-c61ecceb3cef"
      },
      "source": [
        "data.isnull().sum()"
      ],
      "execution_count": null,
      "outputs": [
        {
          "output_type": "execute_result",
          "data": {
            "text/plain": [
              "number                    0\n",
              "air_pressure_9am          3\n",
              "air_temp_9am              5\n",
              "avg_wind_direction_9am    4\n",
              "avg_wind_speed_9am        3\n",
              "max_wind_direction_9am    3\n",
              "max_wind_speed_9am        4\n",
              "rain_accumulation_9am     6\n",
              "rain_duration_9am         3\n",
              "relative_humidity_9am     0\n",
              "relative_humidity_3pm     0\n",
              "dtype: int64"
            ]
          },
          "metadata": {
            "tags": []
          },
          "execution_count": 16
        }
      ]
    },
    {
      "cell_type": "markdown",
      "metadata": {
        "id": "XHIL3mt02sKw"
      },
      "source": [
        "<p style=\"font-family: Arial; font-size:1.75em;color:purple; font-style:bold\"><br>\n",
        "\n",
        "Data Cleaning Steps<br><br></p>\n",
        "\n",
        "We will not need to number for each row so we can clean it."
      ]
    },
    {
      "cell_type": "code",
      "metadata": {
        "id": "6U91BocF2sKw"
      },
      "source": [
        "del data['number']"
      ],
      "execution_count": null,
      "outputs": []
    },
    {
      "cell_type": "markdown",
      "metadata": {
        "id": "kGXL3BXp2sKx"
      },
      "source": [
        "Now let's drop null values using the *pandas dropna* function."
      ]
    },
    {
      "cell_type": "code",
      "metadata": {
        "id": "9m6eUEIy2sKx",
        "outputId": "d0fb83b9-1305-443a-91f5-fd6b586bd8aa"
      },
      "source": [
        "before_rows = data.shape[0]\n",
        "print(before_rows)"
      ],
      "execution_count": null,
      "outputs": [
        {
          "output_type": "stream",
          "text": [
            "1095\n"
          ],
          "name": "stdout"
        }
      ]
    },
    {
      "cell_type": "code",
      "metadata": {
        "id": "STnsma6y2sKx"
      },
      "source": [
        "data = data.dropna()"
      ],
      "execution_count": null,
      "outputs": []
    },
    {
      "cell_type": "code",
      "metadata": {
        "id": "xswTbReo2sKy",
        "outputId": "ecf787af-ca16-443d-f1ad-d2191c3f7a29"
      },
      "source": [
        "after_rows = data.shape[0]\n",
        "print(after_rows)"
      ],
      "execution_count": null,
      "outputs": [
        {
          "output_type": "stream",
          "text": [
            "1064\n"
          ],
          "name": "stdout"
        }
      ]
    },
    {
      "cell_type": "markdown",
      "metadata": {
        "id": "Y-PxQmAo2sKy"
      },
      "source": [
        "<p style=\"font-family: Arial; font-size:1.75em;color:purple; font-style:bold\"><br>\n",
        "\n",
        "How many rows dropped due to cleaning?<br><br></p>\n"
      ]
    },
    {
      "cell_type": "code",
      "metadata": {
        "id": "qaIrbyv62sKz",
        "outputId": "71e61ed8-cdcf-448a-8cfd-48f019342ab0"
      },
      "source": [
        "before_rows - after_rows"
      ],
      "execution_count": null,
      "outputs": [
        {
          "output_type": "execute_result",
          "data": {
            "text/plain": [
              "31"
            ]
          },
          "metadata": {
            "tags": []
          },
          "execution_count": 24
        }
      ]
    },
    {
      "cell_type": "markdown",
      "metadata": {
        "id": "KBkz8zrq2sKz"
      },
      "source": [
        "<p style=\"font-family: Arial; font-size:1.75em;color:purple; font-style:bold\">\n",
        "Convert to a Classification Task <br><br></p>\n",
        "Binarize the relative_humidity_3pm to 0 or 1.<br>\n"
      ]
    },
    {
      "cell_type": "code",
      "metadata": {
        "id": "Ne6_2iDQ2sKz",
        "outputId": "b381212a-526d-4844-8c60-bef119f53486"
      },
      "source": [
        "clean_data = data.copy()\n",
        "clean_data['high_humidity_label'] = (clean_data['relative_humidity_3pm'] > 24.99)*1\n",
        "print(clean_data['high_humidity_label'])"
      ],
      "execution_count": null,
      "outputs": [
        {
          "output_type": "stream",
          "text": [
            "0       1\n",
            "1       0\n",
            "2       0\n",
            "3       0\n",
            "4       1\n",
            "5       1\n",
            "6       0\n",
            "7       1\n",
            "8       0\n",
            "9       1\n",
            "10      1\n",
            "11      1\n",
            "12      1\n",
            "13      1\n",
            "14      0\n",
            "15      0\n",
            "17      0\n",
            "18      1\n",
            "19      0\n",
            "20      0\n",
            "21      1\n",
            "22      0\n",
            "23      1\n",
            "24      0\n",
            "25      1\n",
            "26      1\n",
            "27      1\n",
            "28      1\n",
            "29      1\n",
            "30      1\n",
            "       ..\n",
            "1064    1\n",
            "1065    1\n",
            "1067    1\n",
            "1068    1\n",
            "1069    1\n",
            "1070    1\n",
            "1071    1\n",
            "1072    0\n",
            "1073    1\n",
            "1074    1\n",
            "1075    0\n",
            "1076    0\n",
            "1077    1\n",
            "1078    0\n",
            "1079    1\n",
            "1080    0\n",
            "1081    0\n",
            "1082    1\n",
            "1083    1\n",
            "1084    1\n",
            "1085    1\n",
            "1086    1\n",
            "1087    1\n",
            "1088    1\n",
            "1089    1\n",
            "1090    1\n",
            "1091    1\n",
            "1092    1\n",
            "1093    1\n",
            "1094    0\n",
            "Name: high_humidity_label, Length: 1064, dtype: int32\n"
          ],
          "name": "stdout"
        }
      ]
    },
    {
      "cell_type": "markdown",
      "metadata": {
        "id": "Y9vauXiQ2sK0"
      },
      "source": [
        "<p style=\"font-family: Arial; font-size:1.75em;color:purple; font-style:bold\"><br>\n",
        "\n",
        "Target is stored in 'y'.\n",
        "<br><br></p>\n"
      ]
    },
    {
      "cell_type": "code",
      "metadata": {
        "id": "crKdHKzA2sK0"
      },
      "source": [
        "Y=clean_data[['high_humidity_label']].copy()\n",
        "#y"
      ],
      "execution_count": null,
      "outputs": []
    },
    {
      "cell_type": "code",
      "metadata": {
        "id": "r83xUevL2sK0",
        "outputId": "ca018c6a-74b7-47f6-cbfc-918a7c9cf1e1"
      },
      "source": [
        "clean_data['relative_humidity_3pm'].head()"
      ],
      "execution_count": null,
      "outputs": [
        {
          "output_type": "execute_result",
          "data": {
            "text/plain": [
              "0    36.160000\n",
              "1    19.426597\n",
              "2    14.460000\n",
              "3    12.742547\n",
              "4    76.740000\n",
              "Name: relative_humidity_3pm, dtype: float64"
            ]
          },
          "metadata": {
            "tags": []
          },
          "execution_count": 34
        }
      ]
    },
    {
      "cell_type": "code",
      "metadata": {
        "scrolled": true,
        "id": "OqRbvZwq2sK1",
        "outputId": "c7135f83-2152-4538-fb3b-42d80fd5a57b"
      },
      "source": [
        "Y.head()"
      ],
      "execution_count": null,
      "outputs": [
        {
          "output_type": "execute_result",
          "data": {
            "text/html": [
              "<div>\n",
              "<style scoped>\n",
              "    .dataframe tbody tr th:only-of-type {\n",
              "        vertical-align: middle;\n",
              "    }\n",
              "\n",
              "    .dataframe tbody tr th {\n",
              "        vertical-align: top;\n",
              "    }\n",
              "\n",
              "    .dataframe thead th {\n",
              "        text-align: right;\n",
              "    }\n",
              "</style>\n",
              "<table border=\"1\" class=\"dataframe\">\n",
              "  <thead>\n",
              "    <tr style=\"text-align: right;\">\n",
              "      <th></th>\n",
              "      <th>high_humidity_label</th>\n",
              "    </tr>\n",
              "  </thead>\n",
              "  <tbody>\n",
              "    <tr>\n",
              "      <th>0</th>\n",
              "      <td>1</td>\n",
              "    </tr>\n",
              "    <tr>\n",
              "      <th>1</th>\n",
              "      <td>0</td>\n",
              "    </tr>\n",
              "    <tr>\n",
              "      <th>2</th>\n",
              "      <td>0</td>\n",
              "    </tr>\n",
              "    <tr>\n",
              "      <th>3</th>\n",
              "      <td>0</td>\n",
              "    </tr>\n",
              "    <tr>\n",
              "      <th>4</th>\n",
              "      <td>1</td>\n",
              "    </tr>\n",
              "  </tbody>\n",
              "</table>\n",
              "</div>"
            ],
            "text/plain": [
              "   high_humidity_label\n",
              "0                    1\n",
              "1                    0\n",
              "2                    0\n",
              "3                    0\n",
              "4                    1"
            ]
          },
          "metadata": {
            "tags": []
          },
          "execution_count": 35
        }
      ]
    },
    {
      "cell_type": "markdown",
      "metadata": {
        "id": "C00K7ubf2sK1"
      },
      "source": [
        "<p style=\"font-family: Arial; font-size:1.75em;color:purple; font-style:bold\"><br>\n",
        "\n",
        "Use 9am Sensor Signals as Features to Predict Humidity at 3pm\n",
        "<br><br></p>\n"
      ]
    },
    {
      "cell_type": "code",
      "metadata": {
        "id": "nyovWM4V2sK1"
      },
      "source": [
        "morning_features = ['air_pressure_9am','air_temp_9am','avg_wind_direction_9am','avg_wind_speed_9am',\n",
        "        'max_wind_direction_9am','max_wind_speed_9am','rain_accumulation_9am',\n",
        "        'rain_duration_9am']"
      ],
      "execution_count": null,
      "outputs": []
    },
    {
      "cell_type": "code",
      "metadata": {
        "id": "qdIoT-iY2sK2"
      },
      "source": [
        "X = clean_data[morning_features].copy()"
      ],
      "execution_count": null,
      "outputs": []
    },
    {
      "cell_type": "code",
      "metadata": {
        "id": "q0wb4Kb72sK2",
        "outputId": "7e8eadae-3d6f-48a8-8dc3-d98468ad6134"
      },
      "source": [
        "X.columns"
      ],
      "execution_count": null,
      "outputs": [
        {
          "output_type": "execute_result",
          "data": {
            "text/plain": [
              "Index(['air_pressure_9am', 'air_temp_9am', 'avg_wind_direction_9am',\n",
              "       'avg_wind_speed_9am', 'max_wind_direction_9am', 'max_wind_speed_9am',\n",
              "       'rain_accumulation_9am', 'rain_duration_9am'],\n",
              "      dtype='object')"
            ]
          },
          "metadata": {
            "tags": []
          },
          "execution_count": 38
        }
      ]
    },
    {
      "cell_type": "code",
      "metadata": {
        "id": "QYGOJilH2sK2",
        "outputId": "d1eca85f-0680-4079-cc52-b8880d5ec780"
      },
      "source": [
        "Y.columns"
      ],
      "execution_count": null,
      "outputs": [
        {
          "output_type": "execute_result",
          "data": {
            "text/plain": [
              "Index(['high_humidity_label'], dtype='object')"
            ]
          },
          "metadata": {
            "tags": []
          },
          "execution_count": 39
        }
      ]
    },
    {
      "cell_type": "markdown",
      "metadata": {
        "id": "253ucf2U2sK2"
      },
      "source": [
        "<p style=\"font-family: Arial; font-size:1.75em;color:purple; font-style:bold\"><br>\n",
        "\n",
        "Perform Test and Train split\n",
        "\n",
        "<br><br></p>\n",
        "\n"
      ]
    },
    {
      "cell_type": "markdown",
      "metadata": {
        "id": "6aDm4nX82sK3"
      },
      "source": [
        "## REMINDER: Training Phase\n",
        "\n",
        "In the **training phase**, the learning algorithm uses the training data to adjust the model’s parameters to minimize errors.  At the end of the training phase, you get the trained model.\n",
        "\n",
        "<img src=\"TrainingVSTesting.jpg\" align=\"middle\" style=\"width:550px;height:360px;\"/>\n",
        "\n",
        "<BR>\n",
        "In the **testing phase**, the trained model is applied to test data.  Test data is separate from the training data, and is previously unseen by the model.  The model is then evaluated on how it performs on the test data.  The goal in building a classifier model is to have the model perform well on training as well as test data.\n"
      ]
    },
    {
      "cell_type": "code",
      "metadata": {
        "id": "ITl3bpbl2sK4"
      },
      "source": [
        "X_train, X_test, y_train, y_test = train_test_split(X, Y, test_size=0.2, random_state=324)"
      ],
      "execution_count": null,
      "outputs": []
    },
    {
      "cell_type": "code",
      "metadata": {
        "id": "DmVmLcWL2sK4"
      },
      "source": [
        "#type(X_train)\n",
        "#type(X_test)\n",
        "#type(y_train)\n",
        "#type(y_test)\n",
        "#X_train.head()\n",
        "#y_train.describe()"
      ],
      "execution_count": null,
      "outputs": []
    },
    {
      "cell_type": "markdown",
      "metadata": {
        "id": "tkCmijfo2sK4"
      },
      "source": [
        "<p style=\"font-family: Arial; font-size:1.75em;color:purple; font-style:bold\"><br>\n",
        "\n",
        "Fit on Train Set\n",
        "<br><br></p>\n"
      ]
    },
    {
      "cell_type": "code",
      "metadata": {
        "id": "KM4vJmeD2sK4",
        "outputId": "fa8e62ae-4f13-44aa-e6a6-601a56dde56c"
      },
      "source": [
        "humidity_classifier = DecisionTreeClassifier(max_leaf_nodes=20, random_state=0, criterion=\"entropy\", max_depth = 4)\n",
        "humidity_classifier.fit(X_train, y_train)"
      ],
      "execution_count": null,
      "outputs": [
        {
          "output_type": "execute_result",
          "data": {
            "text/plain": [
              "DecisionTreeClassifier(class_weight=None, criterion='entropy', max_depth=4,\n",
              "            max_features=None, max_leaf_nodes=20,\n",
              "            min_impurity_decrease=0.0, min_impurity_split=None,\n",
              "            min_samples_leaf=1, min_samples_split=2,\n",
              "            min_weight_fraction_leaf=0.0, presort=False, random_state=0,\n",
              "            splitter='best')"
            ]
          },
          "metadata": {
            "tags": []
          },
          "execution_count": 82
        }
      ]
    },
    {
      "cell_type": "code",
      "metadata": {
        "id": "-6G2r1v02sK5",
        "outputId": "fd34bc54-1e70-49d4-d672-24751f66ac22"
      },
      "source": [
        "type(humidity_classifier)"
      ],
      "execution_count": null,
      "outputs": [
        {
          "output_type": "execute_result",
          "data": {
            "text/plain": [
              "sklearn.tree.tree.DecisionTreeClassifier"
            ]
          },
          "metadata": {
            "tags": []
          },
          "execution_count": 83
        }
      ]
    },
    {
      "cell_type": "markdown",
      "metadata": {
        "id": "KOn3jThT2sK5"
      },
      "source": [
        "<p style=\"font-family: Arial; font-size:1.75em;color:purple; font-style:bold\"><br>\n",
        "\n",
        "Predict on Test Set \n",
        "\n",
        "<br><br></p>\n"
      ]
    },
    {
      "cell_type": "code",
      "metadata": {
        "id": "iudqWLHC2sK5"
      },
      "source": [
        "predictions = humidity_classifier.predict(X_test)"
      ],
      "execution_count": null,
      "outputs": []
    },
    {
      "cell_type": "code",
      "metadata": {
        "id": "coPMCwiu2sK6",
        "outputId": "34f42500-c815-43cd-d63d-c0a20ad51f19"
      },
      "source": [
        "predictions[:10]"
      ],
      "execution_count": null,
      "outputs": [
        {
          "output_type": "execute_result",
          "data": {
            "text/plain": [
              "array([0, 0, 1, 1, 1, 1, 1, 0, 1, 1])"
            ]
          },
          "metadata": {
            "tags": []
          },
          "execution_count": 85
        }
      ]
    },
    {
      "cell_type": "code",
      "metadata": {
        "id": "0V0nGhdm2sK6",
        "outputId": "e0162a5b-075a-49f5-add7-edd80e42f633"
      },
      "source": [
        "y_test['high_humidity_label'][:10]"
      ],
      "execution_count": null,
      "outputs": [
        {
          "output_type": "execute_result",
          "data": {
            "text/plain": [
              "456     0\n",
              "845     0\n",
              "693     1\n",
              "259     1\n",
              "723     1\n",
              "224     1\n",
              "300     1\n",
              "442     0\n",
              "585     1\n",
              "1057    1\n",
              "Name: high_humidity_label, dtype: int32"
            ]
          },
          "metadata": {
            "tags": []
          },
          "execution_count": 86
        }
      ]
    },
    {
      "cell_type": "markdown",
      "metadata": {
        "id": "XA6CjZAp2sK6"
      },
      "source": [
        "<p style=\"font-family: Arial; font-size:1.75em;color:purple; font-style:bold\"><br>\n",
        "\n",
        "Measure Accuracy of the Classifier\n",
        "<br><br></p>\n"
      ]
    },
    {
      "cell_type": "code",
      "metadata": {
        "id": "1sAgVcdA2sK7",
        "outputId": "69487ec7-f311-4623-c7bb-de49c36e3aa4"
      },
      "source": [
        "(accuracy_score(y_true = y_test, y_pred = predictions))*100"
      ],
      "execution_count": null,
      "outputs": [
        {
          "output_type": "execute_result",
          "data": {
            "text/plain": [
              "82.15962441314554"
            ]
          },
          "metadata": {
            "tags": []
          },
          "execution_count": 87
        }
      ]
    },
    {
      "cell_type": "code",
      "metadata": {
        "id": "5B_LtFhn2sK7"
      },
      "source": [
        ""
      ],
      "execution_count": null,
      "outputs": []
    }
  ]
}