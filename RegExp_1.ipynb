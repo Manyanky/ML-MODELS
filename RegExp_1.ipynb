{
 "cells": [
  {
   "cell_type": "code",
   "execution_count": 3,
   "metadata": {},
   "outputs": [
    {
     "name": "stdout",
     "output_type": "stream",
     "text": [
      "(0, 3)\n",
      "None\n"
     ]
    }
   ],
   "source": [
    "#re.match functions\n",
    "\n",
    "#function syntax\n",
    "#re.match(pattern, string, flags = 0)\n",
    "#Instance:\n",
    "import re\n",
    "print(re.match('www','www.runoob.com').span())  #match at start\n",
    "print(re.match('com','www.runoob.com'))          #match not a start"
   ]
  },
  {
   "cell_type": "code",
   "execution_count": 2,
   "metadata": {},
   "outputs": [
    {
     "name": "stdout",
     "output_type": "stream",
     "text": [
      "searchObj.group(): Carts are smarter than dogs\n",
      "searchObj.group(1): Carts \n",
      "searchObj.group(2): \n"
     ]
    }
   ],
   "source": [
    "#re.search method\n",
    "\n",
    "#re.search(pattern,string,flags=0)\n",
    "import re\n",
    "line = \"Carts are smarter than dogs\"\n",
    "searchObj=re.search(r'(.*)are(.*?).*',line,re.M|re.I)\n",
    "if searchObj:\n",
    "    print(\"searchObj.group():\",searchObj.group())\n",
    "    print(\"searchObj.group(1):\",searchObj.group(1))\n",
    "    print(\"searchObj.group(2):\",searchObj.group(2))\n",
    "else:\n",
    "    print(\"Nothing found\")"
   ]
  },
  {
   "cell_type": "code",
   "execution_count": 3,
   "metadata": {},
   "outputs": [
    {
     "name": "stdout",
     "output_type": "stream",
     "text": [
      "No Match\n",
      "search-->matchObj.group(): dogs\n"
     ]
    }
   ],
   "source": [
    "#Diff btwn re.match and re.search\n",
    "#re.match only matches the string start, re.search matches the entire string until finding a match\n",
    "\n",
    "import re\n",
    "line = \"Cats are smarter than dogs\"\n",
    "matchObj = re.match(r'dogs',line,re.M|re.I)\n",
    "if matchObj:\n",
    "    print(\"match-->matchObj.group():\",matchObj.group())\n",
    "else:\n",
    "    print(\"No Match\")\n",
    "\n",
    "matchObj = re.search(r'dogs',line,re.M|re.I)\n",
    "if matchObj:\n",
    "    print(\"search-->matchObj.group():\",matchObj.group())\n",
    "else:\n",
    "    print(\"No match\")"
   ]
  },
  {
   "cell_type": "code",
   "execution_count": 5,
   "metadata": {},
   "outputs": [
    {
     "name": "stdout",
     "output_type": "stream",
     "text": [
      "The telephone number is 2004-959-559 \n",
      "The telephone no is  2004959559\n"
     ]
    }
   ],
   "source": [
    "#index and replace\n",
    "#using re.sub\n",
    "#re.sub(pattern, repl,string,count=0,flags=0)\n",
    "\n",
    "import re\n",
    "phone = \"2004-959-559 # This is an oversea telephone number\"\n",
    "\n",
    "#Delete python comments in string\n",
    "num = re.sub(r'#.*$',\"\",phone)\n",
    "print(\"The telephone number is\", num)\n",
    "\n",
    "#Delete non-number(-)strings\n",
    "num =re.sub(r'\\D',\"\",phone)\n",
    "print(\"The telephone no is \", num)"
   ]
  },
  {
   "cell_type": "code",
   "execution_count": 10,
   "metadata": {},
   "outputs": [
    {
     "name": "stdout",
     "output_type": "stream",
     "text": [
      "None\n",
      "None\n",
      "<re.Match object; span=(3, 5), match='12'>\n"
     ]
    },
    {
     "data": {
      "text/plain": [
       "'12'"
      ]
     },
     "execution_count": 10,
     "metadata": {},
     "output_type": "execute_result"
    }
   ],
   "source": [
    "#re.compile function\n",
    "#re.compile(pattern[,flags])\n",
    "\n",
    "import re\n",
    "pattern = re.compile(r'\\d+')         #match atleast one number\n",
    "m=pattern.match('one12twothree34four') #search head, no match\n",
    "print(m)\n",
    "\n",
    "m = pattern.match('one12twothree34four',2,10)  #match from 'e',no match\n",
    "print(m)\n",
    "\n",
    "m = pattern.match('one12twothree34four',3,10)  #match from '1', matched\n",
    "print(m) #return a matched object\n",
    "\n",
    "m.group(0) #ignorable 0\n"
   ]
  },
  {
   "cell_type": "code",
   "execution_count": 11,
   "metadata": {},
   "outputs": [
    {
     "data": {
      "text/plain": [
       "3"
      ]
     },
     "execution_count": 11,
     "metadata": {},
     "output_type": "execute_result"
    }
   ],
   "source": [
    "m.start(0) #ignorable 0\n"
   ]
  },
  {
   "cell_type": "code",
   "execution_count": 12,
   "metadata": {},
   "outputs": [
    {
     "data": {
      "text/plain": [
       "5"
      ]
     },
     "execution_count": 12,
     "metadata": {},
     "output_type": "execute_result"
    }
   ],
   "source": [
    "m.end(0) #ignorable 0\n"
   ]
  },
  {
   "cell_type": "code",
   "execution_count": 13,
   "metadata": {},
   "outputs": [
    {
     "data": {
      "text/plain": [
       "(3, 5)"
      ]
     },
     "execution_count": 13,
     "metadata": {},
     "output_type": "execute_result"
    }
   ],
   "source": [
    "m.span(0) #ignorable 0\n"
   ]
  },
  {
   "cell_type": "code",
   "execution_count": 14,
   "metadata": {},
   "outputs": [
    {
     "name": "stdout",
     "output_type": "stream",
     "text": [
      "['123', '456']\n",
      "['88', '12']\n"
     ]
    }
   ],
   "source": [
    "# findall\n",
    "#finds all strings that match a regular expression and returns a list, if there is no match it returns an empty list\n",
    "#syntax: findall(string[,pos[,endpos]])\n",
    "\n",
    "import re\n",
    "pattern = re.compile(r'\\d+')  #search numbers\n",
    "result1 = pattern.findall('runoob 123 google 456')\n",
    "result2 = pattern.findall('run88oob123google456',0,10)\n",
    "print(result1)\n",
    "print(result2)"
   ]
  },
  {
   "cell_type": "code",
   "execution_count": 15,
   "metadata": {},
   "outputs": [
    {
     "name": "stdout",
     "output_type": "stream",
     "text": [
      "12\n",
      "32\n",
      "43\n",
      "3\n"
     ]
    }
   ],
   "source": [
    "# re.finditer\n",
    "# syntax: re.finditer(pattern, string,flags=0)\n",
    "\n",
    "import re\n",
    "it=re.finditer(r\"\\d+\",\"12a32bc43jf3\")\n",
    "for match in it:\n",
    "    print(match.group())"
   ]
  },
  {
   "cell_type": "code",
   "execution_count": 16,
   "metadata": {},
   "outputs": [
    {
     "data": {
      "text/plain": [
       "['runoob', 'runoob', 'runoob']"
      ]
     },
     "execution_count": 16,
     "metadata": {},
     "output_type": "execute_result"
    }
   ],
   "source": [
    "# re.split\n",
    "#syntax: re.split(pattern, string[, maxsplit=0, flags=0])\n",
    "\n",
    "import re\n",
    "re.split('\\W+','runoob, runoob,runoob.')"
   ]
  },
  {
   "cell_type": "code",
   "execution_count": 17,
   "metadata": {},
   "outputs": [
    {
     "data": {
      "text/plain": [
       "['runoob', ', ', 'runoob', ',', 'runoob', '.', '']"
      ]
     },
     "execution_count": 17,
     "metadata": {},
     "output_type": "execute_result"
    }
   ],
   "source": [
    "re.split('(\\W+)','runoob, runoob,runoob.')"
   ]
  },
  {
   "cell_type": "code",
   "execution_count": 18,
   "metadata": {},
   "outputs": [
    {
     "data": {
      "text/plain": [
       "['runoob', 'runoob,runoob.']"
      ]
     },
     "execution_count": 18,
     "metadata": {},
     "output_type": "execute_result"
    }
   ],
   "source": [
    "re.split('\\W+','runoob, runoob,runoob.',1)"
   ]
  },
  {
   "cell_type": "code",
   "execution_count": 19,
   "metadata": {},
   "outputs": [
    {
     "data": {
      "text/plain": [
       "['', 'h', 'e', 'l', 'l', 'o', 'w', ' ', 'w', 'o', 'r', 'l', 'd', '']"
      ]
     },
     "execution_count": 19,
     "metadata": {},
     "output_type": "execute_result"
    }
   ],
   "source": [
    "re.split('a*','hellow world')  #split will not split unmatched strings"
   ]
  },
  {
   "cell_type": "code",
   "execution_count": null,
   "metadata": {},
   "outputs": [],
   "source": []
  }
 ],
 "metadata": {
  "kernelspec": {
   "display_name": "Python 3",
   "language": "python",
   "name": "python3"
  },
  "language_info": {
   "codemirror_mode": {
    "name": "ipython",
    "version": 3
   },
   "file_extension": ".py",
   "mimetype": "text/x-python",
   "name": "python",
   "nbconvert_exporter": "python",
   "pygments_lexer": "ipython3",
   "version": "3.7.6"
  }
 },
 "nbformat": 4,
 "nbformat_minor": 4
}
