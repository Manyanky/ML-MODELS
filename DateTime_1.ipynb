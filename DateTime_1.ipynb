{
 "cells": [
  {
   "cell_type": "code",
   "execution_count": 1,
   "metadata": {},
   "outputs": [
    {
     "name": "stdout",
     "output_type": "stream",
     "text": [
      "Local time time.struct_time(tm_year=2020, tm_mon=4, tm_mday=21, tm_hour=16, tm_min=25, tm_sec=0, tm_wday=1, tm_yday=112, tm_isdst=0)\n"
     ]
    }
   ],
   "source": [
    "#Get the current time\n",
    "\n",
    "import time\n",
    "localtime = time.localtime(time.time())\n",
    "print(\"Local time\", localtime)"
   ]
  },
  {
   "cell_type": "code",
   "execution_count": 2,
   "metadata": {},
   "outputs": [
    {
     "name": "stdout",
     "output_type": "stream",
     "text": [
      "Local time : Tue Apr 21 16:25:12 2020\n"
     ]
    }
   ],
   "source": [
    "#Get the formatted time\n",
    "\n",
    "import time\n",
    "localtime = time.asctime(time.localtime(time.time()))\n",
    "print(\"Local time :\",localtime)"
   ]
  },
  {
   "cell_type": "code",
   "execution_count": 3,
   "metadata": {},
   "outputs": [
    {
     "name": "stdout",
     "output_type": "stream",
     "text": [
      "2020-04-21 16:25:51\n",
      "Tue Apr 21 16:25:51 2020\n",
      "1585376109.0\n"
     ]
    }
   ],
   "source": [
    "#format date\n",
    "\n",
    "import time\n",
    "#format into 2020-03-28 09:09:55\n",
    "print(time.strftime(\"%Y-%m-%d %H:%M:%S\",time.localtime()))\n",
    "\n",
    "#format into  sat Mar 28 09:15:09 2020\n",
    "print(time.strftime(\"%a %b %d %H:%M:%S %Y\",time.localtime()))\n",
    "\n",
    "#turn format string into a timestamp\n",
    "a = \"Sat Mar 28 09:15:09 2020\"\n",
    "print(time.mktime(time.strptime(a,\"%a %b %d %H:%M:%S %Y\")))\n",
    "        "
   ]
  },
  {
   "cell_type": "code",
   "execution_count": 7,
   "metadata": {},
   "outputs": [
    {
     "name": "stdout",
     "output_type": "stream",
     "text": [
      "Output calendar of March 2020\n",
      "      May 2019\n",
      "Mo Tu We Th Fr Sa Su\n",
      "       1  2  3  4  5\n",
      " 6  7  8  9 10 11 12\n",
      "13 14 15 16 17 18 19\n",
      "20 21 22 23 24 25 26\n",
      "27 28 29 30 31\n",
      "\n"
     ]
    }
   ],
   "source": [
    "#Get a calendar of a month\n",
    "import calendar\n",
    "\n",
    "cal = calendar.month(2019, 5)\n",
    "print(\"Output calendar of March 2020\")\n",
    "print(cal)"
   ]
  },
  {
   "cell_type": "code",
   "execution_count": null,
   "metadata": {},
   "outputs": [],
   "source": []
  }
 ],
 "metadata": {
  "kernelspec": {
   "display_name": "Python 3",
   "language": "python",
   "name": "python3"
  },
  "language_info": {
   "codemirror_mode": {
    "name": "ipython",
    "version": 3
   },
   "file_extension": ".py",
   "mimetype": "text/x-python",
   "name": "python",
   "nbconvert_exporter": "python",
   "pygments_lexer": "ipython3",
   "version": "3.7.6"
  }
 },
 "nbformat": 4,
 "nbformat_minor": 4
}
