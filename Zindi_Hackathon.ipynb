{
  "nbformat": 4,
  "nbformat_minor": 0,
  "metadata": {
    "colab": {
      "name": "Zindi_Hackathon",
      "provenance": [],
      "collapsed_sections": [],
      "toc_visible": true,
      "include_colab_link": true
    },
    "kernelspec": {
      "name": "python3",
      "display_name": "Python 3"
    }
  },
  "cells": [
    {
      "cell_type": "markdown",
      "metadata": {
        "id": "view-in-github",
        "colab_type": "text"
      },
      "source": [
        "<a href=\"https://colab.research.google.com/github/Manyanky/ML-MODELS/blob/master/Zindi_Hackathon.ipynb\" target=\"_parent\"><img src=\"https://colab.research.google.com/assets/colab-badge.svg\" alt=\"Open In Colab\"/></a>"
      ]
    },
    {
      "cell_type": "code",
      "metadata": {
        "id": "wXQ02hlXWmDo"
      },
      "source": [
        "#Getting the necessary required headerfiles\n",
        "\n",
        "import pandas as pd   #for our exploratory data analysis\n",
        "import matplotlib.pyplot as plt  #We will need to do some plotting\n",
        "import numpy as np         #Numerical calculations, linear algebra\n",
        "from sklearn import metrics   #Getting the necessary evaluation matrix\n",
        "# %matplotlib inline           #setting the backend of the matplotlib to the inline backend\n",
        "#from matplotlib.pylablab import rcParams  #for custom styles incase of need\n",
        "import seaborn as sns   #interactive plots\n",
        "from datetime import datetime, timedelta,date\n",
        "\n",
        "import plotly.offline as pyoff\n",
        "import plotly.graph_objs as go\n",
        "\n",
        "from sklearn.cluster import KMeans\n",
        "from sklearn.linear_model import LogisticRegression  #for regression\n",
        "from sklearn.ensemble import RandomForestClassifier   #Random forest algorithm\n",
        "from sklearn.naive_bayes import GaussianNB     #Gaussian Naive Bayes for performing online updates for the model parameters.(Normal distribution)\n",
        "from sklearn.neighbors import KNeighborsClassifier  #KNN classification\n",
        "from sklearn.tree import DecisionTreeClassifier  #DecisionTree\n",
        "from sklearn import svm             #Support vector machine for machine learning\n",
        "from sklearn.svm import SVC\n",
        "from sklearn.metrics import classification_report,confusion_matrix\n",
        "from sklearn.model_selection import train_test_split, GridSearchCV  \n",
        "from sklearn.model_selection import KFold, cross_val_score  #Croos validation\n",
        "from sklearn.model_selection import GridSearchCV #parameter tuning\n",
        "from sklearn.model_selection import RandomizedSearchCV\n",
        "import xgboost as xgb\n",
        "from sklearn.ensemble import AdaBoostClassifier\n",
        "from sklearn.model_selection import KFold      #validation\n",
        "\n",
        "from sklearn.model_selection import train_test_split, GridSearchCV, StratifiedKFold\n",
        "from sklearn.metrics import roc_curve, precision_recall_curve, auc, make_scorer, recall_score, accuracy_score,average_precision_score, precision_score, confusion_matrix, classification_report\n",
        "\n"
      ],
      "execution_count": null,
      "outputs": []
    },
    {
      "cell_type": "code",
      "metadata": {
        "id": "LC2JPiosgIiP"
      },
      "source": [
        ""
      ],
      "execution_count": null,
      "outputs": []
    },
    {
      "cell_type": "code",
      "metadata": {
        "id": "k2ql4Zx66uOZ"
      },
      "source": [
        "#After importation of necessary modules, we are going to read data in this cell, have a look at it and performing preprocassing and cleaning if necessary\n",
        "\n",
        "from pydrive.auth import GoogleAuth\n",
        "from pydrive.drive import GoogleDrive\n",
        "from google.colab import auth\n",
        "from oauth2client.client import GoogleCredentials\n",
        "\n",
        "# Authenticating and creating the PyDrive client.\n",
        "auth.authenticate_user()\n",
        "gauth = GoogleAuth()\n",
        "gauth.credentials = GoogleCredentials.get_application_default()\n",
        "drive = GoogleDrive(gauth)\n"
      ],
      "execution_count": null,
      "outputs": []
    },
    {
      "cell_type": "code",
      "metadata": {
        "id": "x6MuTHw5mnGn",
        "colab": {
          "base_uri": "https://localhost:8080/",
          "height": 51
        },
        "outputId": "b0e82747-251a-49ea-f4ff-5b5171fcf321"
      },
      "source": [
        "path = 'https://drive.google.com/open?id=1gLcywbZczZX2PYvnp0b1yZ2LgRpmuOCQ'\n",
        "path2 = 'https://drive.google.com/open?id=144JlB1MyZsHCDhIwGoZNo5tfqggRZI4M'\n",
        "fluff, id = path.split('=')\n",
        "fluff, id2 = path2.split('=')\n",
        "print (id)\n",
        "print (id2)"
      ],
      "execution_count": null,
      "outputs": [
        {
          "output_type": "stream",
          "text": [
            "1gLcywbZczZX2PYvnp0b1yZ2LgRpmuOCQ\n",
            "144JlB1MyZsHCDhIwGoZNo5tfqggRZI4M\n"
          ],
          "name": "stdout"
        }
      ]
    },
    {
      "cell_type": "code",
      "metadata": {
        "id": "tHsJ1WsTQOaB",
        "colab": {
          "base_uri": "https://localhost:8080/",
          "height": 357
        },
        "outputId": "1626c87b-3258-46a5-fdb8-6c1274a87ab9"
      },
      "source": [
        "import warnings\n",
        "warnings.filterwarnings(\"ignore\")  # we will be ignoring any kind of warnings\n",
        "\n",
        "dataset = drive.CreateFile({'id':id}) \n",
        "dataset.GetContentFile('Train.csv')  \n",
        "\n",
        "dataset2 = drive.CreateFile({'id':id2}) \n",
        "dataset2.GetContentFile('PID_Categories.csv')  \n",
        "\n",
        "#Loading both test and train sets\n",
        "train = pd.read_csv('Train.csv')\n",
        "categories = pd.read_csv('PID_Categories.csv')\n",
        "#test = pd.read_csv('test.csv')\n",
        "#complete_data = [train, test]\n",
        "print(train.info())\n",
        "train.head()\n",
        "categories.head()\n",
        "#print(test.infor())\n",
        "#print(complete_data.shape)\n",
        "#print(complete_data.head())"
      ],
      "execution_count": null,
      "outputs": [
        {
          "output_type": "stream",
          "text": [
            "<class 'pandas.core.frame.DataFrame'>\n",
            "RangeIndex: 66514 entries, 0 to 66513\n",
            "Data columns (total 3 columns):\n",
            "date    66514 non-null object\n",
            "acc     66514 non-null int64\n",
            "PID     66514 non-null object\n",
            "dtypes: int64(1), object(2)\n",
            "memory usage: 1.5+ MB\n",
            "None\n"
          ],
          "name": "stdout"
        },
        {
          "output_type": "execute_result",
          "data": {
            "text/html": [
              "<div>\n",
              "<style scoped>\n",
              "    .dataframe tbody tr th:only-of-type {\n",
              "        vertical-align: middle;\n",
              "    }\n",
              "\n",
              "    .dataframe tbody tr th {\n",
              "        vertical-align: top;\n",
              "    }\n",
              "\n",
              "    .dataframe thead th {\n",
              "        text-align: right;\n",
              "    }\n",
              "</style>\n",
              "<table border=\"1\" class=\"dataframe\">\n",
              "  <thead>\n",
              "    <tr style=\"text-align: right;\">\n",
              "      <th></th>\n",
              "      <th>PID</th>\n",
              "      <th>Category</th>\n",
              "    </tr>\n",
              "  </thead>\n",
              "  <tbody>\n",
              "    <tr>\n",
              "      <th>0</th>\n",
              "      <td>BN7D</td>\n",
              "      <td>CASHBACK</td>\n",
              "    </tr>\n",
              "    <tr>\n",
              "      <th>1</th>\n",
              "      <td>80G0</td>\n",
              "      <td>AIRTIME_DATA</td>\n",
              "    </tr>\n",
              "    <tr>\n",
              "      <th>2</th>\n",
              "      <td>WLIW</td>\n",
              "      <td>AIRTIME_DATA</td>\n",
              "    </tr>\n",
              "    <tr>\n",
              "      <th>3</th>\n",
              "      <td>U1DD</td>\n",
              "      <td>MOBILE_MONEY</td>\n",
              "    </tr>\n",
              "    <tr>\n",
              "      <th>4</th>\n",
              "      <td>T0LZ</td>\n",
              "      <td>AIRTIME_DATA</td>\n",
              "    </tr>\n",
              "  </tbody>\n",
              "</table>\n",
              "</div>"
            ],
            "text/plain": [
              "    PID      Category\n",
              "0  BN7D      CASHBACK\n",
              "1  80G0  AIRTIME_DATA\n",
              "2  WLIW  AIRTIME_DATA\n",
              "3  U1DD  MOBILE_MONEY\n",
              "4  T0LZ  AIRTIME_DATA"
            ]
          },
          "metadata": {
            "tags": []
          },
          "execution_count": 163
        }
      ]
    },
    {
      "cell_type": "code",
      "metadata": {
        "id": "norYt5lI7jbK",
        "colab": {
          "base_uri": "https://localhost:8080/",
          "height": 34
        },
        "outputId": "bdbf0a88-832c-4848-946e-ca89c6d50b2a"
      },
      "source": [
        "#merging the train dataset and PID_Categories\n",
        "train_data = pd.merge( train, categories , on = 'PID')\n",
        "train_data.head()\n",
        "train_data.shape"
      ],
      "execution_count": null,
      "outputs": [
        {
          "output_type": "execute_result",
          "data": {
            "text/plain": [
              "(66514, 4)"
            ]
          },
          "metadata": {
            "tags": []
          },
          "execution_count": 164
        }
      ]
    },
    {
      "cell_type": "code",
      "metadata": {
        "id": "n5l9WaMZHxJm",
        "colab": {
          "base_uri": "https://localhost:8080/",
          "height": 359
        },
        "outputId": "7f4f1e31-ee1c-4ca6-eeb5-0194b1c700ff"
      },
      "source": [
        "#convert date field from string to datetime\n",
        "train_data['date'] = pd.to_datetime(train_data['date'])\n",
        "train_data.head(10)\n"
      ],
      "execution_count": null,
      "outputs": [
        {
          "output_type": "execute_result",
          "data": {
            "text/html": [
              "<div>\n",
              "<style scoped>\n",
              "    .dataframe tbody tr th:only-of-type {\n",
              "        vertical-align: middle;\n",
              "    }\n",
              "\n",
              "    .dataframe tbody tr th {\n",
              "        vertical-align: top;\n",
              "    }\n",
              "\n",
              "    .dataframe thead th {\n",
              "        text-align: right;\n",
              "    }\n",
              "</style>\n",
              "<table border=\"1\" class=\"dataframe\">\n",
              "  <thead>\n",
              "    <tr style=\"text-align: right;\">\n",
              "      <th></th>\n",
              "      <th>date</th>\n",
              "      <th>acc</th>\n",
              "      <th>PID</th>\n",
              "      <th>Category</th>\n",
              "    </tr>\n",
              "  </thead>\n",
              "  <tbody>\n",
              "    <tr>\n",
              "      <th>0</th>\n",
              "      <td>2019-12-13 11:38:33.226</td>\n",
              "      <td>256787571627</td>\n",
              "      <td>80G0</td>\n",
              "      <td>AIRTIME_DATA</td>\n",
              "    </tr>\n",
              "    <tr>\n",
              "      <th>1</th>\n",
              "      <td>2019-11-15 09:16:06.591</td>\n",
              "      <td>256704005298</td>\n",
              "      <td>80G0</td>\n",
              "      <td>AIRTIME_DATA</td>\n",
              "    </tr>\n",
              "    <tr>\n",
              "      <th>2</th>\n",
              "      <td>2019-11-19 19:51:59.545</td>\n",
              "      <td>256701950144</td>\n",
              "      <td>80G0</td>\n",
              "      <td>AIRTIME_DATA</td>\n",
              "    </tr>\n",
              "    <tr>\n",
              "      <th>3</th>\n",
              "      <td>2019-12-12 11:41:13.059</td>\n",
              "      <td>256702173540</td>\n",
              "      <td>80G0</td>\n",
              "      <td>AIRTIME_DATA</td>\n",
              "    </tr>\n",
              "    <tr>\n",
              "      <th>4</th>\n",
              "      <td>2019-12-27 18:17:24.438</td>\n",
              "      <td>256779600475</td>\n",
              "      <td>80G0</td>\n",
              "      <td>AIRTIME_DATA</td>\n",
              "    </tr>\n",
              "    <tr>\n",
              "      <th>5</th>\n",
              "      <td>2019-11-25 09:38:15.356</td>\n",
              "      <td>256312290313</td>\n",
              "      <td>80G0</td>\n",
              "      <td>AIRTIME_DATA</td>\n",
              "    </tr>\n",
              "    <tr>\n",
              "      <th>6</th>\n",
              "      <td>2019-11-12 11:05:25.387</td>\n",
              "      <td>256775875248</td>\n",
              "      <td>80G0</td>\n",
              "      <td>AIRTIME_DATA</td>\n",
              "    </tr>\n",
              "    <tr>\n",
              "      <th>7</th>\n",
              "      <td>2019-11-15 09:25:21.640</td>\n",
              "      <td>256702433638</td>\n",
              "      <td>80G0</td>\n",
              "      <td>AIRTIME_DATA</td>\n",
              "    </tr>\n",
              "    <tr>\n",
              "      <th>8</th>\n",
              "      <td>2019-11-29 19:55:36.676</td>\n",
              "      <td>256773743973</td>\n",
              "      <td>80G0</td>\n",
              "      <td>AIRTIME_DATA</td>\n",
              "    </tr>\n",
              "    <tr>\n",
              "      <th>9</th>\n",
              "      <td>2019-12-13 15:31:03.787</td>\n",
              "      <td>256784626274</td>\n",
              "      <td>80G0</td>\n",
              "      <td>AIRTIME_DATA</td>\n",
              "    </tr>\n",
              "  </tbody>\n",
              "</table>\n",
              "</div>"
            ],
            "text/plain": [
              "                     date           acc   PID      Category\n",
              "0 2019-12-13 11:38:33.226  256787571627  80G0  AIRTIME_DATA\n",
              "1 2019-11-15 09:16:06.591  256704005298  80G0  AIRTIME_DATA\n",
              "2 2019-11-19 19:51:59.545  256701950144  80G0  AIRTIME_DATA\n",
              "3 2019-12-12 11:41:13.059  256702173540  80G0  AIRTIME_DATA\n",
              "4 2019-12-27 18:17:24.438  256779600475  80G0  AIRTIME_DATA\n",
              "5 2019-11-25 09:38:15.356  256312290313  80G0  AIRTIME_DATA\n",
              "6 2019-11-12 11:05:25.387  256775875248  80G0  AIRTIME_DATA\n",
              "7 2019-11-15 09:25:21.640  256702433638  80G0  AIRTIME_DATA\n",
              "8 2019-11-29 19:55:36.676  256773743973  80G0  AIRTIME_DATA\n",
              "9 2019-12-13 15:31:03.787  256784626274  80G0  AIRTIME_DATA"
            ]
          },
          "metadata": {
            "tags": []
          },
          "execution_count": 165
        }
      ]
    },
    {
      "cell_type": "code",
      "metadata": {
        "id": "NXyrcKxGIVvo"
      },
      "source": [
        "#splitting the data into 2 months range to tell customer last purchase in the last two months \n",
        "data_2m = train_data[(train_data.date < date(2020,1,1)) & (train_data.date >= date(2019,11,1))].reset_index(drop=True)\n",
        "data_next = train_data[(train_data.date >= date(2020,1,1)) & (train_data.date < date(2020,3,30))].reset_index(drop=True)"
      ],
      "execution_count": null,
      "outputs": []
    },
    {
      "cell_type": "code",
      "metadata": {
        "id": "2uUr5QTpQG1_"
      },
      "source": [
        "data_user = pd.DataFrame(data_2m['acc'].unique())\n",
        "data_user.columns = ['acc']"
      ],
      "execution_count": null,
      "outputs": []
    },
    {
      "cell_type": "code",
      "metadata": {
        "id": "L1-RmVcMRbOk",
        "colab": {
          "base_uri": "https://localhost:8080/",
          "height": 204
        },
        "outputId": "7a8568ff-20ae-4819-9cab-f295b4591053"
      },
      "source": [
        "#create a dataframe with acc and first purchase date in data_next\n",
        "data_next_first_purchase = data_next.groupby('acc').date.min().reset_index()\n",
        "data_next_first_purchase.columns = ['acc','MinPurchaseDate']\n",
        "data_next_first_purchase.head()\n"
      ],
      "execution_count": null,
      "outputs": [
        {
          "output_type": "execute_result",
          "data": {
            "text/html": [
              "<div>\n",
              "<style scoped>\n",
              "    .dataframe tbody tr th:only-of-type {\n",
              "        vertical-align: middle;\n",
              "    }\n",
              "\n",
              "    .dataframe tbody tr th {\n",
              "        vertical-align: top;\n",
              "    }\n",
              "\n",
              "    .dataframe thead th {\n",
              "        text-align: right;\n",
              "    }\n",
              "</style>\n",
              "<table border=\"1\" class=\"dataframe\">\n",
              "  <thead>\n",
              "    <tr style=\"text-align: right;\">\n",
              "      <th></th>\n",
              "      <th>acc</th>\n",
              "      <th>MinPurchaseDate</th>\n",
              "    </tr>\n",
              "  </thead>\n",
              "  <tbody>\n",
              "    <tr>\n",
              "      <th>0</th>\n",
              "      <td>233572490363</td>\n",
              "      <td>2020-02-04 12:31:26.365</td>\n",
              "    </tr>\n",
              "    <tr>\n",
              "      <th>1</th>\n",
              "      <td>256000000000</td>\n",
              "      <td>2020-01-01 20:33:05.073</td>\n",
              "    </tr>\n",
              "    <tr>\n",
              "      <th>2</th>\n",
              "      <td>256312226700</td>\n",
              "      <td>2020-01-30 11:25:30.513</td>\n",
              "    </tr>\n",
              "    <tr>\n",
              "      <th>3</th>\n",
              "      <td>256312229200</td>\n",
              "      <td>2020-01-30 11:22:15.857</td>\n",
              "    </tr>\n",
              "    <tr>\n",
              "      <th>4</th>\n",
              "      <td>256312290313</td>\n",
              "      <td>2020-01-07 10:14:47.990</td>\n",
              "    </tr>\n",
              "  </tbody>\n",
              "</table>\n",
              "</div>"
            ],
            "text/plain": [
              "            acc         MinPurchaseDate\n",
              "0  233572490363 2020-02-04 12:31:26.365\n",
              "1  256000000000 2020-01-01 20:33:05.073\n",
              "2  256312226700 2020-01-30 11:25:30.513\n",
              "3  256312229200 2020-01-30 11:22:15.857\n",
              "4  256312290313 2020-01-07 10:14:47.990"
            ]
          },
          "metadata": {
            "tags": []
          },
          "execution_count": 168
        }
      ]
    },
    {
      "cell_type": "code",
      "metadata": {
        "id": "2ugZ65VcYj_x",
        "colab": {
          "base_uri": "https://localhost:8080/",
          "height": 204
        },
        "outputId": "4217e2ae-19bd-4820-9981-ae060abeaac2"
      },
      "source": [
        "#create a dataframe with acc and last purchase date in data_2m\n",
        "data_last_purchase = data_2m.groupby('acc').date.max().reset_index()\n",
        "data_last_purchase.columns = ['acc','MaxPurchaseDate']\n",
        "\n",
        "#merge the two dataframes\n",
        "data_purchase_dates = pd.merge(data_last_purchase,data_next_first_purchase,on='acc',how='left')\n",
        "#calculate the time difference in days:\n",
        "data_purchase_dates['NextPurchaseDay'] = (data_purchase_dates['MinPurchaseDate'] - data_purchase_dates['MaxPurchaseDate']).dt.days\n",
        "data_purchase_dates.head()"
      ],
      "execution_count": null,
      "outputs": [
        {
          "output_type": "execute_result",
          "data": {
            "text/html": [
              "<div>\n",
              "<style scoped>\n",
              "    .dataframe tbody tr th:only-of-type {\n",
              "        vertical-align: middle;\n",
              "    }\n",
              "\n",
              "    .dataframe tbody tr th {\n",
              "        vertical-align: top;\n",
              "    }\n",
              "\n",
              "    .dataframe thead th {\n",
              "        text-align: right;\n",
              "    }\n",
              "</style>\n",
              "<table border=\"1\" class=\"dataframe\">\n",
              "  <thead>\n",
              "    <tr style=\"text-align: right;\">\n",
              "      <th></th>\n",
              "      <th>acc</th>\n",
              "      <th>MaxPurchaseDate</th>\n",
              "      <th>MinPurchaseDate</th>\n",
              "      <th>NextPurchaseDay</th>\n",
              "    </tr>\n",
              "  </thead>\n",
              "  <tbody>\n",
              "    <tr>\n",
              "      <th>0</th>\n",
              "      <td>256000000000</td>\n",
              "      <td>2019-12-31 11:09:47.722</td>\n",
              "      <td>2020-01-01 20:33:05.073</td>\n",
              "      <td>1.0</td>\n",
              "    </tr>\n",
              "    <tr>\n",
              "      <th>1</th>\n",
              "      <td>256312290313</td>\n",
              "      <td>2019-12-20 12:07:55.368</td>\n",
              "      <td>2020-01-07 10:14:47.990</td>\n",
              "      <td>17.0</td>\n",
              "    </tr>\n",
              "    <tr>\n",
              "      <th>2</th>\n",
              "      <td>256393100610</td>\n",
              "      <td>2019-12-31 08:44:22.591</td>\n",
              "      <td>2020-01-01 05:39:35.528</td>\n",
              "      <td>0.0</td>\n",
              "    </tr>\n",
              "    <tr>\n",
              "      <th>3</th>\n",
              "      <td>256393216521</td>\n",
              "      <td>2019-12-04 08:54:35.026</td>\n",
              "      <td>2020-01-06 09:17:08.740</td>\n",
              "      <td>33.0</td>\n",
              "    </tr>\n",
              "    <tr>\n",
              "      <th>4</th>\n",
              "      <td>256700117509</td>\n",
              "      <td>2019-12-20 16:03:33.725</td>\n",
              "      <td>2020-02-15 12:03:10.959</td>\n",
              "      <td>56.0</td>\n",
              "    </tr>\n",
              "  </tbody>\n",
              "</table>\n",
              "</div>"
            ],
            "text/plain": [
              "            acc  ... NextPurchaseDay\n",
              "0  256000000000  ...             1.0\n",
              "1  256312290313  ...            17.0\n",
              "2  256393100610  ...             0.0\n",
              "3  256393216521  ...            33.0\n",
              "4  256700117509  ...            56.0\n",
              "\n",
              "[5 rows x 4 columns]"
            ]
          },
          "metadata": {
            "tags": []
          },
          "execution_count": 169
        }
      ]
    },
    {
      "cell_type": "code",
      "metadata": {
        "id": "xW_M9Yc9Z2H9",
        "colab": {
          "base_uri": "https://localhost:8080/",
          "height": 204
        },
        "outputId": "8962f75a-1e64-4315-cfd7-63be451bf299"
      },
      "source": [
        "#merging with data_user\n",
        "data_user = pd.merge(data_user, data_purchase_dates[['acc','NextPurchaseDay']],on='acc',how='left')\n",
        "data_user.head()"
      ],
      "execution_count": null,
      "outputs": [
        {
          "output_type": "execute_result",
          "data": {
            "text/html": [
              "<div>\n",
              "<style scoped>\n",
              "    .dataframe tbody tr th:only-of-type {\n",
              "        vertical-align: middle;\n",
              "    }\n",
              "\n",
              "    .dataframe tbody tr th {\n",
              "        vertical-align: top;\n",
              "    }\n",
              "\n",
              "    .dataframe thead th {\n",
              "        text-align: right;\n",
              "    }\n",
              "</style>\n",
              "<table border=\"1\" class=\"dataframe\">\n",
              "  <thead>\n",
              "    <tr style=\"text-align: right;\">\n",
              "      <th></th>\n",
              "      <th>acc</th>\n",
              "      <th>NextPurchaseDay</th>\n",
              "    </tr>\n",
              "  </thead>\n",
              "  <tbody>\n",
              "    <tr>\n",
              "      <th>0</th>\n",
              "      <td>256787571627</td>\n",
              "      <td>NaN</td>\n",
              "    </tr>\n",
              "    <tr>\n",
              "      <th>1</th>\n",
              "      <td>256704005298</td>\n",
              "      <td>12.0</td>\n",
              "    </tr>\n",
              "    <tr>\n",
              "      <th>2</th>\n",
              "      <td>256701950144</td>\n",
              "      <td>NaN</td>\n",
              "    </tr>\n",
              "    <tr>\n",
              "      <th>3</th>\n",
              "      <td>256702173540</td>\n",
              "      <td>NaN</td>\n",
              "    </tr>\n",
              "    <tr>\n",
              "      <th>4</th>\n",
              "      <td>256779600475</td>\n",
              "      <td>3.0</td>\n",
              "    </tr>\n",
              "  </tbody>\n",
              "</table>\n",
              "</div>"
            ],
            "text/plain": [
              "            acc  NextPurchaseDay\n",
              "0  256787571627              NaN\n",
              "1  256704005298             12.0\n",
              "2  256701950144              NaN\n",
              "3  256702173540              NaN\n",
              "4  256779600475              3.0"
            ]
          },
          "metadata": {
            "tags": []
          },
          "execution_count": 170
        }
      ]
    },
    {
      "cell_type": "code",
      "metadata": {
        "id": "1AmNFHQZaPYS"
      },
      "source": [
        "#filling the null values with 999\n",
        "data_user = data_user.fillna(999)"
      ],
      "execution_count": null,
      "outputs": []
    },
    {
      "cell_type": "code",
      "metadata": {
        "id": "XtvwQTNHaYb4"
      },
      "source": [
        "#get max purchase date for Recency and create a dataframe\n",
        "data_max_purchase = data_2m.groupby('acc').date.max().reset_index()"
      ],
      "execution_count": null,
      "outputs": []
    },
    {
      "cell_type": "code",
      "metadata": {
        "id": "Egpu6JRvbBQ1"
      },
      "source": [
        "data_max_purchase.columns = ['acc','MaxPurchaseDate']"
      ],
      "execution_count": null,
      "outputs": []
    },
    {
      "cell_type": "code",
      "metadata": {
        "id": "NxCeMgVAbHpG"
      },
      "source": [
        "data_max_purchase['Recency'] = (data_max_purchase['MaxPurchaseDate'].max() - data_max_purchase['MaxPurchaseDate']).dt.days"
      ],
      "execution_count": null,
      "outputs": []
    },
    {
      "cell_type": "code",
      "metadata": {
        "id": "_xeSWG0vbUg9"
      },
      "source": [
        "data_user = pd.merge(data_user, data_max_purchase[['acc','Recency']], on='acc')"
      ],
      "execution_count": null,
      "outputs": []
    },
    {
      "cell_type": "code",
      "metadata": {
        "id": "bbSs9tTFbebL",
        "colab": {
          "base_uri": "https://localhost:8080/",
          "height": 204
        },
        "outputId": "919c39a4-6580-4775-d8eb-fa5a66e05de5"
      },
      "source": [
        "data_user.head()"
      ],
      "execution_count": null,
      "outputs": [
        {
          "output_type": "execute_result",
          "data": {
            "text/html": [
              "<div>\n",
              "<style scoped>\n",
              "    .dataframe tbody tr th:only-of-type {\n",
              "        vertical-align: middle;\n",
              "    }\n",
              "\n",
              "    .dataframe tbody tr th {\n",
              "        vertical-align: top;\n",
              "    }\n",
              "\n",
              "    .dataframe thead th {\n",
              "        text-align: right;\n",
              "    }\n",
              "</style>\n",
              "<table border=\"1\" class=\"dataframe\">\n",
              "  <thead>\n",
              "    <tr style=\"text-align: right;\">\n",
              "      <th></th>\n",
              "      <th>acc</th>\n",
              "      <th>NextPurchaseDay</th>\n",
              "      <th>Recency</th>\n",
              "    </tr>\n",
              "  </thead>\n",
              "  <tbody>\n",
              "    <tr>\n",
              "      <th>0</th>\n",
              "      <td>256787571627</td>\n",
              "      <td>999.0</td>\n",
              "      <td>18</td>\n",
              "    </tr>\n",
              "    <tr>\n",
              "      <th>1</th>\n",
              "      <td>256704005298</td>\n",
              "      <td>12.0</td>\n",
              "      <td>10</td>\n",
              "    </tr>\n",
              "    <tr>\n",
              "      <th>2</th>\n",
              "      <td>256701950144</td>\n",
              "      <td>999.0</td>\n",
              "      <td>41</td>\n",
              "    </tr>\n",
              "    <tr>\n",
              "      <th>3</th>\n",
              "      <td>256702173540</td>\n",
              "      <td>999.0</td>\n",
              "      <td>2</td>\n",
              "    </tr>\n",
              "    <tr>\n",
              "      <th>4</th>\n",
              "      <td>256779600475</td>\n",
              "      <td>3.0</td>\n",
              "      <td>1</td>\n",
              "    </tr>\n",
              "  </tbody>\n",
              "</table>\n",
              "</div>"
            ],
            "text/plain": [
              "            acc  NextPurchaseDay  Recency\n",
              "0  256787571627            999.0       18\n",
              "1  256704005298             12.0       10\n",
              "2  256701950144            999.0       41\n",
              "3  256702173540            999.0        2\n",
              "4  256779600475              3.0        1"
            ]
          },
          "metadata": {
            "tags": []
          },
          "execution_count": 176
        }
      ]
    },
    {
      "cell_type": "code",
      "metadata": {
        "id": "NC7rjZAbbnnL",
        "colab": {
          "base_uri": "https://localhost:8080/",
          "height": 170
        },
        "outputId": "c854dacc-716e-44dc-8b2e-788cd3977ae6"
      },
      "source": [
        "data_user.Recency.describe()"
      ],
      "execution_count": null,
      "outputs": [
        {
          "output_type": "execute_result",
          "data": {
            "text/plain": [
              "count    1944.000000\n",
              "mean       18.454733\n",
              "std        16.349282\n",
              "min         0.000000\n",
              "25%         4.000000\n",
              "50%        15.000000\n",
              "75%        29.000000\n",
              "max        60.000000\n",
              "Name: Recency, dtype: float64"
            ]
          },
          "metadata": {
            "tags": []
          },
          "execution_count": 177
        }
      ]
    },
    {
      "cell_type": "code",
      "metadata": {
        "id": "J4pLzc79bqcB",
        "colab": {
          "base_uri": "https://localhost:8080/",
          "height": 542
        },
        "outputId": "75a00e54-4370-4ba0-c091-dec2cab22955"
      },
      "source": [
        "plot_data = [\n",
        "    go.Histogram(\n",
        "        x=data_user['Recency']\n",
        "    )\n",
        "]\n",
        "\n",
        "plot_layout = go.Layout(\n",
        "        title='Recency'\n",
        "    )\n",
        "fig = go.Figure(data=plot_data, layout=plot_layout)\n",
        "pyoff.iplot(fig)"
      ],
      "execution_count": null,
      "outputs": [
        {
          "output_type": "display_data",
          "data": {
            "text/html": [
              "<html>\n",
              "<head><meta charset=\"utf-8\" /></head>\n",
              "<body>\n",
              "    <div>\n",
              "            <script src=\"https://cdnjs.cloudflare.com/ajax/libs/mathjax/2.7.5/MathJax.js?config=TeX-AMS-MML_SVG\"></script><script type=\"text/javascript\">if (window.MathJax) {MathJax.Hub.Config({SVG: {font: \"STIX-Web\"}});}</script>\n",
              "                <script type=\"text/javascript\">window.PlotlyConfig = {MathJaxConfig: 'local'};</script>\n",
              "        <script src=\"https://cdn.plot.ly/plotly-latest.min.js\"></script>    \n",
              "            <div id=\"5c24546f-96ec-4b02-9b30-f2d7f2703c47\" class=\"plotly-graph-div\" style=\"height:525px; width:100%;\"></div>\n",
              "            <script type=\"text/javascript\">\n",
              "                \n",
              "                    window.PLOTLYENV=window.PLOTLYENV || {};\n",
              "                    \n",
              "                if (document.getElementById(\"5c24546f-96ec-4b02-9b30-f2d7f2703c47\")) {\n",
              "                    Plotly.newPlot(\n",
              "                        '5c24546f-96ec-4b02-9b30-f2d7f2703c47',\n",
              "                        [{\"type\": \"histogram\", \"x\": [18, 10, 41, 2, 1, 11, 13, 10, 10, 10, 0, 3, 10, 10, 1, 10, 20, 10, 40, 10, 40, 10, 0, 12, 1, 2, 0, 10, 10, 0, 0, 36, 8, 0, 0, 4, 26, 15, 29, 10, 2, 4, 2, 4, 10, 0, 16, 10, 4, 4, 27, 49, 32, 1, 10, 2, 0, 13, 10, 0, 4, 10, 25, 15, 2, 2, 4, 4, 21, 2, 4, 2, 2, 6, 34, 2, 4, 10, 3, 2, 2, 10, 4, 1, 11, 1, 0, 0, 4, 27, 1, 1, 1, 2, 1, 18, 10, 10, 7, 10, 2, 0, 2, 12, 0, 0, 4, 0, 5, 2, 18, 3, 17, 10, 11, 1, 4, 10, 22, 0, 21, 2, 1, 37, 0, 4, 1, 4, 1, 10, 32, 10, 10, 22, 0, 0, 14, 10, 2, 10, 1, 14, 11, 4, 10, 4, 8, 28, 2, 2, 53, 2, 10, 0, 7, 3, 0, 5, 54, 10, 6, 2, 2, 10, 3, 2, 10, 43, 56, 2, 10, 2, 16, 0, 26, 2, 1, 8, 59, 15, 10, 39, 20, 0, 11, 26, 1, 1, 7, 3, 4, 26, 50, 1, 4, 4, 12, 2, 3, 10, 2, 43, 10, 18, 11, 2, 12, 4, 3, 2, 1, 10, 0, 10, 2, 6, 8, 33, 1, 10, 0, 0, 22, 10, 2, 7, 1, 4, 16, 10, 0, 10, 43, 22, 10, 10, 11, 10, 10, 5, 10, 0, 0, 0, 15, 2, 2, 4, 4, 29, 0, 4, 10, 2, 10, 4, 5, 1, 2, 10, 0, 14, 13, 18, 2, 0, 6, 1, 2, 0, 19, 10, 4, 1, 60, 2, 3, 10, 0, 4, 4, 1, 11, 1, 0, 1, 26, 4, 1, 44, 23, 47, 32, 10, 1, 5, 7, 48, 10, 10, 4, 1, 13, 13, 57, 16, 0, 10, 2, 4, 10, 0, 20, 30, 10, 12, 16, 11, 2, 10, 11, 0, 4, 29, 3, 38, 2, 0, 1, 14, 2, 30, 0, 37, 13, 1, 2, 15, 14, 47, 28, 0, 6, 0, 25, 10, 13, 0, 0, 1, 1, 0, 10, 1, 10, 0, 6, 28, 10, 10, 14, 0, 52, 2, 2, 0, 24, 10, 7, 42, 10, 51, 19, 4, 0, 0, 8, 9, 0, 2, 2, 2, 1, 14, 10, 10, 0, 4, 10, 0, 5, 1, 20, 2, 0, 0, 31, 34, 10, 46, 0, 10, 4, 53, 0, 1, 5, 0, 43, 10, 39, 0, 0, 0, 7, 2, 2, 22, 37, 13, 28, 25, 11, 0, 37, 14, 2, 28, 3, 14, 4, 31, 4, 2, 1, 1, 0, 40, 3, 1, 10, 28, 0, 0, 0, 10, 12, 28, 2, 2, 6, 20, 10, 2, 4, 15, 0, 2, 11, 10, 2, 3, 13, 14, 31, 15, 4, 11, 28, 39, 7, 10, 8, 0, 0, 1, 46, 18, 49, 33, 7, 28, 34, 4, 32, 12, 4, 5, 17, 9, 8, 0, 20, 1, 5, 21, 12, 6, 1, 32, 8, 53, 10, 26, 1, 2, 12, 0, 38, 0, 4, 0, 16, 14, 26, 4, 8, 20, 42, 20, 0, 10, 15, 20, 42, 13, 29, 22, 29, 27, 25, 0, 0, 4, 57, 48, 49, 24, 4, 17, 4, 59, 25, 1, 53, 46, 26, 15, 0, 2, 56, 4, 1, 41, 8, 1, 42, 15, 2, 14, 17, 33, 19, 27, 0, 2, 12, 21, 20, 42, 43, 7, 2, 11, 0, 11, 1, 11, 3, 4, 0, 15, 4, 52, 12, 30, 1, 2, 5, 1, 17, 13, 33, 11, 13, 2, 15, 14, 4, 10, 0, 1, 26, 21, 14, 6, 27, 14, 9, 3, 40, 24, 15, 0, 15, 12, 50, 43, 10, 8, 8, 1, 0, 2, 39, 19, 4, 30, 5, 4, 8, 17, 1, 0, 26, 35, 31, 0, 30, 21, 39, 39, 5, 9, 1, 32, 3, 2, 39, 5, 5, 39, 51, 7, 29, 15, 16, 9, 7, 5, 39, 15, 0, 2, 23, 28, 0, 3, 60, 8, 17, 43, 1, 53, 10, 47, 1, 3, 36, 6, 20, 14, 18, 28, 1, 52, 17, 49, 3, 10, 4, 1, 4, 0, 28, 27, 4, 0, 56, 6, 18, 0, 17, 45, 14, 31, 1, 53, 39, 3, 20, 26, 0, 20, 8, 9, 30, 20, 5, 29, 26, 13, 0, 16, 16, 4, 11, 42, 13, 5, 30, 41, 16, 14, 25, 22, 31, 37, 11, 0, 1, 10, 15, 9, 0, 27, 11, 36, 30, 2, 2, 0, 54, 33, 0, 15, 46, 5, 5, 1, 0, 6, 53, 14, 1, 12, 52, 41, 3, 24, 13, 33, 39, 43, 27, 7, 22, 4, 20, 14, 50, 35, 20, 3, 29, 20, 7, 1, 48, 33, 20, 5, 3, 12, 3, 30, 2, 6, 11, 29, 6, 47, 0, 13, 15, 16, 18, 13, 3, 58, 46, 15, 43, 0, 46, 2, 4, 48, 17, 1, 49, 1, 24, 22, 35, 6, 51, 14, 6, 36, 0, 5, 33, 19, 4, 16, 2, 1, 41, 37, 42, 20, 1, 22, 8, 14, 35, 0, 20, 17, 4, 31, 6, 17, 0, 34, 41, 43, 3, 16, 8, 2, 21, 8, 12, 36, 14, 21, 19, 53, 14, 11, 4, 12, 26, 9, 8, 8, 17, 12, 33, 13, 1, 4, 28, 19, 1, 15, 23, 0, 39, 48, 18, 39, 27, 26, 0, 0, 59, 0, 4, 5, 3, 48, 24, 2, 24, 2, 1, 19, 40, 20, 27, 35, 13, 6, 28, 2, 8, 30, 42, 30, 11, 49, 3, 1, 17, 6, 24, 5, 39, 3, 7, 35, 11, 0, 60, 1, 0, 18, 4, 8, 8, 0, 11, 2, 17, 5, 0, 12, 26, 4, 12, 18, 20, 31, 2, 42, 28, 7, 19, 24, 42, 42, 17, 20, 1, 26, 13, 0, 5, 32, 20, 5, 29, 3, 21, 2, 21, 5, 5, 28, 3, 8, 30, 7, 25, 24, 0, 8, 6, 26, 16, 4, 12, 0, 7, 25, 4, 35, 2, 0, 1, 5, 1, 18, 54, 0, 1, 2, 2, 0, 1, 1, 6, 39, 0, 1, 3, 53, 60, 47, 53, 27, 18, 22, 11, 8, 6, 5, 4, 53, 46, 11, 1, 0, 17, 25, 6, 0, 50, 10, 1, 19, 4, 9, 33, 8, 0, 32, 42, 33, 7, 34, 11, 34, 4, 34, 16, 37, 9, 10, 12, 15, 47, 35, 4, 4, 13, 49, 23, 50, 4, 20, 16, 39, 15, 35, 19, 46, 49, 32, 7, 5, 0, 17, 13, 60, 16, 2, 2, 36, 11, 2, 1, 8, 1, 0, 16, 18, 2, 25, 2, 42, 0, 3, 31, 8, 56, 11, 20, 21, 32, 14, 0, 26, 60, 1, 0, 10, 12, 32, 45, 2, 46, 0, 3, 0, 22, 2, 9, 9, 1, 0, 6, 2, 9, 55, 7, 5, 26, 1, 22, 17, 5, 16, 4, 42, 39, 41, 56, 32, 0, 29, 10, 4, 40, 4, 0, 20, 58, 28, 4, 29, 32, 4, 35, 2, 49, 0, 59, 18, 32, 18, 36, 52, 1, 60, 17, 4, 12, 12, 31, 4, 15, 0, 2, 26, 5, 20, 20, 5, 11, 2, 12, 46, 0, 2, 8, 12, 27, 0, 42, 0, 0, 24, 15, 29, 24, 12, 8, 51, 10, 4, 23, 2, 11, 21, 26, 5, 0, 37, 5, 0, 0, 22, 16, 29, 0, 3, 53, 15, 22, 55, 4, 4, 17, 28, 54, 30, 5, 30, 17, 6, 0, 46, 43, 4, 56, 38, 29, 56, 18, 43, 4, 59, 35, 2, 14, 31, 26, 0, 22, 40, 27, 22, 25, 49, 44, 33, 1, 21, 29, 35, 31, 29, 20, 46, 13, 49, 20, 43, 20, 2, 17, 50, 15, 0, 7, 0, 12, 55, 7, 2, 47, 20, 4, 18, 26, 54, 3, 21, 32, 4, 25, 55, 30, 53, 29, 23, 6, 0, 23, 43, 17, 4, 0, 51, 43, 12, 10, 38, 19, 43, 13, 51, 18, 47, 2, 49, 46, 19, 36, 9, 49, 46, 37, 9, 26, 25, 8, 46, 5, 49, 39, 17, 49, 36, 29, 0, 20, 15, 25, 20, 0, 24, 57, 2, 33, 32, 23, 32, 15, 32, 46, 25, 7, 44, 0, 48, 1, 52, 37, 33, 2, 40, 0, 16, 19, 41, 8, 36, 25, 25, 14, 0, 8, 6, 18, 14, 55, 38, 15, 25, 33, 21, 32, 29, 35, 56, 8, 25, 57, 4, 38, 25, 60, 29, 22, 53, 21, 2, 5, 8, 0, 8, 9, 14, 17, 60, 20, 50, 33, 44, 39, 46, 21, 7, 4, 9, 19, 4, 4, 52, 18, 54, 45, 57, 46, 16, 45, 44, 23, 60, 46, 0, 25, 53, 2, 0, 33, 31, 25, 32, 53, 25, 56, 28, 18, 14, 16, 45, 10, 40, 40, 55, 40, 24, 33, 5, 15, 57, 22, 58, 51, 11, 20, 59, 1, 23, 21, 9, 47, 6, 27, 12, 0, 21, 4, 29, 20, 23, 7, 30, 34, 2, 10, 0, 0, 4, 3, 5, 36, 18, 32, 1, 16, 25, 57, 2, 0, 8, 4, 4, 0, 10, 28, 18, 7, 19, 5, 44, 14, 5, 1, 0, 1, 21, 40, 15, 35, 0, 42, 8, 4, 17, 10, 25, 3, 7, 40, 21, 33, 0, 25, 6, 1, 41, 27, 13, 27, 15, 0, 20, 28, 7, 30, 53, 21, 60, 47, 28, 0, 28, 0, 27, 24, 47, 9, 15, 22, 8, 4, 6, 14, 21, 21, 3, 32, 18, 14, 14, 30, 28, 11, 34, 19, 21, 23, 0, 32, 22, 35, 4, 14, 22, 20, 33, 15, 4, 26, 42, 25, 22, 35, 30, 39, 26, 44, 23, 19, 17, 3, 28, 47, 33, 41, 23, 31, 49, 17, 23, 20, 58, 25, 24, 60, 41, 13, 52, 3, 1, 21, 46, 21, 18, 55, 28, 29, 31, 42, 31, 9, 20, 33, 0, 43, 8, 24, 31, 6, 24, 15, 45, 22, 29, 1, 39, 2, 57, 42, 53, 51, 21, 41, 41, 26, 17, 11, 27, 24, 15, 20, 34, 2, 3, 17, 44, 36, 25, 19, 25, 43, 27, 18, 40, 17, 57, 25, 13, 10, 19, 46, 33, 19, 40, 26, 46, 41, 45, 14, 12, 36, 45, 27, 5, 9, 13, 39, 30, 0, 15, 43, 20, 5, 4, 41, 15, 35, 0, 11, 29, 47, 15, 31, 21, 38, 32, 56, 21, 13, 45, 31, 50, 45, 19, 8, 24, 7, 44, 44, 43, 24, 11, 20, 27, 15, 53, 25, 4, 25, 35, 47, 30, 28, 41, 40, 1, 5, 2, 2, 17, 47, 30, 3, 60, 49, 42, 5, 40, 35, 27, 0, 53, 14, 5, 4, 11, 50, 32, 46, 27, 39, 14, 0, 28, 44, 32, 8, 50, 0, 31, 33, 9, 1, 58, 35, 14, 13, 16, 1, 31, 0, 9, 52, 14, 6, 3, 4, 23, 4, 4, 42, 48, 48, 24, 19, 23, 8, 36, 16, 25, 33, 39, 21, 46, 11, 7, 10, 21, 51, 2, 32, 22, 20, 19, 25, 57, 0, 60, 7, 53, 46, 18, 55, 4, 19, 24, 14, 35, 48, 44, 30, 40, 28, 21, 0, 18, 1, 31, 21, 18, 19, 29, 18, 23, 22, 18, 19, 18, 21, 19, 18, 17, 40, 22, 36, 25, 39, 17, 21, 18, 29, 22, 22, 17, 28, 20, 20, 20, 21, 17, 32, 22, 21, 19, 20, 26, 19, 19, 19, 52, 18, 17, 17, 22, 26, 31, 26, 25, 21, 18, 19, 22, 20, 36, 20, 19, 20, 0, 22, 10, 59, 42, 43, 16, 35, 59, 28, 29, 15, 26, 15, 33, 37, 26, 11, 46, 46, 46, 46, 40, 20, 45]}],\n",
              "                        {\"template\": {\"data\": {\"bar\": [{\"error_x\": {\"color\": \"#2a3f5f\"}, \"error_y\": {\"color\": \"#2a3f5f\"}, \"marker\": {\"line\": {\"color\": \"#E5ECF6\", \"width\": 0.5}}, \"type\": \"bar\"}], \"barpolar\": [{\"marker\": {\"line\": {\"color\": \"#E5ECF6\", \"width\": 0.5}}, \"type\": \"barpolar\"}], \"carpet\": [{\"aaxis\": {\"endlinecolor\": \"#2a3f5f\", \"gridcolor\": \"white\", \"linecolor\": \"white\", \"minorgridcolor\": \"white\", \"startlinecolor\": \"#2a3f5f\"}, \"baxis\": {\"endlinecolor\": \"#2a3f5f\", \"gridcolor\": \"white\", \"linecolor\": \"white\", \"minorgridcolor\": \"white\", \"startlinecolor\": \"#2a3f5f\"}, \"type\": \"carpet\"}], \"choropleth\": [{\"colorbar\": {\"outlinewidth\": 0, \"ticks\": \"\"}, \"type\": \"choropleth\"}], \"contour\": [{\"colorbar\": {\"outlinewidth\": 0, \"ticks\": \"\"}, \"colorscale\": [[0.0, \"#0d0887\"], [0.1111111111111111, \"#46039f\"], [0.2222222222222222, \"#7201a8\"], [0.3333333333333333, \"#9c179e\"], [0.4444444444444444, \"#bd3786\"], [0.5555555555555556, \"#d8576b\"], [0.6666666666666666, \"#ed7953\"], [0.7777777777777778, \"#fb9f3a\"], [0.8888888888888888, \"#fdca26\"], [1.0, \"#f0f921\"]], \"type\": \"contour\"}], \"contourcarpet\": [{\"colorbar\": {\"outlinewidth\": 0, \"ticks\": \"\"}, \"type\": \"contourcarpet\"}], \"heatmap\": [{\"colorbar\": {\"outlinewidth\": 0, \"ticks\": \"\"}, \"colorscale\": [[0.0, \"#0d0887\"], [0.1111111111111111, \"#46039f\"], [0.2222222222222222, \"#7201a8\"], [0.3333333333333333, \"#9c179e\"], [0.4444444444444444, \"#bd3786\"], [0.5555555555555556, \"#d8576b\"], [0.6666666666666666, \"#ed7953\"], [0.7777777777777778, \"#fb9f3a\"], [0.8888888888888888, \"#fdca26\"], [1.0, \"#f0f921\"]], \"type\": \"heatmap\"}], \"heatmapgl\": [{\"colorbar\": {\"outlinewidth\": 0, \"ticks\": \"\"}, \"colorscale\": [[0.0, \"#0d0887\"], [0.1111111111111111, \"#46039f\"], [0.2222222222222222, \"#7201a8\"], [0.3333333333333333, \"#9c179e\"], [0.4444444444444444, \"#bd3786\"], [0.5555555555555556, \"#d8576b\"], [0.6666666666666666, \"#ed7953\"], [0.7777777777777778, \"#fb9f3a\"], [0.8888888888888888, \"#fdca26\"], [1.0, \"#f0f921\"]], \"type\": \"heatmapgl\"}], \"histogram\": [{\"marker\": {\"colorbar\": {\"outlinewidth\": 0, \"ticks\": \"\"}}, \"type\": \"histogram\"}], \"histogram2d\": [{\"colorbar\": {\"outlinewidth\": 0, \"ticks\": \"\"}, \"colorscale\": [[0.0, \"#0d0887\"], [0.1111111111111111, \"#46039f\"], [0.2222222222222222, \"#7201a8\"], [0.3333333333333333, \"#9c179e\"], [0.4444444444444444, \"#bd3786\"], [0.5555555555555556, \"#d8576b\"], [0.6666666666666666, \"#ed7953\"], [0.7777777777777778, \"#fb9f3a\"], [0.8888888888888888, \"#fdca26\"], [1.0, \"#f0f921\"]], \"type\": \"histogram2d\"}], \"histogram2dcontour\": [{\"colorbar\": {\"outlinewidth\": 0, \"ticks\": \"\"}, \"colorscale\": [[0.0, \"#0d0887\"], [0.1111111111111111, \"#46039f\"], [0.2222222222222222, \"#7201a8\"], [0.3333333333333333, \"#9c179e\"], [0.4444444444444444, \"#bd3786\"], [0.5555555555555556, \"#d8576b\"], [0.6666666666666666, \"#ed7953\"], [0.7777777777777778, \"#fb9f3a\"], [0.8888888888888888, \"#fdca26\"], [1.0, \"#f0f921\"]], \"type\": \"histogram2dcontour\"}], \"mesh3d\": [{\"colorbar\": {\"outlinewidth\": 0, \"ticks\": \"\"}, \"type\": \"mesh3d\"}], \"parcoords\": [{\"line\": {\"colorbar\": {\"outlinewidth\": 0, \"ticks\": \"\"}}, \"type\": \"parcoords\"}], \"pie\": [{\"automargin\": true, \"type\": \"pie\"}], \"scatter\": [{\"marker\": {\"colorbar\": {\"outlinewidth\": 0, \"ticks\": \"\"}}, \"type\": \"scatter\"}], \"scatter3d\": [{\"line\": {\"colorbar\": {\"outlinewidth\": 0, \"ticks\": \"\"}}, \"marker\": {\"colorbar\": {\"outlinewidth\": 0, \"ticks\": \"\"}}, \"type\": \"scatter3d\"}], \"scattercarpet\": [{\"marker\": {\"colorbar\": {\"outlinewidth\": 0, \"ticks\": \"\"}}, \"type\": \"scattercarpet\"}], \"scattergeo\": [{\"marker\": {\"colorbar\": {\"outlinewidth\": 0, \"ticks\": \"\"}}, \"type\": \"scattergeo\"}], \"scattergl\": [{\"marker\": {\"colorbar\": {\"outlinewidth\": 0, \"ticks\": \"\"}}, \"type\": \"scattergl\"}], \"scattermapbox\": [{\"marker\": {\"colorbar\": {\"outlinewidth\": 0, \"ticks\": \"\"}}, \"type\": \"scattermapbox\"}], \"scatterpolar\": [{\"marker\": {\"colorbar\": {\"outlinewidth\": 0, \"ticks\": \"\"}}, \"type\": \"scatterpolar\"}], \"scatterpolargl\": [{\"marker\": {\"colorbar\": {\"outlinewidth\": 0, \"ticks\": \"\"}}, \"type\": \"scatterpolargl\"}], \"scatterternary\": [{\"marker\": {\"colorbar\": {\"outlinewidth\": 0, \"ticks\": \"\"}}, \"type\": \"scatterternary\"}], \"surface\": [{\"colorbar\": {\"outlinewidth\": 0, \"ticks\": \"\"}, \"colorscale\": [[0.0, \"#0d0887\"], [0.1111111111111111, \"#46039f\"], [0.2222222222222222, \"#7201a8\"], [0.3333333333333333, \"#9c179e\"], [0.4444444444444444, \"#bd3786\"], [0.5555555555555556, \"#d8576b\"], [0.6666666666666666, \"#ed7953\"], [0.7777777777777778, \"#fb9f3a\"], [0.8888888888888888, \"#fdca26\"], [1.0, \"#f0f921\"]], \"type\": \"surface\"}], \"table\": [{\"cells\": {\"fill\": {\"color\": \"#EBF0F8\"}, \"line\": {\"color\": \"white\"}}, \"header\": {\"fill\": {\"color\": \"#C8D4E3\"}, \"line\": {\"color\": \"white\"}}, \"type\": \"table\"}]}, \"layout\": {\"annotationdefaults\": {\"arrowcolor\": \"#2a3f5f\", \"arrowhead\": 0, \"arrowwidth\": 1}, \"coloraxis\": {\"colorbar\": {\"outlinewidth\": 0, \"ticks\": \"\"}}, \"colorscale\": {\"diverging\": [[0, \"#8e0152\"], [0.1, \"#c51b7d\"], [0.2, \"#de77ae\"], [0.3, \"#f1b6da\"], [0.4, \"#fde0ef\"], [0.5, \"#f7f7f7\"], [0.6, \"#e6f5d0\"], [0.7, \"#b8e186\"], [0.8, \"#7fbc41\"], [0.9, \"#4d9221\"], [1, \"#276419\"]], \"sequential\": [[0.0, \"#0d0887\"], [0.1111111111111111, \"#46039f\"], [0.2222222222222222, \"#7201a8\"], [0.3333333333333333, \"#9c179e\"], [0.4444444444444444, \"#bd3786\"], [0.5555555555555556, \"#d8576b\"], [0.6666666666666666, \"#ed7953\"], [0.7777777777777778, \"#fb9f3a\"], [0.8888888888888888, \"#fdca26\"], [1.0, \"#f0f921\"]], \"sequentialminus\": [[0.0, \"#0d0887\"], [0.1111111111111111, \"#46039f\"], [0.2222222222222222, \"#7201a8\"], [0.3333333333333333, \"#9c179e\"], [0.4444444444444444, \"#bd3786\"], [0.5555555555555556, \"#d8576b\"], [0.6666666666666666, \"#ed7953\"], [0.7777777777777778, \"#fb9f3a\"], [0.8888888888888888, \"#fdca26\"], [1.0, \"#f0f921\"]]}, \"colorway\": [\"#636efa\", \"#EF553B\", \"#00cc96\", \"#ab63fa\", \"#FFA15A\", \"#19d3f3\", \"#FF6692\", \"#B6E880\", \"#FF97FF\", \"#FECB52\"], \"font\": {\"color\": \"#2a3f5f\"}, \"geo\": {\"bgcolor\": \"white\", \"lakecolor\": \"white\", \"landcolor\": \"#E5ECF6\", \"showlakes\": true, \"showland\": true, \"subunitcolor\": \"white\"}, \"hoverlabel\": {\"align\": \"left\"}, \"hovermode\": \"closest\", \"mapbox\": {\"style\": \"light\"}, \"paper_bgcolor\": \"white\", \"plot_bgcolor\": \"#E5ECF6\", \"polar\": {\"angularaxis\": {\"gridcolor\": \"white\", \"linecolor\": \"white\", \"ticks\": \"\"}, \"bgcolor\": \"#E5ECF6\", \"radialaxis\": {\"gridcolor\": \"white\", \"linecolor\": \"white\", \"ticks\": \"\"}}, \"scene\": {\"xaxis\": {\"backgroundcolor\": \"#E5ECF6\", \"gridcolor\": \"white\", \"gridwidth\": 2, \"linecolor\": \"white\", \"showbackground\": true, \"ticks\": \"\", \"zerolinecolor\": \"white\"}, \"yaxis\": {\"backgroundcolor\": \"#E5ECF6\", \"gridcolor\": \"white\", \"gridwidth\": 2, \"linecolor\": \"white\", \"showbackground\": true, \"ticks\": \"\", \"zerolinecolor\": \"white\"}, \"zaxis\": {\"backgroundcolor\": \"#E5ECF6\", \"gridcolor\": \"white\", \"gridwidth\": 2, \"linecolor\": \"white\", \"showbackground\": true, \"ticks\": \"\", \"zerolinecolor\": \"white\"}}, \"shapedefaults\": {\"line\": {\"color\": \"#2a3f5f\"}}, \"ternary\": {\"aaxis\": {\"gridcolor\": \"white\", \"linecolor\": \"white\", \"ticks\": \"\"}, \"baxis\": {\"gridcolor\": \"white\", \"linecolor\": \"white\", \"ticks\": \"\"}, \"bgcolor\": \"#E5ECF6\", \"caxis\": {\"gridcolor\": \"white\", \"linecolor\": \"white\", \"ticks\": \"\"}}, \"title\": {\"x\": 0.05}, \"xaxis\": {\"automargin\": true, \"gridcolor\": \"white\", \"linecolor\": \"white\", \"ticks\": \"\", \"title\": {\"standoff\": 15}, \"zerolinecolor\": \"white\", \"zerolinewidth\": 2}, \"yaxis\": {\"automargin\": true, \"gridcolor\": \"white\", \"linecolor\": \"white\", \"ticks\": \"\", \"title\": {\"standoff\": 15}, \"zerolinecolor\": \"white\", \"zerolinewidth\": 2}}}, \"title\": {\"text\": \"Recency\"}},\n",
              "                        {\"responsive\": true}\n",
              "                    ).then(function(){\n",
              "                            \n",
              "var gd = document.getElementById('5c24546f-96ec-4b02-9b30-f2d7f2703c47');\n",
              "var x = new MutationObserver(function (mutations, observer) {{\n",
              "        var display = window.getComputedStyle(gd).display;\n",
              "        if (!display || display === 'none') {{\n",
              "            console.log([gd, 'removed!']);\n",
              "            Plotly.purge(gd);\n",
              "            observer.disconnect();\n",
              "        }}\n",
              "}});\n",
              "\n",
              "// Listen for the removal of the full notebook cells\n",
              "var notebookContainer = gd.closest('#notebook-container');\n",
              "if (notebookContainer) {{\n",
              "    x.observe(notebookContainer, {childList: true});\n",
              "}}\n",
              "\n",
              "// Listen for the clearing of the current output cell\n",
              "var outputEl = gd.closest('.output');\n",
              "if (outputEl) {{\n",
              "    x.observe(outputEl, {childList: true});\n",
              "}}\n",
              "\n",
              "                        })\n",
              "                };\n",
              "                \n",
              "            </script>\n",
              "        </div>\n",
              "</body>\n",
              "</html>"
            ]
          },
          "metadata": {
            "tags": []
          }
        }
      ]
    },
    {
      "cell_type": "code",
      "metadata": {
        "id": "dcUCe89jccB8",
        "colab": {
          "base_uri": "https://localhost:8080/",
          "height": 279
        },
        "outputId": "3f6c01f4-4242-43bd-8213-a6f8c3f649c3"
      },
      "source": [
        "sse={}\n",
        "tx_recency = data_user[['Recency']]\n",
        "for k in range(1, 10):\n",
        "    kmeans = KMeans(n_clusters=k, max_iter=1000).fit(tx_recency)\n",
        "    tx_recency[\"clusters\"] = kmeans.labels_\n",
        "    sse[k] = kmeans.inertia_ \n",
        "plt.figure()\n",
        "plt.plot(list(sse.keys()), list(sse.values()))\n",
        "plt.xlabel(\"Number of cluster\")\n",
        "plt.show()"
      ],
      "execution_count": null,
      "outputs": [
        {
          "output_type": "display_data",
          "data": {
            "image/png": "[encoded data removed]",
            "text/plain": [
              "<Figure size 432x288 with 1 Axes>"
            ]
          },
          "metadata": {
            "tags": []
          }
        }
      ]
    },
    {
      "cell_type": "code",
      "metadata": {
        "id": "TAgUkWZTc3Ni"
      },
      "source": [
        "kmeans = KMeans(n_clusters=4)\n",
        "kmeans.fit(data_user[['Recency']])\n",
        "data_user['RecencyCluster'] = kmeans.predict(data_user[['Recency']])"
      ],
      "execution_count": null,
      "outputs": []
    },
    {
      "cell_type": "code",
      "metadata": {
        "id": "sPwb0VtudAFp"
      },
      "source": [
        "def order_cluster(cluster_field_name, target_field_name,df,ascending):\n",
        "    new_cluster_field_name = 'new_' + cluster_field_name\n",
        "    df_new = df.groupby(cluster_field_name)[target_field_name].mean().reset_index()\n",
        "    df_new = df_new.sort_values(by=target_field_name,ascending=ascending).reset_index(drop=True)\n",
        "    df_new['index'] = df_new.index\n",
        "    df_final = pd.merge(df,df_new[[cluster_field_name,'index']], on=cluster_field_name)\n",
        "    df_final = df_final.drop([cluster_field_name],axis=1)\n",
        "    df_final = df_final.rename(columns={\"index\":cluster_field_name})\n",
        "    return df_final"
      ],
      "execution_count": null,
      "outputs": []
    },
    {
      "cell_type": "code",
      "metadata": {
        "id": "PH_2u4pcdD14"
      },
      "source": [
        "data_user = order_cluster('RecencyCluster', 'Recency',data_user,False)"
      ],
      "execution_count": null,
      "outputs": []
    },
    {
      "cell_type": "code",
      "metadata": {
        "id": "Fh6qNv0DdIsr",
        "colab": {
          "base_uri": "https://localhost:8080/",
          "height": 204
        },
        "outputId": "9f3d1733-c0af-499d-87dd-44743d657349"
      },
      "source": [
        "data_user.groupby('RecencyCluster')['Recency'].describe()"
      ],
      "execution_count": null,
      "outputs": [
        {
          "output_type": "execute_result",
          "data": {
            "text/html": [
              "<div>\n",
              "<style scoped>\n",
              "    .dataframe tbody tr th:only-of-type {\n",
              "        vertical-align: middle;\n",
              "    }\n",
              "\n",
              "    .dataframe tbody tr th {\n",
              "        vertical-align: top;\n",
              "    }\n",
              "\n",
              "    .dataframe thead th {\n",
              "        text-align: right;\n",
              "    }\n",
              "</style>\n",
              "<table border=\"1\" class=\"dataframe\">\n",
              "  <thead>\n",
              "    <tr style=\"text-align: right;\">\n",
              "      <th></th>\n",
              "      <th>count</th>\n",
              "      <th>mean</th>\n",
              "      <th>std</th>\n",
              "      <th>min</th>\n",
              "      <th>25%</th>\n",
              "      <th>50%</th>\n",
              "      <th>75%</th>\n",
              "      <th>max</th>\n",
              "    </tr>\n",
              "    <tr>\n",
              "      <th>RecencyCluster</th>\n",
              "      <th></th>\n",
              "      <th></th>\n",
              "      <th></th>\n",
              "      <th></th>\n",
              "      <th></th>\n",
              "      <th></th>\n",
              "      <th></th>\n",
              "      <th></th>\n",
              "    </tr>\n",
              "  </thead>\n",
              "  <tbody>\n",
              "    <tr>\n",
              "      <th>0</th>\n",
              "      <td>284.0</td>\n",
              "      <td>48.401408</td>\n",
              "      <td>5.980605</td>\n",
              "      <td>40.0</td>\n",
              "      <td>43.0</td>\n",
              "      <td>47.0</td>\n",
              "      <td>53.0</td>\n",
              "      <td>60.0</td>\n",
              "    </tr>\n",
              "    <tr>\n",
              "      <th>1</th>\n",
              "      <td>384.0</td>\n",
              "      <td>30.054688</td>\n",
              "      <td>4.623657</td>\n",
              "      <td>23.0</td>\n",
              "      <td>26.0</td>\n",
              "      <td>29.0</td>\n",
              "      <td>33.0</td>\n",
              "      <td>39.0</td>\n",
              "    </tr>\n",
              "    <tr>\n",
              "      <th>2</th>\n",
              "      <td>572.0</td>\n",
              "      <td>15.171329</td>\n",
              "      <td>4.149401</td>\n",
              "      <td>9.0</td>\n",
              "      <td>11.0</td>\n",
              "      <td>15.0</td>\n",
              "      <td>19.0</td>\n",
              "      <td>22.0</td>\n",
              "    </tr>\n",
              "    <tr>\n",
              "      <th>3</th>\n",
              "      <td>704.0</td>\n",
              "      <td>2.714489</td>\n",
              "      <td>2.465008</td>\n",
              "      <td>0.0</td>\n",
              "      <td>0.0</td>\n",
              "      <td>2.0</td>\n",
              "      <td>4.0</td>\n",
              "      <td>8.0</td>\n",
              "    </tr>\n",
              "  </tbody>\n",
              "</table>\n",
              "</div>"
            ],
            "text/plain": [
              "                count       mean       std   min   25%   50%   75%   max\n",
              "RecencyCluster                                                          \n",
              "0               284.0  48.401408  5.980605  40.0  43.0  47.0  53.0  60.0\n",
              "1               384.0  30.054688  4.623657  23.0  26.0  29.0  33.0  39.0\n",
              "2               572.0  15.171329  4.149401   9.0  11.0  15.0  19.0  22.0\n",
              "3               704.0   2.714489  2.465008   0.0   0.0   2.0   4.0   8.0"
            ]
          },
          "metadata": {
            "tags": []
          },
          "execution_count": 183
        }
      ]
    },
    {
      "cell_type": "code",
      "metadata": {
        "id": "Ix-Uev_EdNaW"
      },
      "source": [
        "#frequency\n",
        "data_frequency = data_2m.groupby('acc').date.count().reset_index()"
      ],
      "execution_count": null,
      "outputs": []
    },
    {
      "cell_type": "code",
      "metadata": {
        "id": "kW8rXvCZddsu"
      },
      "source": [
        "data_frequency.columns = ['acc','Frequency']"
      ],
      "execution_count": null,
      "outputs": []
    },
    {
      "cell_type": "code",
      "metadata": {
        "id": "p0C0YFzIdju2",
        "colab": {
          "base_uri": "https://localhost:8080/",
          "height": 204
        },
        "outputId": "9834419a-f8dd-4929-c97c-e4004a553908"
      },
      "source": [
        "data_frequency.head()"
      ],
      "execution_count": null,
      "outputs": [
        {
          "output_type": "execute_result",
          "data": {
            "text/html": [
              "<div>\n",
              "<style scoped>\n",
              "    .dataframe tbody tr th:only-of-type {\n",
              "        vertical-align: middle;\n",
              "    }\n",
              "\n",
              "    .dataframe tbody tr th {\n",
              "        vertical-align: top;\n",
              "    }\n",
              "\n",
              "    .dataframe thead th {\n",
              "        text-align: right;\n",
              "    }\n",
              "</style>\n",
              "<table border=\"1\" class=\"dataframe\">\n",
              "  <thead>\n",
              "    <tr style=\"text-align: right;\">\n",
              "      <th></th>\n",
              "      <th>acc</th>\n",
              "      <th>Frequency</th>\n",
              "    </tr>\n",
              "  </thead>\n",
              "  <tbody>\n",
              "    <tr>\n",
              "      <th>0</th>\n",
              "      <td>256000000000</td>\n",
              "      <td>202</td>\n",
              "    </tr>\n",
              "    <tr>\n",
              "      <th>1</th>\n",
              "      <td>256312290313</td>\n",
              "      <td>366</td>\n",
              "    </tr>\n",
              "    <tr>\n",
              "      <th>2</th>\n",
              "      <td>256393100610</td>\n",
              "      <td>33</td>\n",
              "    </tr>\n",
              "    <tr>\n",
              "      <th>3</th>\n",
              "      <td>256393216521</td>\n",
              "      <td>88</td>\n",
              "    </tr>\n",
              "    <tr>\n",
              "      <th>4</th>\n",
              "      <td>256700117509</td>\n",
              "      <td>3</td>\n",
              "    </tr>\n",
              "  </tbody>\n",
              "</table>\n",
              "</div>"
            ],
            "text/plain": [
              "            acc  Frequency\n",
              "0  256000000000        202\n",
              "1  256312290313        366\n",
              "2  256393100610         33\n",
              "3  256393216521         88\n",
              "4  256700117509          3"
            ]
          },
          "metadata": {
            "tags": []
          },
          "execution_count": 186
        }
      ]
    },
    {
      "cell_type": "code",
      "metadata": {
        "id": "OQrIuzm8dof_"
      },
      "source": [
        "data_user = pd.merge(data_user, data_frequency, on='acc')"
      ],
      "execution_count": null,
      "outputs": []
    },
    {
      "cell_type": "code",
      "metadata": {
        "id": "ymjMbMvrdwnk",
        "colab": {
          "base_uri": "https://localhost:8080/",
          "height": 204
        },
        "outputId": "b95faba8-03aa-43b8-a81e-9fa3273f4bc3"
      },
      "source": [
        "data_user.head()"
      ],
      "execution_count": null,
      "outputs": [
        {
          "output_type": "execute_result",
          "data": {
            "text/html": [
              "<div>\n",
              "<style scoped>\n",
              "    .dataframe tbody tr th:only-of-type {\n",
              "        vertical-align: middle;\n",
              "    }\n",
              "\n",
              "    .dataframe tbody tr th {\n",
              "        vertical-align: top;\n",
              "    }\n",
              "\n",
              "    .dataframe thead th {\n",
              "        text-align: right;\n",
              "    }\n",
              "</style>\n",
              "<table border=\"1\" class=\"dataframe\">\n",
              "  <thead>\n",
              "    <tr style=\"text-align: right;\">\n",
              "      <th></th>\n",
              "      <th>acc</th>\n",
              "      <th>NextPurchaseDay</th>\n",
              "      <th>Recency</th>\n",
              "      <th>RecencyCluster</th>\n",
              "      <th>Frequency</th>\n",
              "    </tr>\n",
              "  </thead>\n",
              "  <tbody>\n",
              "    <tr>\n",
              "      <th>0</th>\n",
              "      <td>256787571627</td>\n",
              "      <td>999.0</td>\n",
              "      <td>18</td>\n",
              "      <td>2</td>\n",
              "      <td>2</td>\n",
              "    </tr>\n",
              "    <tr>\n",
              "      <th>1</th>\n",
              "      <td>256704005298</td>\n",
              "      <td>12.0</td>\n",
              "      <td>10</td>\n",
              "      <td>2</td>\n",
              "      <td>9</td>\n",
              "    </tr>\n",
              "    <tr>\n",
              "      <th>2</th>\n",
              "      <td>256312290313</td>\n",
              "      <td>17.0</td>\n",
              "      <td>11</td>\n",
              "      <td>2</td>\n",
              "      <td>366</td>\n",
              "    </tr>\n",
              "    <tr>\n",
              "      <th>3</th>\n",
              "      <td>256775875248</td>\n",
              "      <td>14.0</td>\n",
              "      <td>13</td>\n",
              "      <td>2</td>\n",
              "      <td>8</td>\n",
              "    </tr>\n",
              "    <tr>\n",
              "      <th>4</th>\n",
              "      <td>256702433638</td>\n",
              "      <td>12.0</td>\n",
              "      <td>10</td>\n",
              "      <td>2</td>\n",
              "      <td>15</td>\n",
              "    </tr>\n",
              "  </tbody>\n",
              "</table>\n",
              "</div>"
            ],
            "text/plain": [
              "            acc  NextPurchaseDay  Recency  RecencyCluster  Frequency\n",
              "0  256787571627            999.0       18               2          2\n",
              "1  256704005298             12.0       10               2          9\n",
              "2  256312290313             17.0       11               2        366\n",
              "3  256775875248             14.0       13               2          8\n",
              "4  256702433638             12.0       10               2         15"
            ]
          },
          "metadata": {
            "tags": []
          },
          "execution_count": 188
        }
      ]
    },
    {
      "cell_type": "code",
      "metadata": {
        "id": "25ga2yhpd1uP",
        "colab": {
          "base_uri": "https://localhost:8080/",
          "height": 170
        },
        "outputId": "cdf8721f-13cd-4392-b0e5-ae7290a051cf"
      },
      "source": [
        "data_user.Frequency.describe()"
      ],
      "execution_count": null,
      "outputs": [
        {
          "output_type": "execute_result",
          "data": {
            "text/plain": [
              "count    1944.000000\n",
              "mean       18.973765\n",
              "std       101.551144\n",
              "min         1.000000\n",
              "25%         2.000000\n",
              "50%         6.000000\n",
              "75%        16.000000\n",
              "max      2242.000000\n",
              "Name: Frequency, dtype: float64"
            ]
          },
          "metadata": {
            "tags": []
          },
          "execution_count": 189
        }
      ]
    },
    {
      "cell_type": "code",
      "metadata": {
        "id": "odUNnJDweCT4",
        "colab": {
          "base_uri": "https://localhost:8080/",
          "height": 542
        },
        "outputId": "adbf2be3-d1d1-4af3-ae8a-9069079d7209"
      },
      "source": [
        "plot_data = [\n",
        "    go.Histogram(\n",
        "        x=data_user.query('Frequency < 1000')['Frequency']\n",
        "    )\n",
        "]\n",
        "\n",
        "plot_layout = go.Layout(\n",
        "        title='Frequency'\n",
        "    )\n",
        "fig = go.Figure(data=plot_data, layout=plot_layout)\n",
        "pyoff.iplot(fig)"
      ],
      "execution_count": null,
      "outputs": [
        {
          "output_type": "display_data",
          "data": {
            "text/html": [
              "<html>\n",
              "<head><meta charset=\"utf-8\" /></head>\n",
              "<body>\n",
              "    <div>\n",
              "            <script src=\"https://cdnjs.cloudflare.com/ajax/libs/mathjax/2.7.5/MathJax.js?config=TeX-AMS-MML_SVG\"></script><script type=\"text/javascript\">if (window.MathJax) {MathJax.Hub.Config({SVG: {font: \"STIX-Web\"}});}</script>\n",
              "                <script type=\"text/javascript\">window.PlotlyConfig = {MathJaxConfig: 'local'};</script>\n",
              "        <script src=\"https://cdn.plot.ly/plotly-latest.min.js\"></script>    \n",
              "            <div id=\"6e7adec7-7180-4415-bd04-dcd7f9ded668\" class=\"plotly-graph-div\" style=\"height:525px; width:100%;\"></div>\n",
              "            <script type=\"text/javascript\">\n",
              "                \n",
              "                    window.PLOTLYENV=window.PLOTLYENV || {};\n",
              "                    \n",
              "                if (document.getElementById(\"6e7adec7-7180-4415-bd04-dcd7f9ded668\")) {\n",
              "                    Plotly.newPlot(\n",
              "                        '6e7adec7-7180-4415-bd04-dcd7f9ded668',\n",
              "                        [{\"type\": \"histogram\", \"x\": [2, 9, 366, 8, 15, 14, 13, 11, 18, 14, 5, 12, 14, 14, 468, 15, 16, 7, 15, 12, 152, 22, 16, 33, 13, 15, 3, 8, 14, 16, 7, 22, 14, 15, 15, 18, 18, 13, 14, 11, 14, 29, 2, 15, 12, 12, 64, 10, 15, 11, 19, 64, 15, 16, 17, 14, 15, 18, 32, 266, 16, 119, 18, 8, 14, 15, 20, 28, 7, 17, 18, 13, 9, 43, 23, 13, 13, 15, 13, 18, 22, 14, 12, 18, 23, 17, 16, 15, 6, 3, 89, 20, 16, 14, 13, 13, 12, 16, 7, 33, 121, 9, 14, 5, 18, 10, 10, 18, 14, 5, 40, 8, 1, 2, 15, 50, 16, 13, 16, 14, 6, 17, 14, 11, 6, 2, 14, 14, 14, 2, 13, 16, 18, 11, 36, 6, 17, 25, 19, 15, 4, 4, 11, 20, 6, 15, 11, 4, 11, 4, 9, 9, 20, 13, 6, 8, 2, 22, 43, 7, 11, 1, 57, 13, 7, 3, 5, 1, 3, 4, 3, 11, 17, 5, 4, 38, 39, 5, 1, 3, 47, 18, 3, 1, 12, 17, 5, 11, 7, 45, 3, 2, 17, 6, 1, 18, 52, 13, 5, 3, 4, 5, 17, 3, 1, 4, 15, 10, 2, 16, 4, 5, 8, 3, 3, 17, 9, 6, 8, 5, 13, 7, 5, 4, 6, 27, 11, 6, 4, 10, 2, 5, 9, 1, 1, 6, 26, 5, 9, 1, 3, 7, 16, 5, 23, 5, 6, 2, 4, 8, 6, 1, 15, 25, 1, 1, 7, 8, 17, 4, 3, 18, 9, 1, 23, 15, 1, 3, 6, 25, 1, 1, 1, 10, 4, 4, 5, 6, 10, 3, 5, 17, 6, 13, 12, 3, 13, 19, 6, 15, 14, 6, 8, 3, 6, 35, 2, 8, 35, 22, 29, 1, 2, 30, 18, 3, 9, 1, 8, 15, 2, 8, 7, 25, 20, 9, 2, 7, 18, 4, 6, 6, 1, 4, 6, 9, 4, 18, 10, 9, 5, 1, 3, 7, 7, 1, 7, 17, 2, 20, 5, 2, 21, 10, 2, 15, 10, 19, 2, 5, 3, 6, 3, 1, 6, 6, 8, 4, 2, 4, 3, 1, 6, 10, 2, 2, 3, 3, 6, 3, 2, 8, 4, 4, 13, 36, 1, 9, 4, 7, 1, 40, 4, 1, 3, 2, 3, 2, 2, 12, 7, 8, 6, 2, 6, 2, 5, 4, 6, 3, 3, 2, 3, 2, 1, 10, 2, 1, 2, 2, 5, 4, 3, 3, 1, 2, 2, 4, 1, 1, 1, 2, 1, 21, 12, 11, 13, 16, 3, 6, 2, 9, 3, 8, 1, 16, 2, 1, 5, 4, 1, 4, 7, 1, 14, 1, 4, 5, 5, 11, 2, 4, 4, 1, 4, 6, 2, 3, 3, 2, 1, 2, 6, 1, 1, 13, 7, 4, 1, 2, 10, 9, 2, 4, 2, 3, 3, 2, 9, 4, 1, 8, 1, 3, 1, 3, 2, 1, 4, 963, 1, 4, 1, 1, 2, 7, 1, 1, 5, 14, 2, 12, 3, 6, 4, 3, 1, 1, 1, 1, 1, 3, 1, 1, 1, 3, 2, 2, 1, 2, 1, 1, 1, 1, 1, 2, 3, 1, 1, 1, 1, 2, 1, 1, 1, 4, 1, 1, 3, 1, 1, 1, 2, 1, 1, 1, 1, 1, 1, 1, 1, 1, 1, 1, 2, 1, 1, 1, 1, 1, 1, 1, 1, 1, 1, 1, 2, 1, 17, 1, 1, 1, 2, 8, 2, 6, 9, 2, 37, 4, 1, 9, 1, 7, 4, 2, 15, 13, 2, 12, 6, 15, 1, 2, 4, 16, 7, 2, 1, 1, 2, 5, 7, 1, 5, 4, 1, 2, 7, 1, 4, 10, 5, 1, 4, 8, 1, 3, 3, 21, 30, 5, 17, 3, 1, 4, 3, 2, 1, 1, 1, 1, 2, 2, 2, 1, 2, 2, 3, 1, 1, 2, 1, 1, 5, 8, 1, 5, 1, 2, 6, 1, 18, 3, 2, 6, 1, 13, 10, 2, 4, 4, 3, 2, 1, 18, 15, 1, 2, 2, 2, 2, 18, 1, 3, 8, 2, 1, 1, 12, 2, 4, 2, 4, 3, 1, 4, 2, 4, 1, 6, 6, 2, 4, 1, 2, 6, 2, 1, 6, 2, 2, 2, 1, 3, 1, 2, 2, 4, 1, 1, 3, 5, 4, 1, 5, 5, 4, 1, 2, 3, 1, 1, 3, 2, 1, 3, 4, 7, 3, 2, 1, 2, 2, 2, 1, 2, 2, 1, 1, 1, 1, 5, 4, 1, 1, 2, 2, 1, 2, 1, 1, 4, 1, 1, 5, 5, 6, 2, 1, 1, 1, 2, 2, 2, 4, 7, 1, 2, 2, 4, 6, 2, 2, 1, 1, 1, 9, 2, 3, 2, 2, 5, 2, 2, 2, 1, 2, 1, 1, 2, 7, 2, 2, 1, 2, 2, 3, 2, 2, 1, 1, 2, 1, 1, 1, 1, 2, 1, 1, 1, 1, 1, 1, 1, 1, 1, 1, 1, 5, 1, 1, 1, 1, 4, 10, 2, 3, 7, 3, 2, 1, 1, 1, 3, 1, 1, 1, 1, 1, 1, 1, 1, 1, 1, 1, 1, 1, 1, 1, 1, 1, 1, 1, 1, 1, 46, 17, 711, 27, 184, 13, 21, 6, 21, 55, 49, 21, 125, 35, 18, 25, 20, 33, 14, 102, 23, 13, 19, 170, 15, 17, 23, 17, 10, 28, 14, 27, 6, 14, 27, 15, 22, 27, 18, 22, 16, 30, 35, 77, 69, 146, 22, 51, 27, 18, 76, 25, 60, 27, 220, 20, 31, 73, 32, 21, 32, 18, 24, 38, 3, 23, 7, 17, 19, 24, 26, 7, 24, 19, 5, 19, 17, 38, 5, 21, 53, 28, 378, 103, 8, 22, 26, 25, 21, 25, 26, 20, 57, 18, 15, 20, 310, 20, 8, 15, 13, 50, 22, 45, 3, 18, 32, 17, 18, 104, 25, 25, 21, 71, 24, 72, 16, 82, 4, 13, 27, 2, 54, 67, 63, 44, 29, 99, 7, 26, 25, 53, 5, 202, 28, 20, 5, 10, 22, 21, 34, 32, 7, 7, 26, 22, 80, 16, 20, 6, 45, 19, 6, 39, 26, 37, 21, 13, 18, 149, 17, 9, 15, 18, 24, 56, 15, 29, 17, 24, 17, 18, 27, 27, 19, 28, 30, 50, 55, 18, 15, 8, 19, 3, 9, 20, 19, 13, 7, 19, 36, 51, 20, 22, 4, 2, 14, 22, 3, 33, 11, 17, 28, 21, 14, 27, 12, 17, 19, 19, 53, 23, 37, 13, 25, 19, 5, 14, 39, 16, 14, 24, 25, 7, 20, 21, 46, 136, 16, 19, 26, 10, 10, 28, 115, 19, 258, 16, 24, 19, 22, 18, 18, 99, 26, 20, 41, 35, 18, 6, 36, 4, 19, 7, 13, 24, 7, 15, 41, 24, 2, 10, 31, 1, 7, 10, 8, 10, 18, 19, 10, 23, 4, 33, 11, 14, 13, 3, 10, 20, 18, 28, 35, 8, 49, 16, 38, 23, 13, 14, 11, 6, 48, 3, 18, 7, 7, 18, 41, 2, 17, 3, 53, 29, 10, 7, 36, 21, 16, 27, 7, 26, 11, 8, 10, 19, 13, 106, 16, 13, 23, 36, 6, 22, 9, 14, 3, 20, 41, 1, 19, 13, 16, 12, 35, 238, 6, 43, 3, 11, 38, 34, 7, 16, 8, 2, 20, 8, 1, 39, 5, 11, 2, 3, 3, 32, 52, 15, 54, 10, 6, 2, 45, 6, 21, 13, 11, 5, 10, 29, 8, 10, 4, 7, 15, 10, 25, 32, 26, 18, 40, 22, 31, 4, 52, 29, 2, 5, 2, 6, 8, 4, 9, 20, 28, 6, 39, 3, 75, 10, 6, 5, 8, 5, 20, 12, 32, 17, 11, 5, 165, 14, 4, 6, 17, 4, 18, 4, 4, 39, 3, 25, 4, 20, 5, 20, 35, 8, 5, 20, 52, 13, 5, 33, 2, 8, 21, 11, 45, 5, 23, 5, 21, 33, 43, 7, 48, 16, 16, 19, 1, 13, 31, 51, 19, 4, 19, 35, 13, 4, 24, 22, 10, 3, 36, 18, 40, 10, 12, 7, 5, 11, 15, 19, 11, 32, 8, 12, 35, 6, 15, 10, 29, 21, 26, 10, 18, 28, 4, 20, 12, 21, 5, 4, 8, 3, 11, 16, 16, 11, 7, 2, 17, 13, 44, 5, 3, 17, 17, 16, 8, 12, 6, 20, 9, 52, 22, 6, 18, 4, 4, 10, 35, 4, 9, 7, 25, 23, 28, 19, 7, 3, 9, 27, 10, 8, 12, 34, 5, 39, 9, 17, 2, 3, 9, 11, 8, 2, 4, 4, 7, 3, 9, 4, 3, 8, 3, 9, 7, 5, 12, 35, 12, 20, 5, 10, 3, 4, 13, 19, 2, 2, 16, 18, 1, 3, 7, 3, 4, 12, 23, 3, 9, 3, 10, 3, 6, 5, 1, 3, 2, 4, 1, 20, 4, 1, 22, 3, 16, 1, 12, 3, 3, 1, 6, 7, 8, 1, 240, 3, 4, 4, 1, 12, 3, 8, 18, 2, 46, 5, 4, 498, 63, 158, 9, 2, 4, 15, 6, 35, 3, 14, 3, 17, 4, 10, 7, 17, 4, 4, 12, 18, 5, 13, 28, 14, 2, 15, 11, 6, 5, 2, 8, 6, 7, 8, 22, 2, 2, 2, 12, 71, 1, 1, 1, 8, 24, 5, 3, 3, 2, 8, 13, 12, 1, 2, 2, 20, 2, 2, 32, 8, 33, 11, 1, 12, 6, 2, 8, 2, 2, 5, 2, 3, 5, 2, 1, 30, 1, 1, 3, 13, 5, 18, 186, 1, 88, 13, 30, 30, 1, 6, 11, 10, 15, 32, 4, 7, 11, 4, 5, 6, 6, 3, 8, 18, 1, 14, 3, 7, 6, 27, 16, 6, 12, 1, 2, 1, 24, 4, 8, 2, 8, 25, 8, 27, 3, 3, 1, 4, 17, 1, 7, 20, 18, 2, 10, 2, 9, 2, 16, 2, 20, 2, 13, 14, 51, 7, 2, 1, 2, 5, 11, 1, 2, 1, 14, 5, 90, 8, 1, 3, 4, 5, 1, 1, 17, 8, 3, 5, 1, 1, 19, 2, 5, 12, 3, 36, 4, 4, 28, 3, 2, 3, 3, 13, 11, 7, 5, 133, 3, 6, 1, 1, 1, 10, 14, 6, 10, 2, 1, 3, 6, 2, 2, 3, 1, 1, 1, 11, 2, 14, 3, 10, 5, 17, 2, 20, 9, 10, 5, 9, 7, 1, 3, 1, 4, 3, 5, 4, 3, 2, 20, 9, 7, 5, 5, 2, 2, 14, 5, 6, 8, 4, 2, 3, 5, 4, 9, 2, 5, 6, 1, 2, 17, 6, 6, 3, 5, 8, 6, 7, 11, 2, 6, 3, 3, 1, 2, 7, 2, 5, 1, 3, 9, 2, 3, 1, 6, 2, 2, 1, 3, 3, 2, 6, 2, 2, 6, 8, 4, 4, 4, 12, 4, 2, 1, 3, 7, 10, 2, 3, 2, 2, 2, 6, 1, 7, 8, 2, 1, 2, 2, 3, 2, 1, 2, 1, 2, 1, 10, 1, 2, 1, 1, 1, 4, 4, 1, 2, 32, 10, 4, 1, 2, 7, 1, 2, 19, 2, 1, 6, 1, 4, 3, 5, 8, 2, 1, 3, 1, 1, 8, 2, 4, 2, 2, 1, 1, 4, 8, 1, 3, 2, 3, 6, 1, 1, 12, 3, 2, 4, 1, 2, 1, 2, 1, 1, 2, 1, 1, 2, 4, 3, 6, 3, 2, 1, 11, 1, 3, 2, 1, 1, 1, 2, 5, 1, 1, 1, 1, 3, 3, 1, 1, 3, 2, 3, 1, 6, 2, 2, 1, 1, 2, 1, 2, 2, 2, 4, 3, 6, 2, 10, 1, 3, 1, 4, 3, 2, 5, 3, 2, 1, 2, 1, 1, 1, 2, 1, 1, 2, 1, 1, 2, 1, 1, 1, 1, 1, 1, 1, 1, 1, 1, 1, 1, 1, 23, 1, 1, 2, 5]}],\n",
              "                        {\"template\": {\"data\": {\"bar\": [{\"error_x\": {\"color\": \"#2a3f5f\"}, \"error_y\": {\"color\": \"#2a3f5f\"}, \"marker\": {\"line\": {\"color\": \"#E5ECF6\", \"width\": 0.5}}, \"type\": \"bar\"}], \"barpolar\": [{\"marker\": {\"line\": {\"color\": \"#E5ECF6\", \"width\": 0.5}}, \"type\": \"barpolar\"}], \"carpet\": [{\"aaxis\": {\"endlinecolor\": \"#2a3f5f\", \"gridcolor\": \"white\", \"linecolor\": \"white\", \"minorgridcolor\": \"white\", \"startlinecolor\": \"#2a3f5f\"}, \"baxis\": {\"endlinecolor\": \"#2a3f5f\", \"gridcolor\": \"white\", \"linecolor\": \"white\", \"minorgridcolor\": \"white\", \"startlinecolor\": \"#2a3f5f\"}, \"type\": \"carpet\"}], \"choropleth\": [{\"colorbar\": {\"outlinewidth\": 0, \"ticks\": \"\"}, \"type\": \"choropleth\"}], \"contour\": [{\"colorbar\": {\"outlinewidth\": 0, \"ticks\": \"\"}, \"colorscale\": [[0.0, \"#0d0887\"], [0.1111111111111111, \"#46039f\"], [0.2222222222222222, \"#7201a8\"], [0.3333333333333333, \"#9c179e\"], [0.4444444444444444, \"#bd3786\"], [0.5555555555555556, \"#d8576b\"], [0.6666666666666666, \"#ed7953\"], [0.7777777777777778, \"#fb9f3a\"], [0.8888888888888888, \"#fdca26\"], [1.0, \"#f0f921\"]], \"type\": \"contour\"}], \"contourcarpet\": [{\"colorbar\": {\"outlinewidth\": 0, \"ticks\": \"\"}, \"type\": \"contourcarpet\"}], \"heatmap\": [{\"colorbar\": {\"outlinewidth\": 0, \"ticks\": \"\"}, \"colorscale\": [[0.0, \"#0d0887\"], [0.1111111111111111, \"#46039f\"], [0.2222222222222222, \"#7201a8\"], [0.3333333333333333, \"#9c179e\"], [0.4444444444444444, \"#bd3786\"], [0.5555555555555556, \"#d8576b\"], [0.6666666666666666, \"#ed7953\"], [0.7777777777777778, \"#fb9f3a\"], [0.8888888888888888, \"#fdca26\"], [1.0, \"#f0f921\"]], \"type\": \"heatmap\"}], \"heatmapgl\": [{\"colorbar\": {\"outlinewidth\": 0, \"ticks\": \"\"}, \"colorscale\": [[0.0, \"#0d0887\"], [0.1111111111111111, \"#46039f\"], [0.2222222222222222, \"#7201a8\"], [0.3333333333333333, \"#9c179e\"], [0.4444444444444444, \"#bd3786\"], [0.5555555555555556, \"#d8576b\"], [0.6666666666666666, \"#ed7953\"], [0.7777777777777778, \"#fb9f3a\"], [0.8888888888888888, \"#fdca26\"], [1.0, \"#f0f921\"]], \"type\": \"heatmapgl\"}], \"histogram\": [{\"marker\": {\"colorbar\": {\"outlinewidth\": 0, \"ticks\": \"\"}}, \"type\": \"histogram\"}], \"histogram2d\": [{\"colorbar\": {\"outlinewidth\": 0, \"ticks\": \"\"}, \"colorscale\": [[0.0, \"#0d0887\"], [0.1111111111111111, \"#46039f\"], [0.2222222222222222, \"#7201a8\"], [0.3333333333333333, \"#9c179e\"], [0.4444444444444444, \"#bd3786\"], [0.5555555555555556, \"#d8576b\"], [0.6666666666666666, \"#ed7953\"], [0.7777777777777778, \"#fb9f3a\"], [0.8888888888888888, \"#fdca26\"], [1.0, \"#f0f921\"]], \"type\": \"histogram2d\"}], \"histogram2dcontour\": [{\"colorbar\": {\"outlinewidth\": 0, \"ticks\": \"\"}, \"colorscale\": [[0.0, \"#0d0887\"], [0.1111111111111111, \"#46039f\"], [0.2222222222222222, \"#7201a8\"], [0.3333333333333333, \"#9c179e\"], [0.4444444444444444, \"#bd3786\"], [0.5555555555555556, \"#d8576b\"], [0.6666666666666666, \"#ed7953\"], [0.7777777777777778, \"#fb9f3a\"], [0.8888888888888888, \"#fdca26\"], [1.0, \"#f0f921\"]], \"type\": \"histogram2dcontour\"}], \"mesh3d\": [{\"colorbar\": {\"outlinewidth\": 0, \"ticks\": \"\"}, \"type\": \"mesh3d\"}], \"parcoords\": [{\"line\": {\"colorbar\": {\"outlinewidth\": 0, \"ticks\": \"\"}}, \"type\": \"parcoords\"}], \"pie\": [{\"automargin\": true, \"type\": \"pie\"}], \"scatter\": [{\"marker\": {\"colorbar\": {\"outlinewidth\": 0, \"ticks\": \"\"}}, \"type\": \"scatter\"}], \"scatter3d\": [{\"line\": {\"colorbar\": {\"outlinewidth\": 0, \"ticks\": \"\"}}, \"marker\": {\"colorbar\": {\"outlinewidth\": 0, \"ticks\": \"\"}}, \"type\": \"scatter3d\"}], \"scattercarpet\": [{\"marker\": {\"colorbar\": {\"outlinewidth\": 0, \"ticks\": \"\"}}, \"type\": \"scattercarpet\"}], \"scattergeo\": [{\"marker\": {\"colorbar\": {\"outlinewidth\": 0, \"ticks\": \"\"}}, \"type\": \"scattergeo\"}], \"scattergl\": [{\"marker\": {\"colorbar\": {\"outlinewidth\": 0, \"ticks\": \"\"}}, \"type\": \"scattergl\"}], \"scattermapbox\": [{\"marker\": {\"colorbar\": {\"outlinewidth\": 0, \"ticks\": \"\"}}, \"type\": \"scattermapbox\"}], \"scatterpolar\": [{\"marker\": {\"colorbar\": {\"outlinewidth\": 0, \"ticks\": \"\"}}, \"type\": \"scatterpolar\"}], \"scatterpolargl\": [{\"marker\": {\"colorbar\": {\"outlinewidth\": 0, \"ticks\": \"\"}}, \"type\": \"scatterpolargl\"}], \"scatterternary\": [{\"marker\": {\"colorbar\": {\"outlinewidth\": 0, \"ticks\": \"\"}}, \"type\": \"scatterternary\"}], \"surface\": [{\"colorbar\": {\"outlinewidth\": 0, \"ticks\": \"\"}, \"colorscale\": [[0.0, \"#0d0887\"], [0.1111111111111111, \"#46039f\"], [0.2222222222222222, \"#7201a8\"], [0.3333333333333333, \"#9c179e\"], [0.4444444444444444, \"#bd3786\"], [0.5555555555555556, \"#d8576b\"], [0.6666666666666666, \"#ed7953\"], [0.7777777777777778, \"#fb9f3a\"], [0.8888888888888888, \"#fdca26\"], [1.0, \"#f0f921\"]], \"type\": \"surface\"}], \"table\": [{\"cells\": {\"fill\": {\"color\": \"#EBF0F8\"}, \"line\": {\"color\": \"white\"}}, \"header\": {\"fill\": {\"color\": \"#C8D4E3\"}, \"line\": {\"color\": \"white\"}}, \"type\": \"table\"}]}, \"layout\": {\"annotationdefaults\": {\"arrowcolor\": \"#2a3f5f\", \"arrowhead\": 0, \"arrowwidth\": 1}, \"coloraxis\": {\"colorbar\": {\"outlinewidth\": 0, \"ticks\": \"\"}}, \"colorscale\": {\"diverging\": [[0, \"#8e0152\"], [0.1, \"#c51b7d\"], [0.2, \"#de77ae\"], [0.3, \"#f1b6da\"], [0.4, \"#fde0ef\"], [0.5, \"#f7f7f7\"], [0.6, \"#e6f5d0\"], [0.7, \"#b8e186\"], [0.8, \"#7fbc41\"], [0.9, \"#4d9221\"], [1, \"#276419\"]], \"sequential\": [[0.0, \"#0d0887\"], [0.1111111111111111, \"#46039f\"], [0.2222222222222222, \"#7201a8\"], [0.3333333333333333, \"#9c179e\"], [0.4444444444444444, \"#bd3786\"], [0.5555555555555556, \"#d8576b\"], [0.6666666666666666, \"#ed7953\"], [0.7777777777777778, \"#fb9f3a\"], [0.8888888888888888, \"#fdca26\"], [1.0, \"#f0f921\"]], \"sequentialminus\": [[0.0, \"#0d0887\"], [0.1111111111111111, \"#46039f\"], [0.2222222222222222, \"#7201a8\"], [0.3333333333333333, \"#9c179e\"], [0.4444444444444444, \"#bd3786\"], [0.5555555555555556, \"#d8576b\"], [0.6666666666666666, \"#ed7953\"], [0.7777777777777778, \"#fb9f3a\"], [0.8888888888888888, \"#fdca26\"], [1.0, \"#f0f921\"]]}, \"colorway\": [\"#636efa\", \"#EF553B\", \"#00cc96\", \"#ab63fa\", \"#FFA15A\", \"#19d3f3\", \"#FF6692\", \"#B6E880\", \"#FF97FF\", \"#FECB52\"], \"font\": {\"color\": \"#2a3f5f\"}, \"geo\": {\"bgcolor\": \"white\", \"lakecolor\": \"white\", \"landcolor\": \"#E5ECF6\", \"showlakes\": true, \"showland\": true, \"subunitcolor\": \"white\"}, \"hoverlabel\": {\"align\": \"left\"}, \"hovermode\": \"closest\", \"mapbox\": {\"style\": \"light\"}, \"paper_bgcolor\": \"white\", \"plot_bgcolor\": \"#E5ECF6\", \"polar\": {\"angularaxis\": {\"gridcolor\": \"white\", \"linecolor\": \"white\", \"ticks\": \"\"}, \"bgcolor\": \"#E5ECF6\", \"radialaxis\": {\"gridcolor\": \"white\", \"linecolor\": \"white\", \"ticks\": \"\"}}, \"scene\": {\"xaxis\": {\"backgroundcolor\": \"#E5ECF6\", \"gridcolor\": \"white\", \"gridwidth\": 2, \"linecolor\": \"white\", \"showbackground\": true, \"ticks\": \"\", \"zerolinecolor\": \"white\"}, \"yaxis\": {\"backgroundcolor\": \"#E5ECF6\", \"gridcolor\": \"white\", \"gridwidth\": 2, \"linecolor\": \"white\", \"showbackground\": true, \"ticks\": \"\", \"zerolinecolor\": \"white\"}, \"zaxis\": {\"backgroundcolor\": \"#E5ECF6\", \"gridcolor\": \"white\", \"gridwidth\": 2, \"linecolor\": \"white\", \"showbackground\": true, \"ticks\": \"\", \"zerolinecolor\": \"white\"}}, \"shapedefaults\": {\"line\": {\"color\": \"#2a3f5f\"}}, \"ternary\": {\"aaxis\": {\"gridcolor\": \"white\", \"linecolor\": \"white\", \"ticks\": \"\"}, \"baxis\": {\"gridcolor\": \"white\", \"linecolor\": \"white\", \"ticks\": \"\"}, \"bgcolor\": \"#E5ECF6\", \"caxis\": {\"gridcolor\": \"white\", \"linecolor\": \"white\", \"ticks\": \"\"}}, \"title\": {\"x\": 0.05}, \"xaxis\": {\"automargin\": true, \"gridcolor\": \"white\", \"linecolor\": \"white\", \"ticks\": \"\", \"title\": {\"standoff\": 15}, \"zerolinecolor\": \"white\", \"zerolinewidth\": 2}, \"yaxis\": {\"automargin\": true, \"gridcolor\": \"white\", \"linecolor\": \"white\", \"ticks\": \"\", \"title\": {\"standoff\": 15}, \"zerolinecolor\": \"white\", \"zerolinewidth\": 2}}}, \"title\": {\"text\": \"Frequency\"}},\n",
              "                        {\"responsive\": true}\n",
              "                    ).then(function(){\n",
              "                            \n",
              "var gd = document.getElementById('6e7adec7-7180-4415-bd04-dcd7f9ded668');\n",
              "var x = new MutationObserver(function (mutations, observer) {{\n",
              "        var display = window.getComputedStyle(gd).display;\n",
              "        if (!display || display === 'none') {{\n",
              "            console.log([gd, 'removed!']);\n",
              "            Plotly.purge(gd);\n",
              "            observer.disconnect();\n",
              "        }}\n",
              "}});\n",
              "\n",
              "// Listen for the removal of the full notebook cells\n",
              "var notebookContainer = gd.closest('#notebook-container');\n",
              "if (notebookContainer) {{\n",
              "    x.observe(notebookContainer, {childList: true});\n",
              "}}\n",
              "\n",
              "// Listen for the clearing of the current output cell\n",
              "var outputEl = gd.closest('.output');\n",
              "if (outputEl) {{\n",
              "    x.observe(outputEl, {childList: true});\n",
              "}}\n",
              "\n",
              "                        })\n",
              "                };\n",
              "                \n",
              "            </script>\n",
              "        </div>\n",
              "</body>\n",
              "</html>"
            ]
          },
          "metadata": {
            "tags": []
          }
        }
      ]
    },
    {
      "cell_type": "code",
      "metadata": {
        "id": "h75YeOZUeIgi",
        "colab": {
          "base_uri": "https://localhost:8080/",
          "height": 290
        },
        "outputId": "10f2fb0e-496e-440b-9261-8356dbf44b77"
      },
      "source": [
        "sse={}\n",
        "data_frequency = data_user[['Frequency']]\n",
        "for k in range(1, 10):\n",
        "    kmeans = KMeans(n_clusters=k, max_iter=1000).fit(data_frequency)\n",
        "    data_frequency[\"clusters\"] = kmeans.labels_\n",
        "    sse[k] = kmeans.inertia_ \n",
        "plt.figure()\n",
        "plt.plot(list(sse.keys()), list(sse.values()))\n",
        "plt.xlabel(\"Number of cluster\")\n",
        "plt.show()"
      ],
      "execution_count": null,
      "outputs": [
        {
          "output_type": "display_data",
          "data": {
            "image/png": "[encoded data removed]",
            "text/plain": [
              "<Figure size 432x288 with 1 Axes>"
            ]
          },
          "metadata": {
            "tags": []
          }
        }
      ]
    },
    {
      "cell_type": "code",
      "metadata": {
        "id": "nCtnb5tVePpU"
      },
      "source": [
        "kmeans = KMeans(n_clusters=4)\n",
        "kmeans.fit(data_user[['Frequency']])\n",
        "data_user['FrequencyCluster'] = kmeans.predict(data_user[['Frequency']])"
      ],
      "execution_count": null,
      "outputs": []
    },
    {
      "cell_type": "code",
      "metadata": {
        "id": "_hZ58siGeZ4q",
        "colab": {
          "base_uri": "https://localhost:8080/",
          "height": 204
        },
        "outputId": "7e9cd396-a614-42c5-84cb-282847f6af1c"
      },
      "source": [
        "data_user.groupby('FrequencyCluster')['Frequency'].describe()\n",
        "\n"
      ],
      "execution_count": null,
      "outputs": [
        {
          "output_type": "execute_result",
          "data": {
            "text/html": [
              "<div>\n",
              "<style scoped>\n",
              "    .dataframe tbody tr th:only-of-type {\n",
              "        vertical-align: middle;\n",
              "    }\n",
              "\n",
              "    .dataframe tbody tr th {\n",
              "        vertical-align: top;\n",
              "    }\n",
              "\n",
              "    .dataframe thead th {\n",
              "        text-align: right;\n",
              "    }\n",
              "</style>\n",
              "<table border=\"1\" class=\"dataframe\">\n",
              "  <thead>\n",
              "    <tr style=\"text-align: right;\">\n",
              "      <th></th>\n",
              "      <th>count</th>\n",
              "      <th>mean</th>\n",
              "      <th>std</th>\n",
              "      <th>min</th>\n",
              "      <th>25%</th>\n",
              "      <th>50%</th>\n",
              "      <th>75%</th>\n",
              "      <th>max</th>\n",
              "    </tr>\n",
              "    <tr>\n",
              "      <th>FrequencyCluster</th>\n",
              "      <th></th>\n",
              "      <th></th>\n",
              "      <th></th>\n",
              "      <th></th>\n",
              "      <th></th>\n",
              "      <th></th>\n",
              "      <th></th>\n",
              "      <th></th>\n",
              "    </tr>\n",
              "  </thead>\n",
              "  <tbody>\n",
              "    <tr>\n",
              "      <th>0</th>\n",
              "      <td>1915.0</td>\n",
              "      <td>10.967624</td>\n",
              "      <td>14.086648</td>\n",
              "      <td>1.0</td>\n",
              "      <td>2.0</td>\n",
              "      <td>6.0</td>\n",
              "      <td>15.0</td>\n",
              "      <td>121.0</td>\n",
              "    </tr>\n",
              "    <tr>\n",
              "      <th>1</th>\n",
              "      <td>4.0</td>\n",
              "      <td>1981.000000</td>\n",
              "      <td>293.032421</td>\n",
              "      <td>1658.0</td>\n",
              "      <td>1770.5</td>\n",
              "      <td>2012.0</td>\n",
              "      <td>2222.5</td>\n",
              "      <td>2242.0</td>\n",
              "    </tr>\n",
              "    <tr>\n",
              "      <th>2</th>\n",
              "      <td>3.0</td>\n",
              "      <td>936.666667</td>\n",
              "      <td>213.720222</td>\n",
              "      <td>711.0</td>\n",
              "      <td>837.0</td>\n",
              "      <td>963.0</td>\n",
              "      <td>1049.5</td>\n",
              "      <td>1136.0</td>\n",
              "    </tr>\n",
              "    <tr>\n",
              "      <th>3</th>\n",
              "      <td>22.0</td>\n",
              "      <td>234.000000</td>\n",
              "      <td>107.808472</td>\n",
              "      <td>125.0</td>\n",
              "      <td>153.5</td>\n",
              "      <td>194.0</td>\n",
              "      <td>264.0</td>\n",
              "      <td>498.0</td>\n",
              "    </tr>\n",
              "  </tbody>\n",
              "</table>\n",
              "</div>"
            ],
            "text/plain": [
              "                   count         mean         std  ...     50%     75%     max\n",
              "FrequencyCluster                                   ...                        \n",
              "0                 1915.0    10.967624   14.086648  ...     6.0    15.0   121.0\n",
              "1                    4.0  1981.000000  293.032421  ...  2012.0  2222.5  2242.0\n",
              "2                    3.0   936.666667  213.720222  ...   963.0  1049.5  1136.0\n",
              "3                   22.0   234.000000  107.808472  ...   194.0   264.0   498.0\n",
              "\n",
              "[4 rows x 8 columns]"
            ]
          },
          "metadata": {
            "tags": []
          },
          "execution_count": 193
        }
      ]
    },
    {
      "cell_type": "code",
      "metadata": {
        "id": "BmoPACI9egjz"
      },
      "source": [
        "data_user = order_cluster('FrequencyCluster', 'Frequency',data_user,True)"
      ],
      "execution_count": null,
      "outputs": []
    },
    {
      "cell_type": "code",
      "metadata": {
        "id": "0b_UUt8K7SO7",
        "colab": {
          "base_uri": "https://localhost:8080/",
          "height": 34
        },
        "outputId": "cfc17227-89f5-476a-9ddf-67f2084ad7a4"
      },
      "source": [
        "train_data.size"
      ],
      "execution_count": null,
      "outputs": [
        {
          "output_type": "execute_result",
          "data": {
            "text/plain": [
              "266056"
            ]
          },
          "metadata": {
            "tags": []
          },
          "execution_count": 260
        }
      ]
    },
    {
      "cell_type": "code",
      "metadata": {
        "id": "vFW0CeJof6XC",
        "colab": {
          "base_uri": "https://localhost:8080/",
          "height": 204
        },
        "outputId": "aae7905f-dc7a-4e05-ecc7-946fc1e74871"
      },
      "source": [
        "data_user.head()"
      ],
      "execution_count": null,
      "outputs": [
        {
          "output_type": "execute_result",
          "data": {
            "text/html": [
              "<div>\n",
              "<style scoped>\n",
              "    .dataframe tbody tr th:only-of-type {\n",
              "        vertical-align: middle;\n",
              "    }\n",
              "\n",
              "    .dataframe tbody tr th {\n",
              "        vertical-align: top;\n",
              "    }\n",
              "\n",
              "    .dataframe thead th {\n",
              "        text-align: right;\n",
              "    }\n",
              "</style>\n",
              "<table border=\"1\" class=\"dataframe\">\n",
              "  <thead>\n",
              "    <tr style=\"text-align: right;\">\n",
              "      <th></th>\n",
              "      <th>acc</th>\n",
              "      <th>NextPurchaseDay</th>\n",
              "      <th>Recency</th>\n",
              "      <th>RecencyCluster</th>\n",
              "      <th>Frequency</th>\n",
              "      <th>FrequencyCluster</th>\n",
              "    </tr>\n",
              "  </thead>\n",
              "  <tbody>\n",
              "    <tr>\n",
              "      <th>0</th>\n",
              "      <td>256787571627</td>\n",
              "      <td>999.0</td>\n",
              "      <td>18</td>\n",
              "      <td>2</td>\n",
              "      <td>2</td>\n",
              "      <td>0</td>\n",
              "    </tr>\n",
              "    <tr>\n",
              "      <th>1</th>\n",
              "      <td>256704005298</td>\n",
              "      <td>12.0</td>\n",
              "      <td>10</td>\n",
              "      <td>2</td>\n",
              "      <td>9</td>\n",
              "      <td>0</td>\n",
              "    </tr>\n",
              "    <tr>\n",
              "      <th>2</th>\n",
              "      <td>256775875248</td>\n",
              "      <td>14.0</td>\n",
              "      <td>13</td>\n",
              "      <td>2</td>\n",
              "      <td>8</td>\n",
              "      <td>0</td>\n",
              "    </tr>\n",
              "    <tr>\n",
              "      <th>3</th>\n",
              "      <td>256702433638</td>\n",
              "      <td>12.0</td>\n",
              "      <td>10</td>\n",
              "      <td>2</td>\n",
              "      <td>15</td>\n",
              "      <td>0</td>\n",
              "    </tr>\n",
              "    <tr>\n",
              "      <th>4</th>\n",
              "      <td>256773743973</td>\n",
              "      <td>12.0</td>\n",
              "      <td>10</td>\n",
              "      <td>2</td>\n",
              "      <td>14</td>\n",
              "      <td>0</td>\n",
              "    </tr>\n",
              "  </tbody>\n",
              "</table>\n",
              "</div>"
            ],
            "text/plain": [
              "            acc  NextPurchaseDay  ...  Frequency  FrequencyCluster\n",
              "0  256787571627            999.0  ...          2                 0\n",
              "1  256704005298             12.0  ...          9                 0\n",
              "2  256775875248             14.0  ...          8                 0\n",
              "3  256702433638             12.0  ...         15                 0\n",
              "4  256773743973             12.0  ...         14                 0\n",
              "\n",
              "[5 rows x 6 columns]"
            ]
          },
          "metadata": {
            "tags": []
          },
          "execution_count": 195
        }
      ]
    },
    {
      "cell_type": "code",
      "metadata": {
        "id": "hhUwC4qUgAHj"
      },
      "source": [
        "data_user['OverallScore'] = data_user['RecencyCluster'] + data_user['FrequencyCluster']"
      ],
      "execution_count": null,
      "outputs": []
    },
    {
      "cell_type": "code",
      "metadata": {
        "id": "1dj4oXafgnIv",
        "colab": {
          "base_uri": "https://localhost:8080/",
          "height": 297
        },
        "outputId": "54b94d1b-c42c-4cbf-d782-704388c99ec7"
      },
      "source": [
        "data_user.groupby('OverallScore')['Recency','Frequency'].mean()"
      ],
      "execution_count": null,
      "outputs": [
        {
          "output_type": "execute_result",
          "data": {
            "text/html": [
              "<div>\n",
              "<style scoped>\n",
              "    .dataframe tbody tr th:only-of-type {\n",
              "        vertical-align: middle;\n",
              "    }\n",
              "\n",
              "    .dataframe tbody tr th {\n",
              "        vertical-align: top;\n",
              "    }\n",
              "\n",
              "    .dataframe thead th {\n",
              "        text-align: right;\n",
              "    }\n",
              "</style>\n",
              "<table border=\"1\" class=\"dataframe\">\n",
              "  <thead>\n",
              "    <tr style=\"text-align: right;\">\n",
              "      <th></th>\n",
              "      <th>Recency</th>\n",
              "      <th>Frequency</th>\n",
              "    </tr>\n",
              "    <tr>\n",
              "      <th>OverallScore</th>\n",
              "      <th></th>\n",
              "      <th></th>\n",
              "    </tr>\n",
              "  </thead>\n",
              "  <tbody>\n",
              "    <tr>\n",
              "      <th>0</th>\n",
              "      <td>48.401408</td>\n",
              "      <td>3.359155</td>\n",
              "    </tr>\n",
              "    <tr>\n",
              "      <th>1</th>\n",
              "      <td>30.055118</td>\n",
              "      <td>5.685039</td>\n",
              "    </tr>\n",
              "    <tr>\n",
              "      <th>2</th>\n",
              "      <td>15.251318</td>\n",
              "      <td>9.862917</td>\n",
              "    </tr>\n",
              "    <tr>\n",
              "      <th>3</th>\n",
              "      <td>2.839884</td>\n",
              "      <td>20.148472</td>\n",
              "    </tr>\n",
              "    <tr>\n",
              "      <th>4</th>\n",
              "      <td>2.777778</td>\n",
              "      <td>352.666667</td>\n",
              "    </tr>\n",
              "    <tr>\n",
              "      <th>5</th>\n",
              "      <td>0.000000</td>\n",
              "      <td>923.500000</td>\n",
              "    </tr>\n",
              "    <tr>\n",
              "      <th>6</th>\n",
              "      <td>0.000000</td>\n",
              "      <td>2038.666667</td>\n",
              "    </tr>\n",
              "  </tbody>\n",
              "</table>\n",
              "</div>"
            ],
            "text/plain": [
              "                Recency    Frequency\n",
              "OverallScore                        \n",
              "0             48.401408     3.359155\n",
              "1             30.055118     5.685039\n",
              "2             15.251318     9.862917\n",
              "3              2.839884    20.148472\n",
              "4              2.777778   352.666667\n",
              "5              0.000000   923.500000\n",
              "6              0.000000  2038.666667"
            ]
          },
          "metadata": {
            "tags": []
          },
          "execution_count": 197
        }
      ]
    },
    {
      "cell_type": "code",
      "metadata": {
        "id": "SFCCdue-gwLE",
        "colab": {
          "base_uri": "https://localhost:8080/",
          "height": 170
        },
        "outputId": "3b06bce9-0a97-42f7-b121-66a57502dc2a"
      },
      "source": [
        "data_user.groupby('OverallScore')['Recency'].count()"
      ],
      "execution_count": null,
      "outputs": [
        {
          "output_type": "execute_result",
          "data": {
            "text/plain": [
              "OverallScore\n",
              "0    284\n",
              "1    381\n",
              "2    569\n",
              "3    687\n",
              "4     18\n",
              "5      2\n",
              "6      3\n",
              "Name: Recency, dtype: int64"
            ]
          },
          "metadata": {
            "tags": []
          },
          "execution_count": 198
        }
      ]
    },
    {
      "cell_type": "code",
      "metadata": {
        "id": "fNDHnrhsgzV8"
      },
      "source": [
        "data_user['Segment'] = 'Low-Value'\n",
        "data_user.loc[data_user['OverallScore']>2,'Segment'] = 'Mid-Value' \n",
        "data_user.loc[data_user['OverallScore']>4,'Segment'] = 'High-Value'"
      ],
      "execution_count": null,
      "outputs": []
    },
    {
      "cell_type": "code",
      "metadata": {
        "id": "8HDO8zfvhAHS",
        "colab": {
          "base_uri": "https://localhost:8080/",
          "height": 204
        },
        "outputId": "46a5e5dc-9b88-4478-9942-6512b6936251"
      },
      "source": [
        "data_user.head()"
      ],
      "execution_count": null,
      "outputs": [
        {
          "output_type": "execute_result",
          "data": {
            "text/html": [
              "<div>\n",
              "<style scoped>\n",
              "    .dataframe tbody tr th:only-of-type {\n",
              "        vertical-align: middle;\n",
              "    }\n",
              "\n",
              "    .dataframe tbody tr th {\n",
              "        vertical-align: top;\n",
              "    }\n",
              "\n",
              "    .dataframe thead th {\n",
              "        text-align: right;\n",
              "    }\n",
              "</style>\n",
              "<table border=\"1\" class=\"dataframe\">\n",
              "  <thead>\n",
              "    <tr style=\"text-align: right;\">\n",
              "      <th></th>\n",
              "      <th>acc</th>\n",
              "      <th>NextPurchaseDay</th>\n",
              "      <th>Recency</th>\n",
              "      <th>RecencyCluster</th>\n",
              "      <th>Frequency</th>\n",
              "      <th>FrequencyCluster</th>\n",
              "      <th>OverallScore</th>\n",
              "      <th>Segment</th>\n",
              "    </tr>\n",
              "  </thead>\n",
              "  <tbody>\n",
              "    <tr>\n",
              "      <th>0</th>\n",
              "      <td>256787571627</td>\n",
              "      <td>999.0</td>\n",
              "      <td>18</td>\n",
              "      <td>2</td>\n",
              "      <td>2</td>\n",
              "      <td>0</td>\n",
              "      <td>2</td>\n",
              "      <td>Low-Value</td>\n",
              "    </tr>\n",
              "    <tr>\n",
              "      <th>1</th>\n",
              "      <td>256704005298</td>\n",
              "      <td>12.0</td>\n",
              "      <td>10</td>\n",
              "      <td>2</td>\n",
              "      <td>9</td>\n",
              "      <td>0</td>\n",
              "      <td>2</td>\n",
              "      <td>Low-Value</td>\n",
              "    </tr>\n",
              "    <tr>\n",
              "      <th>2</th>\n",
              "      <td>256775875248</td>\n",
              "      <td>14.0</td>\n",
              "      <td>13</td>\n",
              "      <td>2</td>\n",
              "      <td>8</td>\n",
              "      <td>0</td>\n",
              "      <td>2</td>\n",
              "      <td>Low-Value</td>\n",
              "    </tr>\n",
              "    <tr>\n",
              "      <th>3</th>\n",
              "      <td>256702433638</td>\n",
              "      <td>12.0</td>\n",
              "      <td>10</td>\n",
              "      <td>2</td>\n",
              "      <td>15</td>\n",
              "      <td>0</td>\n",
              "      <td>2</td>\n",
              "      <td>Low-Value</td>\n",
              "    </tr>\n",
              "    <tr>\n",
              "      <th>4</th>\n",
              "      <td>256773743973</td>\n",
              "      <td>12.0</td>\n",
              "      <td>10</td>\n",
              "      <td>2</td>\n",
              "      <td>14</td>\n",
              "      <td>0</td>\n",
              "      <td>2</td>\n",
              "      <td>Low-Value</td>\n",
              "    </tr>\n",
              "  </tbody>\n",
              "</table>\n",
              "</div>"
            ],
            "text/plain": [
              "            acc  NextPurchaseDay  ...  OverallScore    Segment\n",
              "0  256787571627            999.0  ...             2  Low-Value\n",
              "1  256704005298             12.0  ...             2  Low-Value\n",
              "2  256775875248             14.0  ...             2  Low-Value\n",
              "3  256702433638             12.0  ...             2  Low-Value\n",
              "4  256773743973             12.0  ...             2  Low-Value\n",
              "\n",
              "[5 rows x 8 columns]"
            ]
          },
          "metadata": {
            "tags": []
          },
          "execution_count": 200
        }
      ]
    },
    {
      "cell_type": "code",
      "metadata": {
        "id": "E2v-AP2bhcbA",
        "colab": {
          "base_uri": "https://localhost:8080/",
          "height": 204
        },
        "outputId": "3ce7822d-af36-4326-f47a-cf2308df36bd"
      },
      "source": [
        "data_2m.head()"
      ],
      "execution_count": null,
      "outputs": [
        {
          "output_type": "execute_result",
          "data": {
            "text/html": [
              "<div>\n",
              "<style scoped>\n",
              "    .dataframe tbody tr th:only-of-type {\n",
              "        vertical-align: middle;\n",
              "    }\n",
              "\n",
              "    .dataframe tbody tr th {\n",
              "        vertical-align: top;\n",
              "    }\n",
              "\n",
              "    .dataframe thead th {\n",
              "        text-align: right;\n",
              "    }\n",
              "</style>\n",
              "<table border=\"1\" class=\"dataframe\">\n",
              "  <thead>\n",
              "    <tr style=\"text-align: right;\">\n",
              "      <th></th>\n",
              "      <th>date</th>\n",
              "      <th>acc</th>\n",
              "      <th>PID</th>\n",
              "      <th>Category</th>\n",
              "    </tr>\n",
              "  </thead>\n",
              "  <tbody>\n",
              "    <tr>\n",
              "      <th>0</th>\n",
              "      <td>2019-12-13 11:38:33.226</td>\n",
              "      <td>256787571627</td>\n",
              "      <td>80G0</td>\n",
              "      <td>AIRTIME_DATA</td>\n",
              "    </tr>\n",
              "    <tr>\n",
              "      <th>1</th>\n",
              "      <td>2019-11-15 09:16:06.591</td>\n",
              "      <td>256704005298</td>\n",
              "      <td>80G0</td>\n",
              "      <td>AIRTIME_DATA</td>\n",
              "    </tr>\n",
              "    <tr>\n",
              "      <th>2</th>\n",
              "      <td>2019-11-19 19:51:59.545</td>\n",
              "      <td>256701950144</td>\n",
              "      <td>80G0</td>\n",
              "      <td>AIRTIME_DATA</td>\n",
              "    </tr>\n",
              "    <tr>\n",
              "      <th>3</th>\n",
              "      <td>2019-12-12 11:41:13.059</td>\n",
              "      <td>256702173540</td>\n",
              "      <td>80G0</td>\n",
              "      <td>AIRTIME_DATA</td>\n",
              "    </tr>\n",
              "    <tr>\n",
              "      <th>4</th>\n",
              "      <td>2019-12-27 18:17:24.438</td>\n",
              "      <td>256779600475</td>\n",
              "      <td>80G0</td>\n",
              "      <td>AIRTIME_DATA</td>\n",
              "    </tr>\n",
              "  </tbody>\n",
              "</table>\n",
              "</div>"
            ],
            "text/plain": [
              "                     date           acc   PID      Category\n",
              "0 2019-12-13 11:38:33.226  256787571627  80G0  AIRTIME_DATA\n",
              "1 2019-11-15 09:16:06.591  256704005298  80G0  AIRTIME_DATA\n",
              "2 2019-11-19 19:51:59.545  256701950144  80G0  AIRTIME_DATA\n",
              "3 2019-12-12 11:41:13.059  256702173540  80G0  AIRTIME_DATA\n",
              "4 2019-12-27 18:17:24.438  256779600475  80G0  AIRTIME_DATA"
            ]
          },
          "metadata": {
            "tags": []
          },
          "execution_count": 201
        }
      ]
    },
    {
      "cell_type": "code",
      "metadata": {
        "id": "CmhvyY7KikaB"
      },
      "source": [
        "#create a dataframe with acc, Date and PID\n",
        "data_day_order =data_2m[['acc','date','PID']]"
      ],
      "execution_count": null,
      "outputs": []
    },
    {
      "cell_type": "code",
      "metadata": {
        "id": "J3a2DjSui2ki"
      },
      "source": [
        "#Convert Date to day\n",
        "data_day_order['day'] = data_2m['date'].dt.date"
      ],
      "execution_count": null,
      "outputs": []
    },
    {
      "cell_type": "code",
      "metadata": {
        "id": "3BQitvzmjSdP"
      },
      "source": [
        "data_day_order = data_day_order.sort_values(['acc','date','PID'])"
      ],
      "execution_count": null,
      "outputs": []
    },
    {
      "cell_type": "code",
      "metadata": {
        "id": "eAYNq7GQjijm"
      },
      "source": [
        "#shifting last 3 purchase dates\n",
        "data_day_order['Prevdate'] = data_day_order.groupby('acc')[['day']].shift(1)\n",
        "data_day_order['T2date'] = data_day_order.groupby('acc')['day'].shift(2)\n",
        "data_day_order['T3date'] = data_day_order.groupby('acc')['day'].shift(3)"
      ],
      "execution_count": null,
      "outputs": []
    },
    {
      "cell_type": "code",
      "metadata": {
        "id": "BtiO6fttknM-",
        "colab": {
          "base_uri": "https://localhost:8080/",
          "height": 204
        },
        "outputId": "6bc393a1-7622-4952-dc6f-90234fb84b83"
      },
      "source": [
        "data_day_order.head()"
      ],
      "execution_count": null,
      "outputs": [
        {
          "output_type": "execute_result",
          "data": {
            "text/html": [
              "<div>\n",
              "<style scoped>\n",
              "    .dataframe tbody tr th:only-of-type {\n",
              "        vertical-align: middle;\n",
              "    }\n",
              "\n",
              "    .dataframe tbody tr th {\n",
              "        vertical-align: top;\n",
              "    }\n",
              "\n",
              "    .dataframe thead th {\n",
              "        text-align: right;\n",
              "    }\n",
              "</style>\n",
              "<table border=\"1\" class=\"dataframe\">\n",
              "  <thead>\n",
              "    <tr style=\"text-align: right;\">\n",
              "      <th></th>\n",
              "      <th>acc</th>\n",
              "      <th>date</th>\n",
              "      <th>PID</th>\n",
              "      <th>day</th>\n",
              "      <th>Prevdate</th>\n",
              "      <th>T2date</th>\n",
              "      <th>T3date</th>\n",
              "    </tr>\n",
              "  </thead>\n",
              "  <tbody>\n",
              "    <tr>\n",
              "      <th>35239</th>\n",
              "      <td>256000000000</td>\n",
              "      <td>2019-11-01 09:59:02.708</td>\n",
              "      <td>3USE</td>\n",
              "      <td>2019-11-01</td>\n",
              "      <td>NaN</td>\n",
              "      <td>NaN</td>\n",
              "      <td>NaN</td>\n",
              "    </tr>\n",
              "    <tr>\n",
              "      <th>24991</th>\n",
              "      <td>256000000000</td>\n",
              "      <td>2019-11-01 12:32:26.062</td>\n",
              "      <td>U1DD</td>\n",
              "      <td>2019-11-01</td>\n",
              "      <td>2019-11-01</td>\n",
              "      <td>NaN</td>\n",
              "      <td>NaN</td>\n",
              "    </tr>\n",
              "    <tr>\n",
              "      <th>31170</th>\n",
              "      <td>256000000000</td>\n",
              "      <td>2019-11-01 13:18:33.211</td>\n",
              "      <td>Q9SJ</td>\n",
              "      <td>2019-11-01</td>\n",
              "      <td>2019-11-01</td>\n",
              "      <td>2019-11-01</td>\n",
              "      <td>NaN</td>\n",
              "    </tr>\n",
              "    <tr>\n",
              "      <th>29535</th>\n",
              "      <td>256000000000</td>\n",
              "      <td>2019-11-01 13:41:50.609</td>\n",
              "      <td>6Q4Z</td>\n",
              "      <td>2019-11-01</td>\n",
              "      <td>2019-11-01</td>\n",
              "      <td>2019-11-01</td>\n",
              "      <td>2019-11-01</td>\n",
              "    </tr>\n",
              "    <tr>\n",
              "      <th>23906</th>\n",
              "      <td>256000000000</td>\n",
              "      <td>2019-11-01 16:04:44.141</td>\n",
              "      <td>U1DD</td>\n",
              "      <td>2019-11-01</td>\n",
              "      <td>2019-11-01</td>\n",
              "      <td>2019-11-01</td>\n",
              "      <td>2019-11-01</td>\n",
              "    </tr>\n",
              "  </tbody>\n",
              "</table>\n",
              "</div>"
            ],
            "text/plain": [
              "                acc                    date  ...      T2date      T3date\n",
              "35239  256000000000 2019-11-01 09:59:02.708  ...         NaN         NaN\n",
              "24991  256000000000 2019-11-01 12:32:26.062  ...         NaN         NaN\n",
              "31170  256000000000 2019-11-01 13:18:33.211  ...  2019-11-01         NaN\n",
              "29535  256000000000 2019-11-01 13:41:50.609  ...  2019-11-01  2019-11-01\n",
              "23906  256000000000 2019-11-01 16:04:44.141  ...  2019-11-01  2019-11-01\n",
              "\n",
              "[5 rows x 7 columns]"
            ]
          },
          "metadata": {
            "tags": []
          },
          "execution_count": 206
        }
      ]
    },
    {
      "cell_type": "code",
      "metadata": {
        "id": "xxiwn9MPkuQi"
      },
      "source": [
        "data_day_order['DayDiff'] = (data_day_order['day'] - data_day_order['Prevdate']).dt.days\n",
        "data_day_order['DayDiff2'] = (data_day_order['day'] - data_day_order['T2date']).dt.days\n",
        "data_day_order['DayDiff3'] = (data_day_order['day'] - data_day_order['T3date']).dt.days"
      ],
      "execution_count": null,
      "outputs": []
    },
    {
      "cell_type": "code",
      "metadata": {
        "id": "q5-Z1wqjlTwh",
        "colab": {
          "base_uri": "https://localhost:8080/",
          "height": 529
        },
        "outputId": "d52f30df-9c0c-479e-d3e3-035635605010"
      },
      "source": [
        "data_day_order.head(10)"
      ],
      "execution_count": null,
      "outputs": [
        {
          "output_type": "execute_result",
          "data": {
            "text/html": [
              "<div>\n",
              "<style scoped>\n",
              "    .dataframe tbody tr th:only-of-type {\n",
              "        vertical-align: middle;\n",
              "    }\n",
              "\n",
              "    .dataframe tbody tr th {\n",
              "        vertical-align: top;\n",
              "    }\n",
              "\n",
              "    .dataframe thead th {\n",
              "        text-align: right;\n",
              "    }\n",
              "</style>\n",
              "<table border=\"1\" class=\"dataframe\">\n",
              "  <thead>\n",
              "    <tr style=\"text-align: right;\">\n",
              "      <th></th>\n",
              "      <th>acc</th>\n",
              "      <th>date</th>\n",
              "      <th>PID</th>\n",
              "      <th>day</th>\n",
              "      <th>Prevdate</th>\n",
              "      <th>T2date</th>\n",
              "      <th>T3date</th>\n",
              "      <th>DayDiff</th>\n",
              "      <th>DayDiff2</th>\n",
              "      <th>DayDiff3</th>\n",
              "    </tr>\n",
              "  </thead>\n",
              "  <tbody>\n",
              "    <tr>\n",
              "      <th>35239</th>\n",
              "      <td>256000000000</td>\n",
              "      <td>2019-11-01 09:59:02.708</td>\n",
              "      <td>3USE</td>\n",
              "      <td>2019-11-01</td>\n",
              "      <td>NaN</td>\n",
              "      <td>NaN</td>\n",
              "      <td>NaN</td>\n",
              "      <td>NaN</td>\n",
              "      <td>NaN</td>\n",
              "      <td>NaN</td>\n",
              "    </tr>\n",
              "    <tr>\n",
              "      <th>24991</th>\n",
              "      <td>256000000000</td>\n",
              "      <td>2019-11-01 12:32:26.062</td>\n",
              "      <td>U1DD</td>\n",
              "      <td>2019-11-01</td>\n",
              "      <td>2019-11-01</td>\n",
              "      <td>NaN</td>\n",
              "      <td>NaN</td>\n",
              "      <td>0.0</td>\n",
              "      <td>NaN</td>\n",
              "      <td>NaN</td>\n",
              "    </tr>\n",
              "    <tr>\n",
              "      <th>31170</th>\n",
              "      <td>256000000000</td>\n",
              "      <td>2019-11-01 13:18:33.211</td>\n",
              "      <td>Q9SJ</td>\n",
              "      <td>2019-11-01</td>\n",
              "      <td>2019-11-01</td>\n",
              "      <td>2019-11-01</td>\n",
              "      <td>NaN</td>\n",
              "      <td>0.0</td>\n",
              "      <td>0.0</td>\n",
              "      <td>NaN</td>\n",
              "    </tr>\n",
              "    <tr>\n",
              "      <th>29535</th>\n",
              "      <td>256000000000</td>\n",
              "      <td>2019-11-01 13:41:50.609</td>\n",
              "      <td>6Q4Z</td>\n",
              "      <td>2019-11-01</td>\n",
              "      <td>2019-11-01</td>\n",
              "      <td>2019-11-01</td>\n",
              "      <td>2019-11-01</td>\n",
              "      <td>0.0</td>\n",
              "      <td>0.0</td>\n",
              "      <td>0.0</td>\n",
              "    </tr>\n",
              "    <tr>\n",
              "      <th>23906</th>\n",
              "      <td>256000000000</td>\n",
              "      <td>2019-11-01 16:04:44.141</td>\n",
              "      <td>U1DD</td>\n",
              "      <td>2019-11-01</td>\n",
              "      <td>2019-11-01</td>\n",
              "      <td>2019-11-01</td>\n",
              "      <td>2019-11-01</td>\n",
              "      <td>0.0</td>\n",
              "      <td>0.0</td>\n",
              "      <td>0.0</td>\n",
              "    </tr>\n",
              "    <tr>\n",
              "      <th>25575</th>\n",
              "      <td>256000000000</td>\n",
              "      <td>2019-11-01 19:43:43.515</td>\n",
              "      <td>U1DD</td>\n",
              "      <td>2019-11-01</td>\n",
              "      <td>2019-11-01</td>\n",
              "      <td>2019-11-01</td>\n",
              "      <td>2019-11-01</td>\n",
              "      <td>0.0</td>\n",
              "      <td>0.0</td>\n",
              "      <td>0.0</td>\n",
              "    </tr>\n",
              "    <tr>\n",
              "      <th>25596</th>\n",
              "      <td>256000000000</td>\n",
              "      <td>2019-11-01 20:23:36.346</td>\n",
              "      <td>U1DD</td>\n",
              "      <td>2019-11-01</td>\n",
              "      <td>2019-11-01</td>\n",
              "      <td>2019-11-01</td>\n",
              "      <td>2019-11-01</td>\n",
              "      <td>0.0</td>\n",
              "      <td>0.0</td>\n",
              "      <td>0.0</td>\n",
              "    </tr>\n",
              "    <tr>\n",
              "      <th>22927</th>\n",
              "      <td>256000000000</td>\n",
              "      <td>2019-11-02 08:22:16.978</td>\n",
              "      <td>U1DD</td>\n",
              "      <td>2019-11-02</td>\n",
              "      <td>2019-11-01</td>\n",
              "      <td>2019-11-01</td>\n",
              "      <td>2019-11-01</td>\n",
              "      <td>1.0</td>\n",
              "      <td>1.0</td>\n",
              "      <td>1.0</td>\n",
              "    </tr>\n",
              "    <tr>\n",
              "      <th>21618</th>\n",
              "      <td>256000000000</td>\n",
              "      <td>2019-11-02 09:13:24.056</td>\n",
              "      <td>U1DD</td>\n",
              "      <td>2019-11-02</td>\n",
              "      <td>2019-11-02</td>\n",
              "      <td>2019-11-01</td>\n",
              "      <td>2019-11-01</td>\n",
              "      <td>0.0</td>\n",
              "      <td>1.0</td>\n",
              "      <td>1.0</td>\n",
              "    </tr>\n",
              "    <tr>\n",
              "      <th>24799</th>\n",
              "      <td>256000000000</td>\n",
              "      <td>2019-11-02 21:03:19.313</td>\n",
              "      <td>U1DD</td>\n",
              "      <td>2019-11-02</td>\n",
              "      <td>2019-11-02</td>\n",
              "      <td>2019-11-02</td>\n",
              "      <td>2019-11-01</td>\n",
              "      <td>0.0</td>\n",
              "      <td>0.0</td>\n",
              "      <td>1.0</td>\n",
              "    </tr>\n",
              "  </tbody>\n",
              "</table>\n",
              "</div>"
            ],
            "text/plain": [
              "                acc                    date   PID  ... DayDiff DayDiff2 DayDiff3\n",
              "35239  256000000000 2019-11-01 09:59:02.708  3USE  ...     NaN      NaN      NaN\n",
              "24991  256000000000 2019-11-01 12:32:26.062  U1DD  ...     0.0      NaN      NaN\n",
              "31170  256000000000 2019-11-01 13:18:33.211  Q9SJ  ...     0.0      0.0      NaN\n",
              "29535  256000000000 2019-11-01 13:41:50.609  6Q4Z  ...     0.0      0.0      0.0\n",
              "23906  256000000000 2019-11-01 16:04:44.141  U1DD  ...     0.0      0.0      0.0\n",
              "25575  256000000000 2019-11-01 19:43:43.515  U1DD  ...     0.0      0.0      0.0\n",
              "25596  256000000000 2019-11-01 20:23:36.346  U1DD  ...     0.0      0.0      0.0\n",
              "22927  256000000000 2019-11-02 08:22:16.978  U1DD  ...     1.0      1.0      1.0\n",
              "21618  256000000000 2019-11-02 09:13:24.056  U1DD  ...     0.0      1.0      1.0\n",
              "24799  256000000000 2019-11-02 21:03:19.313  U1DD  ...     0.0      0.0      1.0\n",
              "\n",
              "[10 rows x 10 columns]"
            ]
          },
          "metadata": {
            "tags": []
          },
          "execution_count": 208
        }
      ]
    },
    {
      "cell_type": "code",
      "metadata": {
        "id": "v2nul7iOliTw"
      },
      "source": [
        "data_day_diff = data_day_order.groupby('acc').agg({'DayDiff': ['mean','std']}).reset_index()"
      ],
      "execution_count": null,
      "outputs": []
    },
    {
      "cell_type": "code",
      "metadata": {
        "id": "CNMAANoclzak"
      },
      "source": [
        "data_day_diff.columns = ['acc', 'DayDiffMean','DayDiffStd']"
      ],
      "execution_count": null,
      "outputs": []
    },
    {
      "cell_type": "code",
      "metadata": {
        "id": "_qJVmcZgl5it",
        "colab": {
          "base_uri": "https://localhost:8080/",
          "height": 204
        },
        "outputId": "c1ccf5f5-dc55-45df-848d-bed93f11c88e"
      },
      "source": [
        "data_day_diff.head()"
      ],
      "execution_count": null,
      "outputs": [
        {
          "output_type": "execute_result",
          "data": {
            "text/html": [
              "<div>\n",
              "<style scoped>\n",
              "    .dataframe tbody tr th:only-of-type {\n",
              "        vertical-align: middle;\n",
              "    }\n",
              "\n",
              "    .dataframe tbody tr th {\n",
              "        vertical-align: top;\n",
              "    }\n",
              "\n",
              "    .dataframe thead th {\n",
              "        text-align: right;\n",
              "    }\n",
              "</style>\n",
              "<table border=\"1\" class=\"dataframe\">\n",
              "  <thead>\n",
              "    <tr style=\"text-align: right;\">\n",
              "      <th></th>\n",
              "      <th>acc</th>\n",
              "      <th>DayDiffMean</th>\n",
              "      <th>DayDiffStd</th>\n",
              "    </tr>\n",
              "  </thead>\n",
              "  <tbody>\n",
              "    <tr>\n",
              "      <th>0</th>\n",
              "      <td>256000000000</td>\n",
              "      <td>0.298507</td>\n",
              "      <td>0.529573</td>\n",
              "    </tr>\n",
              "    <tr>\n",
              "      <th>1</th>\n",
              "      <td>256312290313</td>\n",
              "      <td>0.134247</td>\n",
              "      <td>0.715645</td>\n",
              "    </tr>\n",
              "    <tr>\n",
              "      <th>2</th>\n",
              "      <td>256393100610</td>\n",
              "      <td>1.875000</td>\n",
              "      <td>5.033757</td>\n",
              "    </tr>\n",
              "    <tr>\n",
              "      <th>3</th>\n",
              "      <td>256393216521</td>\n",
              "      <td>0.310345</td>\n",
              "      <td>2.412710</td>\n",
              "    </tr>\n",
              "    <tr>\n",
              "      <th>4</th>\n",
              "      <td>256700117509</td>\n",
              "      <td>24.500000</td>\n",
              "      <td>13.435029</td>\n",
              "    </tr>\n",
              "  </tbody>\n",
              "</table>\n",
              "</div>"
            ],
            "text/plain": [
              "            acc  DayDiffMean  DayDiffStd\n",
              "0  256000000000     0.298507    0.529573\n",
              "1  256312290313     0.134247    0.715645\n",
              "2  256393100610     1.875000    5.033757\n",
              "3  256393216521     0.310345    2.412710\n",
              "4  256700117509    24.500000   13.435029"
            ]
          },
          "metadata": {
            "tags": []
          },
          "execution_count": 211
        }
      ]
    },
    {
      "cell_type": "code",
      "metadata": {
        "id": "fXTH7NWlmYD2"
      },
      "source": [
        "data_day_order_last = data_day_order.drop_duplicates(subset=['acc'],keep='last')"
      ],
      "execution_count": null,
      "outputs": []
    },
    {
      "cell_type": "code",
      "metadata": {
        "id": "x1DEuhMhl-Pq",
        "colab": {
          "base_uri": "https://localhost:8080/",
          "height": 529
        },
        "outputId": "01dd2e27-f37f-419f-8354-d7bc8a333c64"
      },
      "source": [
        "data_day_order_last.head(10)"
      ],
      "execution_count": null,
      "outputs": [
        {
          "output_type": "execute_result",
          "data": {
            "text/html": [
              "<div>\n",
              "<style scoped>\n",
              "    .dataframe tbody tr th:only-of-type {\n",
              "        vertical-align: middle;\n",
              "    }\n",
              "\n",
              "    .dataframe tbody tr th {\n",
              "        vertical-align: top;\n",
              "    }\n",
              "\n",
              "    .dataframe thead th {\n",
              "        text-align: right;\n",
              "    }\n",
              "</style>\n",
              "<table border=\"1\" class=\"dataframe\">\n",
              "  <thead>\n",
              "    <tr style=\"text-align: right;\">\n",
              "      <th></th>\n",
              "      <th>acc</th>\n",
              "      <th>date</th>\n",
              "      <th>PID</th>\n",
              "      <th>day</th>\n",
              "      <th>Prevdate</th>\n",
              "      <th>T2date</th>\n",
              "      <th>T3date</th>\n",
              "      <th>DayDiff</th>\n",
              "      <th>DayDiff2</th>\n",
              "      <th>DayDiff3</th>\n",
              "    </tr>\n",
              "  </thead>\n",
              "  <tbody>\n",
              "    <tr>\n",
              "      <th>27460</th>\n",
              "      <td>256000000000</td>\n",
              "      <td>2019-12-31 11:09:47.722</td>\n",
              "      <td>T0LZ</td>\n",
              "      <td>2019-12-31</td>\n",
              "      <td>2019-12-31</td>\n",
              "      <td>2019-12-30</td>\n",
              "      <td>2019-12-30</td>\n",
              "      <td>0.0</td>\n",
              "      <td>1.0</td>\n",
              "      <td>1.0</td>\n",
              "    </tr>\n",
              "    <tr>\n",
              "      <th>533</th>\n",
              "      <td>256312290313</td>\n",
              "      <td>2019-12-20 12:07:55.368</td>\n",
              "      <td>80G0</td>\n",
              "      <td>2019-12-20</td>\n",
              "      <td>2019-12-20</td>\n",
              "      <td>2019-12-20</td>\n",
              "      <td>2019-12-20</td>\n",
              "      <td>0.0</td>\n",
              "      <td>0.0</td>\n",
              "      <td>0.0</td>\n",
              "    </tr>\n",
              "    <tr>\n",
              "      <th>4861</th>\n",
              "      <td>256393100610</td>\n",
              "      <td>2019-12-31 08:44:22.591</td>\n",
              "      <td>80G0</td>\n",
              "      <td>2019-12-31</td>\n",
              "      <td>2019-12-31</td>\n",
              "      <td>2019-12-31</td>\n",
              "      <td>2019-12-31</td>\n",
              "      <td>0.0</td>\n",
              "      <td>0.0</td>\n",
              "      <td>0.0</td>\n",
              "    </tr>\n",
              "    <tr>\n",
              "      <th>36667</th>\n",
              "      <td>256393216521</td>\n",
              "      <td>2019-12-04 08:54:35.026</td>\n",
              "      <td>93AI</td>\n",
              "      <td>2019-12-04</td>\n",
              "      <td>2019-12-04</td>\n",
              "      <td>2019-12-04</td>\n",
              "      <td>2019-12-04</td>\n",
              "      <td>0.0</td>\n",
              "      <td>0.0</td>\n",
              "      <td>0.0</td>\n",
              "    </tr>\n",
              "    <tr>\n",
              "      <th>12407</th>\n",
              "      <td>256700117509</td>\n",
              "      <td>2019-12-20 16:03:33.725</td>\n",
              "      <td>WLIW</td>\n",
              "      <td>2019-12-20</td>\n",
              "      <td>2019-11-16</td>\n",
              "      <td>2019-11-01</td>\n",
              "      <td>NaN</td>\n",
              "      <td>34.0</td>\n",
              "      <td>49.0</td>\n",
              "      <td>NaN</td>\n",
              "    </tr>\n",
              "    <tr>\n",
              "      <th>9900</th>\n",
              "      <td>256700126270</td>\n",
              "      <td>2019-12-29 05:24:12.080</td>\n",
              "      <td>WLIW</td>\n",
              "      <td>2019-12-29</td>\n",
              "      <td>2019-12-27</td>\n",
              "      <td>2019-12-27</td>\n",
              "      <td>2019-12-20</td>\n",
              "      <td>2.0</td>\n",
              "      <td>2.0</td>\n",
              "      <td>9.0</td>\n",
              "    </tr>\n",
              "    <tr>\n",
              "      <th>30917</th>\n",
              "      <td>256700134235</td>\n",
              "      <td>2019-12-26 17:13:09.209</td>\n",
              "      <td>P7R7</td>\n",
              "      <td>2019-12-26</td>\n",
              "      <td>2019-12-19</td>\n",
              "      <td>2019-12-18</td>\n",
              "      <td>2019-12-11</td>\n",
              "      <td>7.0</td>\n",
              "      <td>8.0</td>\n",
              "      <td>15.0</td>\n",
              "    </tr>\n",
              "    <tr>\n",
              "      <th>27261</th>\n",
              "      <td>256700153047</td>\n",
              "      <td>2019-12-17 14:09:41.556</td>\n",
              "      <td>T0LZ</td>\n",
              "      <td>2019-12-17</td>\n",
              "      <td>2019-12-17</td>\n",
              "      <td>2019-12-15</td>\n",
              "      <td>2019-12-15</td>\n",
              "      <td>0.0</td>\n",
              "      <td>2.0</td>\n",
              "      <td>2.0</td>\n",
              "    </tr>\n",
              "    <tr>\n",
              "      <th>33907</th>\n",
              "      <td>256700175005</td>\n",
              "      <td>2019-12-21 11:25:42.935</td>\n",
              "      <td>DJGS</td>\n",
              "      <td>2019-12-21</td>\n",
              "      <td>2019-12-21</td>\n",
              "      <td>2019-12-19</td>\n",
              "      <td>2019-12-19</td>\n",
              "      <td>0.0</td>\n",
              "      <td>2.0</td>\n",
              "      <td>2.0</td>\n",
              "    </tr>\n",
              "    <tr>\n",
              "      <th>6704</th>\n",
              "      <td>256700183880</td>\n",
              "      <td>2019-12-21 05:39:41.458</td>\n",
              "      <td>80G0</td>\n",
              "      <td>2019-12-21</td>\n",
              "      <td>2019-12-20</td>\n",
              "      <td>2019-12-20</td>\n",
              "      <td>2019-12-14</td>\n",
              "      <td>1.0</td>\n",
              "      <td>1.0</td>\n",
              "      <td>7.0</td>\n",
              "    </tr>\n",
              "  </tbody>\n",
              "</table>\n",
              "</div>"
            ],
            "text/plain": [
              "                acc                    date   PID  ... DayDiff DayDiff2 DayDiff3\n",
              "27460  256000000000 2019-12-31 11:09:47.722  T0LZ  ...     0.0      1.0      1.0\n",
              "533    256312290313 2019-12-20 12:07:55.368  80G0  ...     0.0      0.0      0.0\n",
              "4861   256393100610 2019-12-31 08:44:22.591  80G0  ...     0.0      0.0      0.0\n",
              "36667  256393216521 2019-12-04 08:54:35.026  93AI  ...     0.0      0.0      0.0\n",
              "12407  256700117509 2019-12-20 16:03:33.725  WLIW  ...    34.0     49.0      NaN\n",
              "9900   256700126270 2019-12-29 05:24:12.080  WLIW  ...     2.0      2.0      9.0\n",
              "30917  256700134235 2019-12-26 17:13:09.209  P7R7  ...     7.0      8.0     15.0\n",
              "27261  256700153047 2019-12-17 14:09:41.556  T0LZ  ...     0.0      2.0      2.0\n",
              "33907  256700175005 2019-12-21 11:25:42.935  DJGS  ...     0.0      2.0      2.0\n",
              "6704   256700183880 2019-12-21 05:39:41.458  80G0  ...     1.0      1.0      7.0\n",
              "\n",
              "[10 rows x 10 columns]"
            ]
          },
          "metadata": {
            "tags": []
          },
          "execution_count": 213
        }
      ]
    },
    {
      "cell_type": "code",
      "metadata": {
        "id": "xp6PgW4jmgm2",
        "colab": {
          "base_uri": "https://localhost:8080/",
          "height": 529
        },
        "outputId": "037fb514-9f59-49b6-9237-eac672f801e7"
      },
      "source": [
        "data_day_order_last.head(10)"
      ],
      "execution_count": null,
      "outputs": [
        {
          "output_type": "execute_result",
          "data": {
            "text/html": [
              "<div>\n",
              "<style scoped>\n",
              "    .dataframe tbody tr th:only-of-type {\n",
              "        vertical-align: middle;\n",
              "    }\n",
              "\n",
              "    .dataframe tbody tr th {\n",
              "        vertical-align: top;\n",
              "    }\n",
              "\n",
              "    .dataframe thead th {\n",
              "        text-align: right;\n",
              "    }\n",
              "</style>\n",
              "<table border=\"1\" class=\"dataframe\">\n",
              "  <thead>\n",
              "    <tr style=\"text-align: right;\">\n",
              "      <th></th>\n",
              "      <th>acc</th>\n",
              "      <th>date</th>\n",
              "      <th>PID</th>\n",
              "      <th>day</th>\n",
              "      <th>Prevdate</th>\n",
              "      <th>T2date</th>\n",
              "      <th>T3date</th>\n",
              "      <th>DayDiff</th>\n",
              "      <th>DayDiff2</th>\n",
              "      <th>DayDiff3</th>\n",
              "    </tr>\n",
              "  </thead>\n",
              "  <tbody>\n",
              "    <tr>\n",
              "      <th>27460</th>\n",
              "      <td>256000000000</td>\n",
              "      <td>2019-12-31 11:09:47.722</td>\n",
              "      <td>T0LZ</td>\n",
              "      <td>2019-12-31</td>\n",
              "      <td>2019-12-31</td>\n",
              "      <td>2019-12-30</td>\n",
              "      <td>2019-12-30</td>\n",
              "      <td>0.0</td>\n",
              "      <td>1.0</td>\n",
              "      <td>1.0</td>\n",
              "    </tr>\n",
              "    <tr>\n",
              "      <th>533</th>\n",
              "      <td>256312290313</td>\n",
              "      <td>2019-12-20 12:07:55.368</td>\n",
              "      <td>80G0</td>\n",
              "      <td>2019-12-20</td>\n",
              "      <td>2019-12-20</td>\n",
              "      <td>2019-12-20</td>\n",
              "      <td>2019-12-20</td>\n",
              "      <td>0.0</td>\n",
              "      <td>0.0</td>\n",
              "      <td>0.0</td>\n",
              "    </tr>\n",
              "    <tr>\n",
              "      <th>4861</th>\n",
              "      <td>256393100610</td>\n",
              "      <td>2019-12-31 08:44:22.591</td>\n",
              "      <td>80G0</td>\n",
              "      <td>2019-12-31</td>\n",
              "      <td>2019-12-31</td>\n",
              "      <td>2019-12-31</td>\n",
              "      <td>2019-12-31</td>\n",
              "      <td>0.0</td>\n",
              "      <td>0.0</td>\n",
              "      <td>0.0</td>\n",
              "    </tr>\n",
              "    <tr>\n",
              "      <th>36667</th>\n",
              "      <td>256393216521</td>\n",
              "      <td>2019-12-04 08:54:35.026</td>\n",
              "      <td>93AI</td>\n",
              "      <td>2019-12-04</td>\n",
              "      <td>2019-12-04</td>\n",
              "      <td>2019-12-04</td>\n",
              "      <td>2019-12-04</td>\n",
              "      <td>0.0</td>\n",
              "      <td>0.0</td>\n",
              "      <td>0.0</td>\n",
              "    </tr>\n",
              "    <tr>\n",
              "      <th>12407</th>\n",
              "      <td>256700117509</td>\n",
              "      <td>2019-12-20 16:03:33.725</td>\n",
              "      <td>WLIW</td>\n",
              "      <td>2019-12-20</td>\n",
              "      <td>2019-11-16</td>\n",
              "      <td>2019-11-01</td>\n",
              "      <td>NaN</td>\n",
              "      <td>34.0</td>\n",
              "      <td>49.0</td>\n",
              "      <td>NaN</td>\n",
              "    </tr>\n",
              "    <tr>\n",
              "      <th>9900</th>\n",
              "      <td>256700126270</td>\n",
              "      <td>2019-12-29 05:24:12.080</td>\n",
              "      <td>WLIW</td>\n",
              "      <td>2019-12-29</td>\n",
              "      <td>2019-12-27</td>\n",
              "      <td>2019-12-27</td>\n",
              "      <td>2019-12-20</td>\n",
              "      <td>2.0</td>\n",
              "      <td>2.0</td>\n",
              "      <td>9.0</td>\n",
              "    </tr>\n",
              "    <tr>\n",
              "      <th>30917</th>\n",
              "      <td>256700134235</td>\n",
              "      <td>2019-12-26 17:13:09.209</td>\n",
              "      <td>P7R7</td>\n",
              "      <td>2019-12-26</td>\n",
              "      <td>2019-12-19</td>\n",
              "      <td>2019-12-18</td>\n",
              "      <td>2019-12-11</td>\n",
              "      <td>7.0</td>\n",
              "      <td>8.0</td>\n",
              "      <td>15.0</td>\n",
              "    </tr>\n",
              "    <tr>\n",
              "      <th>27261</th>\n",
              "      <td>256700153047</td>\n",
              "      <td>2019-12-17 14:09:41.556</td>\n",
              "      <td>T0LZ</td>\n",
              "      <td>2019-12-17</td>\n",
              "      <td>2019-12-17</td>\n",
              "      <td>2019-12-15</td>\n",
              "      <td>2019-12-15</td>\n",
              "      <td>0.0</td>\n",
              "      <td>2.0</td>\n",
              "      <td>2.0</td>\n",
              "    </tr>\n",
              "    <tr>\n",
              "      <th>33907</th>\n",
              "      <td>256700175005</td>\n",
              "      <td>2019-12-21 11:25:42.935</td>\n",
              "      <td>DJGS</td>\n",
              "      <td>2019-12-21</td>\n",
              "      <td>2019-12-21</td>\n",
              "      <td>2019-12-19</td>\n",
              "      <td>2019-12-19</td>\n",
              "      <td>0.0</td>\n",
              "      <td>2.0</td>\n",
              "      <td>2.0</td>\n",
              "    </tr>\n",
              "    <tr>\n",
              "      <th>6704</th>\n",
              "      <td>256700183880</td>\n",
              "      <td>2019-12-21 05:39:41.458</td>\n",
              "      <td>80G0</td>\n",
              "      <td>2019-12-21</td>\n",
              "      <td>2019-12-20</td>\n",
              "      <td>2019-12-20</td>\n",
              "      <td>2019-12-14</td>\n",
              "      <td>1.0</td>\n",
              "      <td>1.0</td>\n",
              "      <td>7.0</td>\n",
              "    </tr>\n",
              "  </tbody>\n",
              "</table>\n",
              "</div>"
            ],
            "text/plain": [
              "                acc                    date   PID  ... DayDiff DayDiff2 DayDiff3\n",
              "27460  256000000000 2019-12-31 11:09:47.722  T0LZ  ...     0.0      1.0      1.0\n",
              "533    256312290313 2019-12-20 12:07:55.368  80G0  ...     0.0      0.0      0.0\n",
              "4861   256393100610 2019-12-31 08:44:22.591  80G0  ...     0.0      0.0      0.0\n",
              "36667  256393216521 2019-12-04 08:54:35.026  93AI  ...     0.0      0.0      0.0\n",
              "12407  256700117509 2019-12-20 16:03:33.725  WLIW  ...    34.0     49.0      NaN\n",
              "9900   256700126270 2019-12-29 05:24:12.080  WLIW  ...     2.0      2.0      9.0\n",
              "30917  256700134235 2019-12-26 17:13:09.209  P7R7  ...     7.0      8.0     15.0\n",
              "27261  256700153047 2019-12-17 14:09:41.556  T0LZ  ...     0.0      2.0      2.0\n",
              "33907  256700175005 2019-12-21 11:25:42.935  DJGS  ...     0.0      2.0      2.0\n",
              "6704   256700183880 2019-12-21 05:39:41.458  80G0  ...     1.0      1.0      7.0\n",
              "\n",
              "[10 rows x 10 columns]"
            ]
          },
          "metadata": {
            "tags": []
          },
          "execution_count": 214
        }
      ]
    },
    {
      "cell_type": "code",
      "metadata": {
        "id": "GV0FNEbvmmLz"
      },
      "source": [
        "data_day_order_last = data_day_order_last.dropna()"
      ],
      "execution_count": null,
      "outputs": []
    },
    {
      "cell_type": "code",
      "metadata": {
        "id": "asBWekzHmriL"
      },
      "source": [
        "data_day_order_last = pd.merge(data_day_order_last, data_day_diff, on='acc')"
      ],
      "execution_count": null,
      "outputs": []
    },
    {
      "cell_type": "code",
      "metadata": {
        "id": "iPuXi3mwm0ml"
      },
      "source": [
        "data_user = pd.merge(data_user, data_day_order_last[['acc','DayDiff','DayDiff2','DayDiff3','DayDiffMean','DayDiffStd']], on='acc')"
      ],
      "execution_count": null,
      "outputs": []
    },
    {
      "cell_type": "code",
      "metadata": {
        "id": "wXMYJXJcm9Ia",
        "colab": {
          "base_uri": "https://localhost:8080/",
          "height": 309
        },
        "outputId": "fbda77bc-5f16-4c14-d28b-a1cb4eccdb7e"
      },
      "source": [
        "data_user.head()"
      ],
      "execution_count": null,
      "outputs": [
        {
          "output_type": "execute_result",
          "data": {
            "text/html": [
              "<div>\n",
              "<style scoped>\n",
              "    .dataframe tbody tr th:only-of-type {\n",
              "        vertical-align: middle;\n",
              "    }\n",
              "\n",
              "    .dataframe tbody tr th {\n",
              "        vertical-align: top;\n",
              "    }\n",
              "\n",
              "    .dataframe thead th {\n",
              "        text-align: right;\n",
              "    }\n",
              "</style>\n",
              "<table border=\"1\" class=\"dataframe\">\n",
              "  <thead>\n",
              "    <tr style=\"text-align: right;\">\n",
              "      <th></th>\n",
              "      <th>acc</th>\n",
              "      <th>NextPurchaseDay</th>\n",
              "      <th>Recency</th>\n",
              "      <th>RecencyCluster</th>\n",
              "      <th>Frequency</th>\n",
              "      <th>FrequencyCluster</th>\n",
              "      <th>OverallScore</th>\n",
              "      <th>Segment</th>\n",
              "      <th>DayDiff</th>\n",
              "      <th>DayDiff2</th>\n",
              "      <th>DayDiff3</th>\n",
              "      <th>DayDiffMean</th>\n",
              "      <th>DayDiffStd</th>\n",
              "    </tr>\n",
              "  </thead>\n",
              "  <tbody>\n",
              "    <tr>\n",
              "      <th>0</th>\n",
              "      <td>256704005298</td>\n",
              "      <td>12.0</td>\n",
              "      <td>10</td>\n",
              "      <td>2</td>\n",
              "      <td>9</td>\n",
              "      <td>0</td>\n",
              "      <td>2</td>\n",
              "      <td>Low-Value</td>\n",
              "      <td>1.0</td>\n",
              "      <td>8.0</td>\n",
              "      <td>15.0</td>\n",
              "      <td>4.500000</td>\n",
              "      <td>3.207135</td>\n",
              "    </tr>\n",
              "    <tr>\n",
              "      <th>1</th>\n",
              "      <td>256775875248</td>\n",
              "      <td>14.0</td>\n",
              "      <td>13</td>\n",
              "      <td>2</td>\n",
              "      <td>8</td>\n",
              "      <td>0</td>\n",
              "      <td>2</td>\n",
              "      <td>Low-Value</td>\n",
              "      <td>19.0</td>\n",
              "      <td>26.0</td>\n",
              "      <td>32.0</td>\n",
              "      <td>6.428571</td>\n",
              "      <td>5.883795</td>\n",
              "    </tr>\n",
              "    <tr>\n",
              "      <th>2</th>\n",
              "      <td>256702433638</td>\n",
              "      <td>12.0</td>\n",
              "      <td>10</td>\n",
              "      <td>2</td>\n",
              "      <td>15</td>\n",
              "      <td>0</td>\n",
              "      <td>2</td>\n",
              "      <td>Low-Value</td>\n",
              "      <td>1.0</td>\n",
              "      <td>1.0</td>\n",
              "      <td>7.0</td>\n",
              "      <td>3.071429</td>\n",
              "      <td>2.973325</td>\n",
              "    </tr>\n",
              "    <tr>\n",
              "      <th>3</th>\n",
              "      <td>256773743973</td>\n",
              "      <td>12.0</td>\n",
              "      <td>10</td>\n",
              "      <td>2</td>\n",
              "      <td>14</td>\n",
              "      <td>0</td>\n",
              "      <td>2</td>\n",
              "      <td>Low-Value</td>\n",
              "      <td>1.0</td>\n",
              "      <td>1.0</td>\n",
              "      <td>8.0</td>\n",
              "      <td>3.307692</td>\n",
              "      <td>3.146019</td>\n",
              "    </tr>\n",
              "    <tr>\n",
              "      <th>4</th>\n",
              "      <td>256784626274</td>\n",
              "      <td>12.0</td>\n",
              "      <td>10</td>\n",
              "      <td>2</td>\n",
              "      <td>13</td>\n",
              "      <td>0</td>\n",
              "      <td>2</td>\n",
              "      <td>Low-Value</td>\n",
              "      <td>1.0</td>\n",
              "      <td>7.0</td>\n",
              "      <td>8.0</td>\n",
              "      <td>3.583333</td>\n",
              "      <td>4.010403</td>\n",
              "    </tr>\n",
              "  </tbody>\n",
              "</table>\n",
              "</div>"
            ],
            "text/plain": [
              "            acc  NextPurchaseDay  Recency  ...  DayDiff3  DayDiffMean  DayDiffStd\n",
              "0  256704005298             12.0       10  ...      15.0     4.500000    3.207135\n",
              "1  256775875248             14.0       13  ...      32.0     6.428571    5.883795\n",
              "2  256702433638             12.0       10  ...       7.0     3.071429    2.973325\n",
              "3  256773743973             12.0       10  ...       8.0     3.307692    3.146019\n",
              "4  256784626274             12.0       10  ...       8.0     3.583333    4.010403\n",
              "\n",
              "[5 rows x 13 columns]"
            ]
          },
          "metadata": {
            "tags": []
          },
          "execution_count": 218
        }
      ]
    },
    {
      "cell_type": "code",
      "metadata": {
        "id": "QFiQcTn9nEug",
        "colab": {
          "base_uri": "https://localhost:8080/",
          "height": 34
        },
        "outputId": "348e88a4-592d-45e9-9f5e-27ee4b294105"
      },
      "source": [
        "len(data_user)"
      ],
      "execution_count": null,
      "outputs": [
        {
          "output_type": "execute_result",
          "data": {
            "text/plain": [
              "1221"
            ]
          },
          "metadata": {
            "tags": []
          },
          "execution_count": 219
        }
      ]
    },
    {
      "cell_type": "code",
      "metadata": {
        "id": "h1RtBMsqnO-z"
      },
      "source": [
        "#Grouping the label"
      ],
      "execution_count": null,
      "outputs": []
    },
    {
      "cell_type": "code",
      "metadata": {
        "id": "_9lYOfCEnRxN"
      },
      "source": [
        "data_class = data_user.copy()"
      ],
      "execution_count": null,
      "outputs": []
    },
    {
      "cell_type": "code",
      "metadata": {
        "id": "Jwa2r8a4nVWw"
      },
      "source": [
        "data_class = pd.get_dummies(data_class)"
      ],
      "execution_count": null,
      "outputs": []
    },
    {
      "cell_type": "code",
      "metadata": {
        "id": "v80UddUDnb3s",
        "colab": {
          "base_uri": "https://localhost:8080/",
          "height": 396
        },
        "outputId": "dad44273-3085-400b-df61-0c32cf5f4dcf"
      },
      "source": [
        "data_class.tail(10)"
      ],
      "execution_count": null,
      "outputs": [
        {
          "output_type": "execute_result",
          "data": {
            "text/html": [
              "<div>\n",
              "<style scoped>\n",
              "    .dataframe tbody tr th:only-of-type {\n",
              "        vertical-align: middle;\n",
              "    }\n",
              "\n",
              "    .dataframe tbody tr th {\n",
              "        vertical-align: top;\n",
              "    }\n",
              "\n",
              "    .dataframe thead th {\n",
              "        text-align: right;\n",
              "    }\n",
              "</style>\n",
              "<table border=\"1\" class=\"dataframe\">\n",
              "  <thead>\n",
              "    <tr style=\"text-align: right;\">\n",
              "      <th></th>\n",
              "      <th>acc</th>\n",
              "      <th>NextPurchaseDay</th>\n",
              "      <th>Recency</th>\n",
              "      <th>RecencyCluster</th>\n",
              "      <th>Frequency</th>\n",
              "      <th>FrequencyCluster</th>\n",
              "      <th>OverallScore</th>\n",
              "      <th>DayDiff</th>\n",
              "      <th>DayDiff2</th>\n",
              "      <th>DayDiff3</th>\n",
              "      <th>DayDiffMean</th>\n",
              "      <th>DayDiffStd</th>\n",
              "      <th>Segment_High-Value</th>\n",
              "      <th>Segment_Low-Value</th>\n",
              "      <th>Segment_Mid-Value</th>\n",
              "    </tr>\n",
              "  </thead>\n",
              "  <tbody>\n",
              "    <tr>\n",
              "      <th>1211</th>\n",
              "      <td>256708395405</td>\n",
              "      <td>0.0</td>\n",
              "      <td>0</td>\n",
              "      <td>3</td>\n",
              "      <td>158</td>\n",
              "      <td>1</td>\n",
              "      <td>4</td>\n",
              "      <td>1.0</td>\n",
              "      <td>1.0</td>\n",
              "      <td>1.0</td>\n",
              "      <td>0.382166</td>\n",
              "      <td>0.711941</td>\n",
              "      <td>0</td>\n",
              "      <td>0</td>\n",
              "      <td>1</td>\n",
              "    </tr>\n",
              "    <tr>\n",
              "      <th>1212</th>\n",
              "      <td>256757801448</td>\n",
              "      <td>999.0</td>\n",
              "      <td>32</td>\n",
              "      <td>1</td>\n",
              "      <td>186</td>\n",
              "      <td>1</td>\n",
              "      <td>2</td>\n",
              "      <td>0.0</td>\n",
              "      <td>0.0</td>\n",
              "      <td>0.0</td>\n",
              "      <td>0.151351</td>\n",
              "      <td>0.943404</td>\n",
              "      <td>0</td>\n",
              "      <td>1</td>\n",
              "      <td>0</td>\n",
              "    </tr>\n",
              "    <tr>\n",
              "      <th>1213</th>\n",
              "      <td>256779227335</td>\n",
              "      <td>999.0</td>\n",
              "      <td>33</td>\n",
              "      <td>1</td>\n",
              "      <td>133</td>\n",
              "      <td>1</td>\n",
              "      <td>2</td>\n",
              "      <td>1.0</td>\n",
              "      <td>1.0</td>\n",
              "      <td>14.0</td>\n",
              "      <td>0.204545</td>\n",
              "      <td>1.189898</td>\n",
              "      <td>0</td>\n",
              "      <td>1</td>\n",
              "      <td>0</td>\n",
              "    </tr>\n",
              "    <tr>\n",
              "      <th>1214</th>\n",
              "      <td>256700671048</td>\n",
              "      <td>12.0</td>\n",
              "      <td>11</td>\n",
              "      <td>2</td>\n",
              "      <td>963</td>\n",
              "      <td>2</td>\n",
              "      <td>4</td>\n",
              "      <td>0.0</td>\n",
              "      <td>0.0</td>\n",
              "      <td>0.0</td>\n",
              "      <td>0.043659</td>\n",
              "      <td>1.041374</td>\n",
              "      <td>0</td>\n",
              "      <td>0</td>\n",
              "      <td>1</td>\n",
              "    </tr>\n",
              "    <tr>\n",
              "      <th>1215</th>\n",
              "      <td>256704708797</td>\n",
              "      <td>0.0</td>\n",
              "      <td>0</td>\n",
              "      <td>3</td>\n",
              "      <td>711</td>\n",
              "      <td>2</td>\n",
              "      <td>5</td>\n",
              "      <td>0.0</td>\n",
              "      <td>0.0</td>\n",
              "      <td>0.0</td>\n",
              "      <td>0.084507</td>\n",
              "      <td>0.429730</td>\n",
              "      <td>1</td>\n",
              "      <td>0</td>\n",
              "      <td>0</td>\n",
              "    </tr>\n",
              "    <tr>\n",
              "      <th>1216</th>\n",
              "      <td>256781089523</td>\n",
              "      <td>0.0</td>\n",
              "      <td>0</td>\n",
              "      <td>3</td>\n",
              "      <td>1136</td>\n",
              "      <td>2</td>\n",
              "      <td>5</td>\n",
              "      <td>0.0</td>\n",
              "      <td>0.0</td>\n",
              "      <td>0.0</td>\n",
              "      <td>0.052863</td>\n",
              "      <td>0.235381</td>\n",
              "      <td>1</td>\n",
              "      <td>0</td>\n",
              "      <td>0</td>\n",
              "    </tr>\n",
              "    <tr>\n",
              "      <th>1217</th>\n",
              "      <td>256701433663</td>\n",
              "      <td>0.0</td>\n",
              "      <td>0</td>\n",
              "      <td>3</td>\n",
              "      <td>2242</td>\n",
              "      <td>3</td>\n",
              "      <td>6</td>\n",
              "      <td>0.0</td>\n",
              "      <td>0.0</td>\n",
              "      <td>0.0</td>\n",
              "      <td>0.011156</td>\n",
              "      <td>0.105053</td>\n",
              "      <td>1</td>\n",
              "      <td>0</td>\n",
              "      <td>0</td>\n",
              "    </tr>\n",
              "    <tr>\n",
              "      <th>1218</th>\n",
              "      <td>256773668705</td>\n",
              "      <td>0.0</td>\n",
              "      <td>0</td>\n",
              "      <td>3</td>\n",
              "      <td>2216</td>\n",
              "      <td>3</td>\n",
              "      <td>6</td>\n",
              "      <td>0.0</td>\n",
              "      <td>0.0</td>\n",
              "      <td>0.0</td>\n",
              "      <td>0.027088</td>\n",
              "      <td>0.165135</td>\n",
              "      <td>1</td>\n",
              "      <td>0</td>\n",
              "      <td>0</td>\n",
              "    </tr>\n",
              "    <tr>\n",
              "      <th>1219</th>\n",
              "      <td>256702652564</td>\n",
              "      <td>3.0</td>\n",
              "      <td>0</td>\n",
              "      <td>3</td>\n",
              "      <td>1658</td>\n",
              "      <td>3</td>\n",
              "      <td>6</td>\n",
              "      <td>0.0</td>\n",
              "      <td>0.0</td>\n",
              "      <td>0.0</td>\n",
              "      <td>0.033193</td>\n",
              "      <td>0.182532</td>\n",
              "      <td>1</td>\n",
              "      <td>0</td>\n",
              "      <td>0</td>\n",
              "    </tr>\n",
              "    <tr>\n",
              "      <th>1220</th>\n",
              "      <td>256784673753</td>\n",
              "      <td>37.0</td>\n",
              "      <td>25</td>\n",
              "      <td>1</td>\n",
              "      <td>1808</td>\n",
              "      <td>3</td>\n",
              "      <td>4</td>\n",
              "      <td>0.0</td>\n",
              "      <td>0.0</td>\n",
              "      <td>0.0</td>\n",
              "      <td>0.017709</td>\n",
              "      <td>0.140071</td>\n",
              "      <td>0</td>\n",
              "      <td>0</td>\n",
              "      <td>1</td>\n",
              "    </tr>\n",
              "  </tbody>\n",
              "</table>\n",
              "</div>"
            ],
            "text/plain": [
              "               acc  NextPurchaseDay  ...  Segment_Low-Value  Segment_Mid-Value\n",
              "1211  256708395405              0.0  ...                  0                  1\n",
              "1212  256757801448            999.0  ...                  1                  0\n",
              "1213  256779227335            999.0  ...                  1                  0\n",
              "1214  256700671048             12.0  ...                  0                  1\n",
              "1215  256704708797              0.0  ...                  0                  0\n",
              "1216  256781089523              0.0  ...                  0                  0\n",
              "1217  256701433663              0.0  ...                  0                  0\n",
              "1218  256773668705              0.0  ...                  0                  0\n",
              "1219  256702652564              3.0  ...                  0                  0\n",
              "1220  256784673753             37.0  ...                  0                  1\n",
              "\n",
              "[10 rows x 15 columns]"
            ]
          },
          "metadata": {
            "tags": []
          },
          "execution_count": 223
        }
      ]
    },
    {
      "cell_type": "code",
      "metadata": {
        "id": "2hdO9jaOnjcJ",
        "colab": {
          "base_uri": "https://localhost:8080/",
          "height": 170
        },
        "outputId": "04375cdf-2a23-4d4b-f192-d4474e00dc8e"
      },
      "source": [
        "data_user.NextPurchaseDay.describe()"
      ],
      "execution_count": null,
      "outputs": [
        {
          "output_type": "execute_result",
          "data": {
            "text/plain": [
              "count    1221.000000\n",
              "mean      291.450450\n",
              "std       440.876636\n",
              "min         0.000000\n",
              "25%         7.000000\n",
              "50%        19.000000\n",
              "75%       999.000000\n",
              "max       999.000000\n",
              "Name: NextPurchaseDay, dtype: float64"
            ]
          },
          "metadata": {
            "tags": []
          },
          "execution_count": 224
        }
      ]
    },
    {
      "cell_type": "code",
      "metadata": {
        "id": "mcDL69wDnl6I"
      },
      "source": [
        "data_class['NextPurchaseDayRange'] = 2\n",
        "data_class.loc[data_class.NextPurchaseDay>20,'NextPurchaseDayRange'] = 1\n",
        "data_class.loc[data_class.NextPurchaseDay>50,'NextPurchaseDayRange'] = 0"
      ],
      "execution_count": null,
      "outputs": []
    },
    {
      "cell_type": "code",
      "metadata": {
        "id": "z7GSuP1tnwws",
        "colab": {
          "base_uri": "https://localhost:8080/",
          "height": 85
        },
        "outputId": "e2cf1964-a0d0-4f59-81b1-808d704ea9a3"
      },
      "source": [
        "data_class.NextPurchaseDayRange.value_counts()/len(data_user)"
      ],
      "execution_count": null,
      "outputs": [
        {
          "output_type": "execute_result",
          "data": {
            "text/plain": [
              "2    0.511057\n",
              "0    0.324324\n",
              "1    0.164619\n",
              "Name: NextPurchaseDayRange, dtype: float64"
            ]
          },
          "metadata": {
            "tags": []
          },
          "execution_count": 226
        }
      ]
    },
    {
      "cell_type": "code",
      "metadata": {
        "id": "jSFPSzFjn2Y9",
        "colab": {
          "base_uri": "https://localhost:8080/",
          "height": 1000
        },
        "outputId": "edb02691-d376-4047-9dc8-994c5b1866f3"
      },
      "source": [
        "corr = data_class[data_class.columns].corr()\n",
        "plt.figure(figsize = (30,20))\n",
        "sns.heatmap(corr, annot = True, linewidths=0.2, fmt=\".2f\")"
      ],
      "execution_count": null,
      "outputs": [
        {
          "output_type": "execute_result",
          "data": {
            "text/plain": [
              "<matplotlib.axes._subplots.AxesSubplot at 0x7f8229669518>"
            ]
          },
          "metadata": {
            "tags": []
          },
          "execution_count": 227
        },
        {
          "output_type": "display_data",
          "data": {
            "image/png": "[encoded data removed]",
            "text/plain": [
              "<Figure size 2160x1440 with 2 Axes>"
            ]
          },
          "metadata": {
            "tags": []
          }
        }
      ]
    },
    {
      "cell_type": "code",
      "metadata": {
        "id": "Lg0GNIgbn-tv"
      },
      "source": [
        "data_class = data_class.drop('NextPurchaseDay',axis=1)"
      ],
      "execution_count": null,
      "outputs": []
    },
    {
      "cell_type": "code",
      "metadata": {
        "id": "_EHX9I1zoCeE",
        "colab": {
          "base_uri": "https://localhost:8080/",
          "height": 34
        },
        "outputId": "8ca62b15-86a4-4261-fd7c-36f3c73f0407"
      },
      "source": [
        "len(data_class)"
      ],
      "execution_count": null,
      "outputs": [
        {
          "output_type": "execute_result",
          "data": {
            "text/plain": [
              "1221"
            ]
          },
          "metadata": {
            "tags": []
          },
          "execution_count": 240
        }
      ]
    },
    {
      "cell_type": "code",
      "metadata": {
        "id": "tXjQEPtYoHYe"
      },
      "source": [
        "X, y = data_class.drop('NextPurchaseDayRange',axis=1), data_class.NextPurchaseDayRange\n",
        "X_train, X_test, y_train, y_test = train_test_split(X, y, test_size=0.2, random_state=44)"
      ],
      "execution_count": null,
      "outputs": []
    },
    {
      "cell_type": "code",
      "metadata": {
        "id": "dl4-qfPB6fgd",
        "colab": {
          "base_uri": "https://localhost:8080/",
          "height": 34
        },
        "outputId": "f0207009-cc4f-44ab-b4c6-de0e509f2044"
      },
      "source": [
        "data_class.size"
      ],
      "execution_count": null,
      "outputs": [
        {
          "output_type": "execute_result",
          "data": {
            "text/plain": [
              "18315"
            ]
          },
          "metadata": {
            "tags": []
          },
          "execution_count": 257
        }
      ]
    },
    {
      "cell_type": "code",
      "metadata": {
        "id": "kHdaEnK9oQpY"
      },
      "source": [
        "models = []\n",
        "models.append((\"LR\",LogisticRegression()))\n",
        "models.append((\"NB\",GaussianNB()))\n",
        "models.append((\"RF\",RandomForestClassifier()))\n",
        "models.append((\"SVC\",SVC()))\n",
        "models.append((\"Dtree\",DecisionTreeClassifier()))\n",
        "models.append((\"XGB\",xgb.XGBClassifier()))\n",
        "models.append((\"KNN\",KNeighborsClassifier()))"
      ],
      "execution_count": null,
      "outputs": []
    },
    {
      "cell_type": "code",
      "metadata": {
        "id": "OWBGFe7GooY-",
        "colab": {
          "base_uri": "https://localhost:8080/",
          "height": 136
        },
        "outputId": "f800591a-fed7-414b-a6e3-cb5b4d7d78a8"
      },
      "source": [
        "for name,model in models:\n",
        "    kfold = KFold(n_splits=2, random_state=22)\n",
        "    cv_result = cross_val_score(model,X_train,y_train, cv = kfold,scoring = \"accuracy\")\n",
        "    print(name, cv_result)"
      ],
      "execution_count": null,
      "outputs": [
        {
          "output_type": "stream",
          "text": [
            "LR [0.5102459  0.51844262]\n",
            "NB [0.5102459  0.51639344]\n",
            "RF [0.73770492 0.73565574]\n",
            "SVC [0.5102459  0.51844262]\n",
            "Dtree [0.63319672 0.63729508]\n",
            "XGB [0.71516393 0.7192623 ]\n",
            "KNN [0.3852459  0.38319672]\n"
          ],
          "name": "stdout"
        }
      ]
    },
    {
      "cell_type": "code",
      "metadata": {
        "id": "lCEti2-mo6Og",
        "colab": {
          "base_uri": "https://localhost:8080/",
          "height": 51
        },
        "outputId": "9dc1ca09-46fe-4b68-dfbc-b5741c365bb7"
      },
      "source": [
        "xgb_model = xgb.XGBClassifier().fit(X_train, y_train)\n",
        "\n",
        "print('Accuracy of XGB classifier on training set: {:.2f}'\n",
        "       .format(xgb_model.score(X_train, y_train)))\n",
        "print('Accuracy of XGB classifier on test set: {:.2f}'\n",
        "       .format(xgb_model.score(X_test[X_train.columns], y_test)))"
      ],
      "execution_count": null,
      "outputs": [
        {
          "output_type": "stream",
          "text": [
            "Accuracy of XGB classifier on training set: 0.85\n",
            "Accuracy of XGB classifier on test set: 0.71\n"
          ],
          "name": "stdout"
        }
      ]
    },
    {
      "cell_type": "code",
      "metadata": {
        "id": "nbVIQ5E2pTbT"
      },
      "source": [
        "y_pred = xgb_model.predict(X_test)"
      ],
      "execution_count": null,
      "outputs": []
    },
    {
      "cell_type": "code",
      "metadata": {
        "id": "Ha1_WgMRpY4M",
        "colab": {
          "base_uri": "https://localhost:8080/",
          "height": 187
        },
        "outputId": "00112287-dd4f-4442-aac2-96aed61618f4"
      },
      "source": [
        "print (classification_report(y_test, y_pred))"
      ],
      "execution_count": null,
      "outputs": [
        {
          "output_type": "stream",
          "text": [
            "              precision    recall  f1-score   support\n",
            "\n",
            "           0       0.66      0.65      0.66        81\n",
            "           1       0.24      0.10      0.14        42\n",
            "           2       0.79      0.96      0.87       122\n",
            "\n",
            "    accuracy                           0.71       245\n",
            "   macro avg       0.56      0.57      0.55       245\n",
            "weighted avg       0.65      0.71      0.67       245\n",
            "\n"
          ],
          "name": "stdout"
        }
      ]
    },
    {
      "cell_type": "code",
      "metadata": {
        "id": "Tm-GIWIs5ZW2",
        "colab": {
          "base_uri": "https://localhost:8080/",
          "height": 34
        },
        "outputId": "5335c06a-e1e1-4673-808a-e430c8f3bb35"
      },
      "source": [
        "y_pred = xgb_model.predict(X)\n",
        "y_pred.size"
      ],
      "execution_count": null,
      "outputs": [
        {
          "output_type": "execute_result",
          "data": {
            "text/plain": [
              "1221"
            ]
          },
          "metadata": {
            "tags": []
          },
          "execution_count": 278
        }
      ]
    },
    {
      "cell_type": "code",
      "metadata": {
        "id": "gdV7xDHRq5Cg"
      },
      "source": [
        "prediction = pd.DataFrame(y_pred, columns=['Prediction'])\n",
        "#y_hats_df = pd.DataFrame(data = y_pred, columns = ['prediction'], index = X_test.index.copy())\n",
        "#df_out = pd.merge(train, y_hats_df, how = 'left', left_index = True, right_index = True)\n",
        "prediction.to_csv('submission.csv')"
      ],
      "execution_count": null,
      "outputs": []
    },
    {
      "cell_type": "code",
      "metadata": {
        "id": "oq8rC4Qn2oFG"
      },
      "source": [
        "from google.colab import files\n",
        "files.download('submission.csv') "
      ],
      "execution_count": null,
      "outputs": []
    }
  ]
}